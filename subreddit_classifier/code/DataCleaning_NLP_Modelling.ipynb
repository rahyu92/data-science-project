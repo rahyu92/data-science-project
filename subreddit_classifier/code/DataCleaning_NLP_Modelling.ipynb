{
 "cells": [
  {
   "cell_type": "markdown",
   "id": "930f6436",
   "metadata": {},
   "source": [
    "## Import Libraries "
   ]
  },
  {
   "cell_type": "code",
   "execution_count": 1,
   "id": "f4955908",
   "metadata": {},
   "outputs": [],
   "source": [
    "import pandas as pd\n",
    "import numpy as np\n",
    "import requests \n",
    "import datetime\n",
    "import time\n",
    "import re\n",
    "import string\n",
    "import seaborn as sns\n",
    "import matplotlib.pyplot as plt\n",
    "import nltk\n",
    "from wordcloud import WordCloud\n",
    "\n",
    "#importing the sklearns\n",
    "from sklearn.naive_bayes import MultinomialNB\n",
    "from nltk.corpus import stopwords\n",
    "from sklearn.feature_extraction.text import CountVectorizer\n",
    "from sklearn.pipeline import Pipeline\n",
    "from sklearn.model_selection import train_test_split, GridSearchCV\n",
    "from sklearn.linear_model import LogisticRegression\n",
    "from sklearn.metrics import confusion_matrix, plot_confusion_matrix, accuracy_score, plot_roc_curve, roc_auc_score, recall_score, precision_score, f1_score\n",
    "from nltk.stem import WordNetLemmatizer\n",
    "\n",
    "stopwords = nltk.corpus.stopwords.words('english')\n",
    "pd.set_option('display.max_colwidth', 100)"
   ]
  },
  {
   "cell_type": "code",
   "execution_count": 145,
   "id": "4c71259d",
   "metadata": {},
   "outputs": [
    {
     "data": {
      "text/html": [
       "<div>\n",
       "<style scoped>\n",
       "    .dataframe tbody tr th:only-of-type {\n",
       "        vertical-align: middle;\n",
       "    }\n",
       "\n",
       "    .dataframe tbody tr th {\n",
       "        vertical-align: top;\n",
       "    }\n",
       "\n",
       "    .dataframe thead th {\n",
       "        text-align: right;\n",
       "    }\n",
       "</style>\n",
       "<table border=\"1\" class=\"dataframe\">\n",
       "  <thead>\n",
       "    <tr style=\"text-align: right;\">\n",
       "      <th></th>\n",
       "      <th>Unnamed: 0</th>\n",
       "      <th>author</th>\n",
       "      <th>permalink</th>\n",
       "      <th>selftext</th>\n",
       "      <th>subreddit</th>\n",
       "      <th>title</th>\n",
       "    </tr>\n",
       "  </thead>\n",
       "  <tbody>\n",
       "    <tr>\n",
       "      <th>0</th>\n",
       "      <td>0</td>\n",
       "      <td>lanabi</td>\n",
       "      <td>/r/apple/comments/qlwqu4/goodnotes_5_has_its_first_ever_discount_possibly/</td>\n",
       "      <td>NaN</td>\n",
       "      <td>apple</td>\n",
       "      <td>GoodNotes 5 has its first ever discount possibly in an effort to win over disgruntled Notability...</td>\n",
       "    </tr>\n",
       "    <tr>\n",
       "      <th>1</th>\n",
       "      <td>1</td>\n",
       "      <td>spearson0</td>\n",
       "      <td>/r/apple/comments/qlwmpd/future_ipad_pro_and_macbook_pro_models_rumored_to/</td>\n",
       "      <td>NaN</td>\n",
       "      <td>apple</td>\n",
       "      <td>Future iPad Pro and MacBook Pro Models Rumored to Feature Ultra-Bright Double-Stack OLED Displays</td>\n",
       "    </tr>\n",
       "    <tr>\n",
       "      <th>2</th>\n",
       "      <td>2</td>\n",
       "      <td>walktall</td>\n",
       "      <td>/r/apple/comments/qlw32x/apple_in_talks_with_samsung_display_to_apply_oled/</td>\n",
       "      <td>NaN</td>\n",
       "      <td>apple</td>\n",
       "      <td>Apple in talks with Samsung Display to apply OLED to MacBook</td>\n",
       "    </tr>\n",
       "    <tr>\n",
       "      <th>3</th>\n",
       "      <td>3</td>\n",
       "      <td>walktall</td>\n",
       "      <td>/r/apple/comments/qlw2j5/apple_once_again_refers_to_unreleased_homeos_in/</td>\n",
       "      <td>NaN</td>\n",
       "      <td>apple</td>\n",
       "      <td>Apple Once Again Refers to Unreleased 'homeOS' in Job Listing</td>\n",
       "    </tr>\n",
       "    <tr>\n",
       "      <th>4</th>\n",
       "      <td>4</td>\n",
       "      <td>Alternative_Tip5572</td>\n",
       "      <td>/r/apple/comments/qlu52i/allah_khushian_kab_deta_hai_molana_tariq_jameel/</td>\n",
       "      <td>NaN</td>\n",
       "      <td>apple</td>\n",
       "      <td>Allah Khushian Kab Deta Hai – Molana Tariq Jameel Latest Bayan - Naat</td>\n",
       "    </tr>\n",
       "  </tbody>\n",
       "</table>\n",
       "</div>"
      ],
      "text/plain": [
       "   Unnamed: 0               author  \\\n",
       "0           0               lanabi   \n",
       "1           1            spearson0   \n",
       "2           2             walktall   \n",
       "3           3             walktall   \n",
       "4           4  Alternative_Tip5572   \n",
       "\n",
       "                                                                     permalink  \\\n",
       "0   /r/apple/comments/qlwqu4/goodnotes_5_has_its_first_ever_discount_possibly/   \n",
       "1  /r/apple/comments/qlwmpd/future_ipad_pro_and_macbook_pro_models_rumored_to/   \n",
       "2  /r/apple/comments/qlw32x/apple_in_talks_with_samsung_display_to_apply_oled/   \n",
       "3    /r/apple/comments/qlw2j5/apple_once_again_refers_to_unreleased_homeos_in/   \n",
       "4    /r/apple/comments/qlu52i/allah_khushian_kab_deta_hai_molana_tariq_jameel/   \n",
       "\n",
       "  selftext subreddit  \\\n",
       "0      NaN     apple   \n",
       "1      NaN     apple   \n",
       "2      NaN     apple   \n",
       "3      NaN     apple   \n",
       "4      NaN     apple   \n",
       "\n",
       "                                                                                                 title  \n",
       "0  GoodNotes 5 has its first ever discount possibly in an effort to win over disgruntled Notability...  \n",
       "1    Future iPad Pro and MacBook Pro Models Rumored to Feature Ultra-Bright Double-Stack OLED Displays  \n",
       "2                                         Apple in talks with Samsung Display to apply OLED to MacBook  \n",
       "3                                        Apple Once Again Refers to Unreleased 'homeOS' in Job Listing  \n",
       "4                                Allah Khushian Kab Deta Hai – Molana Tariq Jameel Latest Bayan - Naat  "
      ]
     },
     "execution_count": 145,
     "metadata": {},
     "output_type": "execute_result"
    }
   ],
   "source": [
    "df_apple_submission = pd.read_csv('../data/apple_submission.csv', low_memory=False)\n",
    "df_apple_submission.head()\n",
    "#load apple submission csv"
   ]
  },
  {
   "cell_type": "code",
   "execution_count": 132,
   "id": "4706497e",
   "metadata": {},
   "outputs": [
    {
     "data": {
      "text/html": [
       "<div>\n",
       "<style scoped>\n",
       "    .dataframe tbody tr th:only-of-type {\n",
       "        vertical-align: middle;\n",
       "    }\n",
       "\n",
       "    .dataframe tbody tr th {\n",
       "        vertical-align: top;\n",
       "    }\n",
       "\n",
       "    .dataframe thead th {\n",
       "        text-align: right;\n",
       "    }\n",
       "</style>\n",
       "<table border=\"1\" class=\"dataframe\">\n",
       "  <thead>\n",
       "    <tr style=\"text-align: right;\">\n",
       "      <th></th>\n",
       "      <th>Unnamed: 0</th>\n",
       "      <th>author</th>\n",
       "      <th>permalink</th>\n",
       "      <th>selftext</th>\n",
       "      <th>subreddit</th>\n",
       "      <th>title</th>\n",
       "    </tr>\n",
       "  </thead>\n",
       "  <tbody>\n",
       "    <tr>\n",
       "      <th>0</th>\n",
       "      <td>0</td>\n",
       "      <td>shaselai</td>\n",
       "      <td>/r/samsung/comments/qlwvqg/is_the_s22_ultra_leakedspeculated_specs_causing/</td>\n",
       "      <td>I am currently still trying to figure out if I want to return my 13 promax because of UI annoyan...</td>\n",
       "      <td>samsung</td>\n",
       "      <td>Is the S22 Ultra leaked/speculated specs causing excitement or lukewarm?</td>\n",
       "    </tr>\n",
       "    <tr>\n",
       "      <th>1</th>\n",
       "      <td>1</td>\n",
       "      <td>Maddy555</td>\n",
       "      <td>/r/samsung/comments/qlwnjd/in_new_update_good_lock_oho_good_guardians_are/</td>\n",
       "      <td>NaN</td>\n",
       "      <td>samsung</td>\n",
       "      <td>In new update, Good Lock, OHO+ &amp;amp; Good Guardians are ready for One UI 4</td>\n",
       "    </tr>\n",
       "    <tr>\n",
       "      <th>2</th>\n",
       "      <td>2</td>\n",
       "      <td>mercenary_58</td>\n",
       "      <td>/r/samsung/comments/qlutq8/is_the_base_s21_exynos_256gb_a_great_phone_for/</td>\n",
       "      <td>i ordered an base s21 exynos and it’s coming next week. i’m wondering if this is a great phone t...</td>\n",
       "      <td>samsung</td>\n",
       "      <td>is the BASE S21 EXYNOS 256gb a great phone for long term?</td>\n",
       "    </tr>\n",
       "    <tr>\n",
       "      <th>3</th>\n",
       "      <td>3</td>\n",
       "      <td>prathneo4</td>\n",
       "      <td>/r/samsung/comments/qlukmz/should_i_wait_for_s22_or_get_s21/</td>\n",
       "      <td>I am getting S21+ at really good value. ₹42K to be specific (including exchange)\\n\\nShould you g...</td>\n",
       "      <td>samsung</td>\n",
       "      <td>Should i wait for S22 or get S21+?</td>\n",
       "    </tr>\n",
       "    <tr>\n",
       "      <th>4</th>\n",
       "      <td>4</td>\n",
       "      <td>EmeraldForce64</td>\n",
       "      <td>/r/samsung/comments/qlsgyb/what_would_happen_if_i_flashed_the_wrong_firmware/</td>\n",
       "      <td>What would happen</td>\n",
       "      <td>samsung</td>\n",
       "      <td>What would happen if i flashed the wrong firmware on a phone? Lets say i flash a S21 ROM on an S...</td>\n",
       "    </tr>\n",
       "  </tbody>\n",
       "</table>\n",
       "</div>"
      ],
      "text/plain": [
       "   Unnamed: 0          author  \\\n",
       "0           0        shaselai   \n",
       "1           1        Maddy555   \n",
       "2           2    mercenary_58   \n",
       "3           3       prathneo4   \n",
       "4           4  EmeraldForce64   \n",
       "\n",
       "                                                                       permalink  \\\n",
       "0    /r/samsung/comments/qlwvqg/is_the_s22_ultra_leakedspeculated_specs_causing/   \n",
       "1     /r/samsung/comments/qlwnjd/in_new_update_good_lock_oho_good_guardians_are/   \n",
       "2     /r/samsung/comments/qlutq8/is_the_base_s21_exynos_256gb_a_great_phone_for/   \n",
       "3                   /r/samsung/comments/qlukmz/should_i_wait_for_s22_or_get_s21/   \n",
       "4  /r/samsung/comments/qlsgyb/what_would_happen_if_i_flashed_the_wrong_firmware/   \n",
       "\n",
       "                                                                                              selftext  \\\n",
       "0  I am currently still trying to figure out if I want to return my 13 promax because of UI annoyan...   \n",
       "1                                                                                                  NaN   \n",
       "2  i ordered an base s21 exynos and it’s coming next week. i’m wondering if this is a great phone t...   \n",
       "3  I am getting S21+ at really good value. ₹42K to be specific (including exchange)\\n\\nShould you g...   \n",
       "4                                                                                    What would happen   \n",
       "\n",
       "  subreddit  \\\n",
       "0   samsung   \n",
       "1   samsung   \n",
       "2   samsung   \n",
       "3   samsung   \n",
       "4   samsung   \n",
       "\n",
       "                                                                                                 title  \n",
       "0                             Is the S22 Ultra leaked/speculated specs causing excitement or lukewarm?  \n",
       "1                           In new update, Good Lock, OHO+ &amp; Good Guardians are ready for One UI 4  \n",
       "2                                            is the BASE S21 EXYNOS 256gb a great phone for long term?  \n",
       "3                                                                   Should i wait for S22 or get S21+?  \n",
       "4  What would happen if i flashed the wrong firmware on a phone? Lets say i flash a S21 ROM on an S...  "
      ]
     },
     "execution_count": 132,
     "metadata": {},
     "output_type": "execute_result"
    }
   ],
   "source": [
    "df_samsung_submission = pd.read_csv('../data/samsung_submission.csv', low_memory=False)\n",
    "df_samsung_submission.head()\n",
    "#load samsung submission csv"
   ]
  },
  {
   "cell_type": "markdown",
   "id": "9a59beb9",
   "metadata": {},
   "source": [
    "# Functions "
   ]
  },
  {
   "cell_type": "code",
   "execution_count": 4,
   "id": "af47c420",
   "metadata": {},
   "outputs": [],
   "source": [
    "def clean_text(text): #clean text for nlp \n",
    "\n",
    "    #remove all numbers\n",
    "    text = re.sub(r'\\d+', '',text)\n",
    "    # remove characters beyond Basic Multilingual Plane (BMP) of Unicode:\n",
    "    text = ''.join(c for c in text if c <= '\\uFFFF')\n",
    "    #remove emails\n",
    "    text = re.sub(r'\\S*\\*\\s?', '', text)\n",
    "    # Remove words with 2 or fewer letters\n",
    "    text = re.sub(r'\\b\\w{1,2}\\b', '', text)\n",
    "    # remove whitespace (including new line characters)\n",
    "    text = re.sub(r'\\s\\s+', ' ', text)   \n",
    "    \n",
    "    # \\W matches any non-word character (equivalent to [^a-zA-Z0-9_]). This does not include spaces i.e. \\s\n",
    "    text = \"\".join([word.lower() for word in text if word not in string.punctuation])\n",
    "\n",
    "    # Add a + just in case there are 2 or more spaces between certain words\n",
    "    tokens = re.split('\\W+', text)\n",
    "    \n",
    "    # apply lemmatizing and stopwords exclusion within the same step\n",
    "    lemmatizer = WordNetLemmatizer()\n",
    "    text = [lemmatizer.lemmatize(word.lower()) for word in tokens if word not in stopwords]\n",
    "\n",
    "    #remove any trailing space found after lemmatizing\n",
    "    for x in text :\n",
    "        for i in x:\n",
    "            if i == '':\n",
    "                x.remove(i)\n",
    "        \n",
    "    return ' '.join(text)"
   ]
  },
  {
   "cell_type": "code",
   "execution_count": 5,
   "id": "77d3ef1b",
   "metadata": {},
   "outputs": [],
   "source": [
    "def clean_hyperlinks(text):     \n",
    "    # Remove hyperlinks\n",
    "    text = re.sub(r\"((http|ftp|https):\\/\\/)?[-a-zA-Z0-9@:%._\\+~#=]{2,256}\\.[a-z]{2,6}\\b([-a-zA-Z0-9@:%_\\+.~#?&//=]*)\", \"\", text)\n",
    "    return text"
   ]
  },
  {
   "cell_type": "code",
   "execution_count": 6,
   "id": "a0a1106a",
   "metadata": {},
   "outputs": [],
   "source": [
    "def confusion_matx(model,y_test, pred,score):\n",
    "    cm= confusion_matrix(y_test, pred)\n",
    "    modified_cm = []\n",
    "    for index,value in enumerate(cm):\n",
    "        if index == 0:\n",
    "            modified_cm.append(['TN = ' + str(value[0]), 'FP = ' + str(value[1])]) #first array will be 0\n",
    "        if index == 1: \n",
    "            modified_cm.append(['FN = ' + str(value[0]), 'TP = ' + str(value[1])])   #second array will be 1\n",
    "    plt.figure(figsize=(9,9))\n",
    "    sns.heatmap(cm, annot=np.array(modified_cm),\n",
    "            fmt=\"\",\n",
    "            annot_kws={\"size\": 20},\n",
    "            linewidths=.5,\n",
    "            square = True,\n",
    "            cmap = 'Blues',\n",
    "            xticklabels = ['versicolor', 'viginica'],\n",
    "            yticklabels = ['versicolor', 'viginica'],\n",
    "            );\n",
    "\n",
    "    plt.ylabel('Actual label', fontsize = 17);\n",
    "    plt.xlabel('Predicted label', fontsize = 17);\n",
    "    plt.title('Accuracy Score for {}: {:.3f}'.format(model,score), size = 17);\n",
    "    plt.tick_params(labelsize= 15)"
   ]
  },
  {
   "cell_type": "code",
   "execution_count": 7,
   "id": "7ce06ec8",
   "metadata": {},
   "outputs": [],
   "source": [
    "def roc_curve(model,x_test_cvec,y_test):\n",
    "    plt.figure(figsize=(15,15))\n",
    "    plot_roc_curve(model, X_test_cvec, y_test)\n",
    "    plt.plot([0, 1], [0, 1],\n",
    "             label='baseline', linestyle='--')\n",
    "    fig = plt.gcf()\n",
    "    fig.set_size_inches(8,7)\n",
    "    plt.legend();"
   ]
  },
  {
   "cell_type": "code",
   "execution_count": 131,
   "id": "fb5f1396",
   "metadata": {},
   "outputs": [],
   "source": [
    "def get_top_phrase(word1, n=None):\n",
    "    vec = CountVectorizer(ngram_range=(2, 3), stop_words=stopwords).fit(word1)\n",
    "    bag_of_words = vec.transform(word1)\n",
    "    sum_words = bag_of_words.sum(axis=0) \n",
    "    words_freq = [(word, sum_words[0, x]) for word, x in vec.vocabulary_.items()]\n",
    "    words_freq =sorted(words_freq, key = lambda x: x[1], reverse=True)\n",
    "    return words_freq[:n]"
   ]
  },
  {
   "cell_type": "code",
   "execution_count": 8,
   "id": "54d12907",
   "metadata": {},
   "outputs": [
    {
     "data": {
      "text/plain": [
       "['i',\n",
       " 'me',\n",
       " 'my',\n",
       " 'myself',\n",
       " 'we',\n",
       " 'our',\n",
       " 'ours',\n",
       " 'ourselves',\n",
       " 'you',\n",
       " \"you're\",\n",
       " \"you've\",\n",
       " \"you'll\",\n",
       " \"you'd\",\n",
       " 'your',\n",
       " 'yours',\n",
       " 'yourself',\n",
       " 'yourselves',\n",
       " 'he',\n",
       " 'him',\n",
       " 'his',\n",
       " 'himself',\n",
       " 'she',\n",
       " \"she's\",\n",
       " 'her',\n",
       " 'hers',\n",
       " 'herself',\n",
       " 'it',\n",
       " \"it's\",\n",
       " 'its',\n",
       " 'itself',\n",
       " 'they',\n",
       " 'them',\n",
       " 'their',\n",
       " 'theirs',\n",
       " 'themselves',\n",
       " 'what',\n",
       " 'which',\n",
       " 'who',\n",
       " 'whom',\n",
       " 'this',\n",
       " 'that',\n",
       " \"that'll\",\n",
       " 'these',\n",
       " 'those',\n",
       " 'am',\n",
       " 'is',\n",
       " 'are',\n",
       " 'was',\n",
       " 'were',\n",
       " 'be',\n",
       " 'been',\n",
       " 'being',\n",
       " 'have',\n",
       " 'has',\n",
       " 'had',\n",
       " 'having',\n",
       " 'do',\n",
       " 'does',\n",
       " 'did',\n",
       " 'doing',\n",
       " 'a',\n",
       " 'an',\n",
       " 'the',\n",
       " 'and',\n",
       " 'but',\n",
       " 'if',\n",
       " 'or',\n",
       " 'because',\n",
       " 'as',\n",
       " 'until',\n",
       " 'while',\n",
       " 'of',\n",
       " 'at',\n",
       " 'by',\n",
       " 'for',\n",
       " 'with',\n",
       " 'about',\n",
       " 'against',\n",
       " 'between',\n",
       " 'into',\n",
       " 'through',\n",
       " 'during',\n",
       " 'before',\n",
       " 'after',\n",
       " 'above',\n",
       " 'below',\n",
       " 'to',\n",
       " 'from',\n",
       " 'up',\n",
       " 'down',\n",
       " 'in',\n",
       " 'out',\n",
       " 'on',\n",
       " 'off',\n",
       " 'over',\n",
       " 'under',\n",
       " 'again',\n",
       " 'further',\n",
       " 'then',\n",
       " 'once',\n",
       " 'here',\n",
       " 'there',\n",
       " 'when',\n",
       " 'where',\n",
       " 'why',\n",
       " 'how',\n",
       " 'all',\n",
       " 'any',\n",
       " 'both',\n",
       " 'each',\n",
       " 'few',\n",
       " 'more',\n",
       " 'most',\n",
       " 'other',\n",
       " 'some',\n",
       " 'such',\n",
       " 'no',\n",
       " 'nor',\n",
       " 'not',\n",
       " 'only',\n",
       " 'own',\n",
       " 'same',\n",
       " 'so',\n",
       " 'than',\n",
       " 'too',\n",
       " 'very',\n",
       " 's',\n",
       " 't',\n",
       " 'can',\n",
       " 'will',\n",
       " 'just',\n",
       " 'don',\n",
       " \"don't\",\n",
       " 'should',\n",
       " \"should've\",\n",
       " 'now',\n",
       " 'd',\n",
       " 'll',\n",
       " 'm',\n",
       " 'o',\n",
       " 're',\n",
       " 've',\n",
       " 'y',\n",
       " 'ain',\n",
       " 'aren',\n",
       " \"aren't\",\n",
       " 'couldn',\n",
       " \"couldn't\",\n",
       " 'didn',\n",
       " \"didn't\",\n",
       " 'doesn',\n",
       " \"doesn't\",\n",
       " 'hadn',\n",
       " \"hadn't\",\n",
       " 'hasn',\n",
       " \"hasn't\",\n",
       " 'haven',\n",
       " \"haven't\",\n",
       " 'isn',\n",
       " \"isn't\",\n",
       " 'ma',\n",
       " 'mightn',\n",
       " \"mightn't\",\n",
       " 'mustn',\n",
       " \"mustn't\",\n",
       " 'needn',\n",
       " \"needn't\",\n",
       " 'shan',\n",
       " \"shan't\",\n",
       " 'shouldn',\n",
       " \"shouldn't\",\n",
       " 'wasn',\n",
       " \"wasn't\",\n",
       " 'weren',\n",
       " \"weren't\",\n",
       " 'won',\n",
       " \"won't\",\n",
       " 'wouldn',\n",
       " \"wouldn't\",\n",
       " 'did',\n",
       " 'doe',\n",
       " 'don',\n",
       " 'doesn',\n",
       " 'getting',\n",
       " 'going',\n",
       " 'got',\n",
       " 'ha',\n",
       " 'isn',\n",
       " 'wa',\n",
       " 'ive',\n",
       " 'youre',\n",
       " 'become',\n",
       " 'became',\n",
       " 'would',\n",
       " 'still',\n",
       " 'also',\n",
       " 'could',\n",
       " 'see',\n",
       " 'get',\n",
       " 'well',\n",
       " 'one',\n",
       " 'much',\n",
       " 'even',\n",
       " 'sure',\n",
       " 'use',\n",
       " 'know',\n",
       " 'want',\n",
       " 'take',\n",
       " 'like',\n",
       " 'way',\n",
       " 'say',\n",
       " 'need',\n",
       " 'come',\n",
       " 'make',\n",
       " 'anyone',\n",
       " 'want',\n",
       " \"i've\",\n",
       " \"i'm\",\n",
       " 'made',\n",
       " 'samsung',\n",
       " 'apple']"
      ]
     },
     "execution_count": 8,
     "metadata": {},
     "output_type": "execute_result"
    }
   ],
   "source": [
    "add_stop_words = ['did', 'doe', 'don', 'doesn', 'getting', 'going', 'got', 'ha', 'isn', 'wa',\n",
    "                  'ive','youre','become','became','would','still','also','could','see','get','well','one','much','even','sure',\n",
    "                 'use', 'know', 'want','take','like','way','say','need','come','make','anyone','want', \"i've\", \"i'm\" , 'made',\n",
    "                  'samsung', 'apple']\n",
    "stopwords.extend(add_stop_words)\n",
    "stopwords\n",
    "#adding additonal words to stop words"
   ]
  },
  {
   "cell_type": "markdown",
   "id": "e3a21cf3",
   "metadata": {},
   "source": [
    "## Data Cleaning Part 1\n",
    "\n",
    "- Part 1 is to check and remove necessary null values and combine apple and samsung to one dataframe"
   ]
  },
  {
   "cell_type": "markdown",
   "id": "285d651d",
   "metadata": {},
   "source": [
    "*Cleaning samsung csv*"
   ]
  },
  {
   "cell_type": "code",
   "execution_count": 133,
   "id": "5ce0364e",
   "metadata": {},
   "outputs": [
    {
     "data": {
      "text/plain": [
       "False    7421\n",
       "True     2573\n",
       "Name: selftext, dtype: int64"
      ]
     },
     "execution_count": 133,
     "metadata": {},
     "output_type": "execute_result"
    }
   ],
   "source": [
    "df_samsung_submission['selftext'].isna().value_counts()"
   ]
  },
  {
   "cell_type": "code",
   "execution_count": 134,
   "id": "9fa528c4",
   "metadata": {},
   "outputs": [],
   "source": [
    "df_samsung_submission.dropna(subset=['selftext'], inplace=True)\n",
    "#drop null values for selftext"
   ]
  },
  {
   "cell_type": "code",
   "execution_count": 135,
   "id": "3a315760",
   "metadata": {},
   "outputs": [
    {
     "data": {
      "text/plain": [
       "False    7421\n",
       "Name: selftext, dtype: int64"
      ]
     },
     "execution_count": 135,
     "metadata": {},
     "output_type": "execute_result"
    }
   ],
   "source": [
    "df_samsung_submission['selftext'].isna().value_counts()"
   ]
  },
  {
   "cell_type": "markdown",
   "id": "ae7d4212",
   "metadata": {},
   "source": [
    "*Removing AutoModerator post*"
   ]
  },
  {
   "cell_type": "code",
   "execution_count": 136,
   "id": "c1ef9dd1",
   "metadata": {},
   "outputs": [
    {
     "data": {
      "text/plain": [
       "False    7294\n",
       "True      127\n",
       "Name: author, dtype: int64"
      ]
     },
     "execution_count": 136,
     "metadata": {},
     "output_type": "execute_result"
    }
   ],
   "source": [
    "(df_samsung_submission['author'] == 'AutoModerator').value_counts()"
   ]
  },
  {
   "cell_type": "code",
   "execution_count": 137,
   "id": "0c294450",
   "metadata": {},
   "outputs": [
    {
     "data": {
      "text/plain": [
       "6       Welcome to the Daily Support thread for [r/Samsung](https://www.reddit.com/r/samsung/). You can ...\n",
       "27      Welcome to the Daily Support thread for [r/Samsung](https://www.reddit.com/r/samsung/). You can ...\n",
       "54      Welcome to the Daily Support thread for [r/Samsung](https://www.reddit.com/r/samsung/). You can ...\n",
       "79      Welcome to the Daily Support thread for [r/Samsung](https://www.reddit.com/r/samsung/). You can ...\n",
       "104     Welcome to the Daily Support thread for [r/Samsung](https://www.reddit.com/r/samsung/). You can ...\n",
       "                                                       ...                                                 \n",
       "2693    # Join our discord for awesome tech support, great chat, and future giveaways! [https://discord....\n",
       "2732    Welcome to the Daily (Tech) Support thread for [r/Samsung](https://www.reddit.com/r/samsung/). Y...\n",
       "4411    #  If you have ANY questions, please join our official discord and we'll be happy to answer them...\n",
       "4414    # If you have ANY questions, please join our official discord and we'll be happy to answer them....\n",
       "4415    Welcome to the Daily Tech Support thread for /r/Samsung\\n\\nIf you need tech support help or advi...\n",
       "Name: selftext, Length: 127, dtype: object"
      ]
     },
     "execution_count": 137,
     "metadata": {},
     "output_type": "execute_result"
    }
   ],
   "source": [
    "df_samsung_submission[df_samsung_submission['author'] == 'AutoModerator'] ['selftext']"
   ]
  },
  {
   "cell_type": "markdown",
   "id": "8c50d05b",
   "metadata": {},
   "source": [
    "This shows that automoderator author have many duplicated,similar irrelevant post for the model. Not to be included further"
   ]
  },
  {
   "cell_type": "code",
   "execution_count": 138,
   "id": "68eb882a",
   "metadata": {},
   "outputs": [],
   "source": [
    "df_samsung_submission = df_samsung_submission[df_samsung_submission['author'] != 'AutoModerator']\n",
    "#only keep post that are not automoderator author"
   ]
  },
  {
   "cell_type": "code",
   "execution_count": 139,
   "id": "ab5368ca",
   "metadata": {},
   "outputs": [
    {
     "data": {
      "text/plain": [
       "False    7294\n",
       "Name: author, dtype: int64"
      ]
     },
     "execution_count": 139,
     "metadata": {},
     "output_type": "execute_result"
    }
   ],
   "source": [
    "(df_samsung_submission['author'] == 'AutoModerator').value_counts()"
   ]
  },
  {
   "cell_type": "markdown",
   "id": "c04486bd",
   "metadata": {},
   "source": [
    "*Removing [removed] post*"
   ]
  },
  {
   "cell_type": "code",
   "execution_count": 140,
   "id": "fcbde490",
   "metadata": {},
   "outputs": [
    {
     "data": {
      "text/plain": [
       "False    7294\n",
       "Name: selftext, dtype: int64"
      ]
     },
     "execution_count": 140,
     "metadata": {},
     "output_type": "execute_result"
    }
   ],
   "source": [
    "(df_samsung_submission['selftext'] == '[removed]').value_counts()"
   ]
  },
  {
   "cell_type": "markdown",
   "id": "0af4cf7a",
   "metadata": {},
   "source": [
    "No [removed] post found"
   ]
  },
  {
   "cell_type": "markdown",
   "id": "634b3735",
   "metadata": {},
   "source": [
    "*Removing posts with [deleted]*"
   ]
  },
  {
   "cell_type": "code",
   "execution_count": 141,
   "id": "b9e0feb5",
   "metadata": {},
   "outputs": [
    {
     "data": {
      "text/plain": [
       "False    7191\n",
       "True      103\n",
       "Name: selftext, dtype: int64"
      ]
     },
     "execution_count": 141,
     "metadata": {},
     "output_type": "execute_result"
    }
   ],
   "source": [
    "(df_samsung_submission['selftext'] == '[deleted]').value_counts()"
   ]
  },
  {
   "cell_type": "markdown",
   "id": "e382300f",
   "metadata": {},
   "source": [
    "Small percentage of 103 [deleted] post found. Will not include further as not useful to the model"
   ]
  },
  {
   "cell_type": "code",
   "execution_count": 142,
   "id": "0a9b1a9c",
   "metadata": {},
   "outputs": [],
   "source": [
    "df_samsung_submission = df_samsung_submission[df_samsung_submission['selftext'] != '[deleted]']"
   ]
  },
  {
   "cell_type": "code",
   "execution_count": 143,
   "id": "5c5afb40",
   "metadata": {},
   "outputs": [
    {
     "data": {
      "text/plain": [
       "False    7191\n",
       "Name: selftext, dtype: int64"
      ]
     },
     "execution_count": 143,
     "metadata": {},
     "output_type": "execute_result"
    }
   ],
   "source": [
    "(df_samsung_submission['selftext'] == '[deleted]').value_counts()"
   ]
  },
  {
   "cell_type": "code",
   "execution_count": 144,
   "id": "a76c7cb6",
   "metadata": {},
   "outputs": [
    {
     "data": {
      "text/html": [
       "<div>\n",
       "<style scoped>\n",
       "    .dataframe tbody tr th:only-of-type {\n",
       "        vertical-align: middle;\n",
       "    }\n",
       "\n",
       "    .dataframe tbody tr th {\n",
       "        vertical-align: top;\n",
       "    }\n",
       "\n",
       "    .dataframe thead th {\n",
       "        text-align: right;\n",
       "    }\n",
       "</style>\n",
       "<table border=\"1\" class=\"dataframe\">\n",
       "  <thead>\n",
       "    <tr style=\"text-align: right;\">\n",
       "      <th></th>\n",
       "      <th>title</th>\n",
       "      <th>selftext</th>\n",
       "      <th>subreddit</th>\n",
       "    </tr>\n",
       "  </thead>\n",
       "  <tbody>\n",
       "    <tr>\n",
       "      <th>0</th>\n",
       "      <td>Is the S22 Ultra leaked/speculated specs causing excitement or lukewarm?</td>\n",
       "      <td>I am currently still trying to figure out if I want to return my 13 promax because of UI annoyan...</td>\n",
       "      <td>samsung</td>\n",
       "    </tr>\n",
       "    <tr>\n",
       "      <th>2</th>\n",
       "      <td>is the BASE S21 EXYNOS 256gb a great phone for long term?</td>\n",
       "      <td>i ordered an base s21 exynos and it’s coming next week. i’m wondering if this is a great phone t...</td>\n",
       "      <td>samsung</td>\n",
       "    </tr>\n",
       "    <tr>\n",
       "      <th>3</th>\n",
       "      <td>Should i wait for S22 or get S21+?</td>\n",
       "      <td>I am getting S21+ at really good value. ₹42K to be specific (including exchange)\\n\\nShould you g...</td>\n",
       "      <td>samsung</td>\n",
       "    </tr>\n",
       "    <tr>\n",
       "      <th>4</th>\n",
       "      <td>What would happen if i flashed the wrong firmware on a phone? Lets say i flash a S21 ROM on an S...</td>\n",
       "      <td>What would happen</td>\n",
       "      <td>samsung</td>\n",
       "    </tr>\n",
       "    <tr>\n",
       "      <th>5</th>\n",
       "      <td>Should I go for smarttags or consider an alternative?</td>\n",
       "      <td>I keep losing my keys all around the house and I'm wondering if I should go for the Smarttags or...</td>\n",
       "      <td>samsung</td>\n",
       "    </tr>\n",
       "    <tr>\n",
       "      <th>...</th>\n",
       "      <td>...</td>\n",
       "      <td>...</td>\n",
       "      <td>...</td>\n",
       "    </tr>\n",
       "    <tr>\n",
       "      <th>9988</th>\n",
       "      <td>S21 ultra front camera vertical lines?</td>\n",
       "      <td>Anybody having a problem getting multicolored  vertical lines on the front camera of the s21 ult...</td>\n",
       "      <td>samsung</td>\n",
       "    </tr>\n",
       "    <tr>\n",
       "      <th>9989</th>\n",
       "      <td>One ui 3.0 on note 10+ bug?</td>\n",
       "      <td>I got one ui 3.0 on my note 10+ yesterday, and a couple hours later the touchscreen only works s...</td>\n",
       "      <td>samsung</td>\n",
       "    </tr>\n",
       "    <tr>\n",
       "      <th>9990</th>\n",
       "      <td>Does the S21 Ultra have 'live focus' on normal photo camera? I can't see it in the options</td>\n",
       "      <td>Does the S21 Ultra have 'live focus' on normal photo camera? I can't see it in the options</td>\n",
       "      <td>samsung</td>\n",
       "    </tr>\n",
       "    <tr>\n",
       "      <th>9991</th>\n",
       "      <td>Samsung tablet S5e trouble with streaming services not working - cache? reset? How to fix?</td>\n",
       "      <td>I have a year old Samsung Tablet S5e - love it. But suddenly some of the streaming services don'...</td>\n",
       "      <td>samsung</td>\n",
       "    </tr>\n",
       "    <tr>\n",
       "      <th>9992</th>\n",
       "      <td>Is the screen protector that comes already applied the s21 ultra good quality?</td>\n",
       "      <td>Mine has already scratched, so I bought a new glass one from amazon...it turned up with a note i...</td>\n",
       "      <td>samsung</td>\n",
       "    </tr>\n",
       "  </tbody>\n",
       "</table>\n",
       "<p>7191 rows × 3 columns</p>\n",
       "</div>"
      ],
      "text/plain": [
       "                                                                                                    title  \\\n",
       "0                                Is the S22 Ultra leaked/speculated specs causing excitement or lukewarm?   \n",
       "2                                               is the BASE S21 EXYNOS 256gb a great phone for long term?   \n",
       "3                                                                      Should i wait for S22 or get S21+?   \n",
       "4     What would happen if i flashed the wrong firmware on a phone? Lets say i flash a S21 ROM on an S...   \n",
       "5                                                   Should I go for smarttags or consider an alternative?   \n",
       "...                                                                                                   ...   \n",
       "9988                                                               S21 ultra front camera vertical lines?   \n",
       "9989                                                                          One ui 3.0 on note 10+ bug?   \n",
       "9990           Does the S21 Ultra have 'live focus' on normal photo camera? I can't see it in the options   \n",
       "9991           Samsung tablet S5e trouble with streaming services not working - cache? reset? How to fix?   \n",
       "9992                       Is the screen protector that comes already applied the s21 ultra good quality?   \n",
       "\n",
       "                                                                                                 selftext  \\\n",
       "0     I am currently still trying to figure out if I want to return my 13 promax because of UI annoyan...   \n",
       "2     i ordered an base s21 exynos and it’s coming next week. i’m wondering if this is a great phone t...   \n",
       "3     I am getting S21+ at really good value. ₹42K to be specific (including exchange)\\n\\nShould you g...   \n",
       "4                                                                                       What would happen   \n",
       "5     I keep losing my keys all around the house and I'm wondering if I should go for the Smarttags or...   \n",
       "...                                                                                                   ...   \n",
       "9988  Anybody having a problem getting multicolored  vertical lines on the front camera of the s21 ult...   \n",
       "9989  I got one ui 3.0 on my note 10+ yesterday, and a couple hours later the touchscreen only works s...   \n",
       "9990           Does the S21 Ultra have 'live focus' on normal photo camera? I can't see it in the options   \n",
       "9991  I have a year old Samsung Tablet S5e - love it. But suddenly some of the streaming services don'...   \n",
       "9992  Mine has already scratched, so I bought a new glass one from amazon...it turned up with a note i...   \n",
       "\n",
       "     subreddit  \n",
       "0      samsung  \n",
       "2      samsung  \n",
       "3      samsung  \n",
       "4      samsung  \n",
       "5      samsung  \n",
       "...        ...  \n",
       "9988   samsung  \n",
       "9989   samsung  \n",
       "9990   samsung  \n",
       "9991   samsung  \n",
       "9992   samsung  \n",
       "\n",
       "[7191 rows x 3 columns]"
      ]
     },
     "execution_count": 144,
     "metadata": {},
     "output_type": "execute_result"
    }
   ],
   "source": [
    "df_samsung_submission= df_samsung_submission[['title', 'selftext','subreddit']]\n",
    "df_samsung_submission"
   ]
  },
  {
   "cell_type": "markdown",
   "id": "8d298e13",
   "metadata": {},
   "source": [
    "After completing of  part 1 data cleaning for samsung subreddit, it now have 7192  rows."
   ]
  },
  {
   "cell_type": "markdown",
   "id": "ef09bb03",
   "metadata": {},
   "source": [
    "***Repeat above steps for apple submission csv***"
   ]
  },
  {
   "cell_type": "code",
   "execution_count": 146,
   "id": "ede9f3ce",
   "metadata": {},
   "outputs": [
    {
     "data": {
      "text/plain": [
       "(39770, 6)"
      ]
     },
     "execution_count": 146,
     "metadata": {},
     "output_type": "execute_result"
    }
   ],
   "source": [
    "df_apple_submission.shape"
   ]
  },
  {
   "cell_type": "code",
   "execution_count": 147,
   "id": "18599510",
   "metadata": {},
   "outputs": [
    {
     "data": {
      "text/plain": [
       "True     30933\n",
       "False     8837\n",
       "Name: selftext, dtype: int64"
      ]
     },
     "execution_count": 147,
     "metadata": {},
     "output_type": "execute_result"
    }
   ],
   "source": [
    "df_apple_submission['selftext'].isna().value_counts()\n",
    "#check for null values in selftext"
   ]
  },
  {
   "cell_type": "code",
   "execution_count": 148,
   "id": "8b19db19",
   "metadata": {},
   "outputs": [],
   "source": [
    "df_apple_submission.dropna(subset=['selftext'], inplace=True)\n",
    "#drop null values for selftext"
   ]
  },
  {
   "cell_type": "code",
   "execution_count": 149,
   "id": "4271ed7e",
   "metadata": {},
   "outputs": [
    {
     "data": {
      "text/plain": [
       "False    8837\n",
       "Name: selftext, dtype: int64"
      ]
     },
     "execution_count": 149,
     "metadata": {},
     "output_type": "execute_result"
    }
   ],
   "source": [
    "df_apple_submission['selftext'].isna().value_counts()"
   ]
  },
  {
   "cell_type": "markdown",
   "id": "011f45ba",
   "metadata": {},
   "source": [
    "*Removing AutoModerator post*"
   ]
  },
  {
   "cell_type": "code",
   "execution_count": 150,
   "id": "1cebfde7",
   "metadata": {},
   "outputs": [
    {
     "data": {
      "text/plain": [
       "False    8010\n",
       "True      827\n",
       "Name: author, dtype: int64"
      ]
     },
     "execution_count": 150,
     "metadata": {},
     "output_type": "execute_result"
    }
   ],
   "source": [
    "(df_apple_submission['author'] == 'AutoModerator').value_counts()"
   ]
  },
  {
   "cell_type": "markdown",
   "id": "050ffb9a",
   "metadata": {},
   "source": [
    "Shows that there are a number of post that are submitted by moderator author. Not to include them further"
   ]
  },
  {
   "cell_type": "code",
   "execution_count": 151,
   "id": "493d26fc",
   "metadata": {},
   "outputs": [],
   "source": [
    "df_apple_submission = df_apple_submission[df_apple_submission['author'] != 'AutoModerator']\n",
    "#only keep post that are not automoderator author"
   ]
  },
  {
   "cell_type": "code",
   "execution_count": 152,
   "id": "22b2b19b",
   "metadata": {},
   "outputs": [
    {
     "data": {
      "text/plain": [
       "False    8010\n",
       "Name: author, dtype: int64"
      ]
     },
     "execution_count": 152,
     "metadata": {},
     "output_type": "execute_result"
    }
   ],
   "source": [
    "(df_apple_submission['author'] == 'AutoModerator').value_counts()"
   ]
  },
  {
   "cell_type": "markdown",
   "id": "a29bd7a5",
   "metadata": {},
   "source": [
    "*Removing [removed] post*"
   ]
  },
  {
   "cell_type": "code",
   "execution_count": 153,
   "id": "16958c18",
   "metadata": {},
   "outputs": [
    {
     "data": {
      "text/plain": [
       "False    8010\n",
       "Name: selftext, dtype: int64"
      ]
     },
     "execution_count": 153,
     "metadata": {},
     "output_type": "execute_result"
    }
   ],
   "source": [
    "(df_apple_submission['selftext'] == '[removed]').value_counts()\n",
    "#no removed post"
   ]
  },
  {
   "cell_type": "markdown",
   "id": "49c2db59",
   "metadata": {},
   "source": [
    "No [removed] post found. No action taken"
   ]
  },
  {
   "cell_type": "markdown",
   "id": "5bc8f98c",
   "metadata": {},
   "source": [
    "*Removing posts with [deleted]*"
   ]
  },
  {
   "cell_type": "code",
   "execution_count": 154,
   "id": "ee512a9e",
   "metadata": {},
   "outputs": [
    {
     "data": {
      "text/plain": [
       "False    7328\n",
       "True      682\n",
       "Name: selftext, dtype: int64"
      ]
     },
     "execution_count": 154,
     "metadata": {},
     "output_type": "execute_result"
    }
   ],
   "source": [
    "(df_apple_submission['selftext'] == '[deleted]').value_counts()"
   ]
  },
  {
   "cell_type": "markdown",
   "id": "c156d76e",
   "metadata": {},
   "source": [
    "682 selftext found to be deleted. To not included further as it is not useful for the model"
   ]
  },
  {
   "cell_type": "code",
   "execution_count": 155,
   "id": "d1763a68",
   "metadata": {},
   "outputs": [],
   "source": [
    "df_apple_submission = df_apple_submission[df_apple_submission['selftext'] != '[deleted]']"
   ]
  },
  {
   "cell_type": "code",
   "execution_count": 156,
   "id": "890549d5",
   "metadata": {},
   "outputs": [
    {
     "data": {
      "text/plain": [
       "False    7328\n",
       "Name: selftext, dtype: int64"
      ]
     },
     "execution_count": 156,
     "metadata": {},
     "output_type": "execute_result"
    }
   ],
   "source": [
    "(df_apple_submission['selftext'] == '[deleted]').value_counts()"
   ]
  },
  {
   "cell_type": "code",
   "execution_count": 157,
   "id": "7bc145b4",
   "metadata": {},
   "outputs": [
    {
     "data": {
      "text/html": [
       "<div>\n",
       "<style scoped>\n",
       "    .dataframe tbody tr th:only-of-type {\n",
       "        vertical-align: middle;\n",
       "    }\n",
       "\n",
       "    .dataframe tbody tr th {\n",
       "        vertical-align: top;\n",
       "    }\n",
       "\n",
       "    .dataframe thead th {\n",
       "        text-align: right;\n",
       "    }\n",
       "</style>\n",
       "<table border=\"1\" class=\"dataframe\">\n",
       "  <thead>\n",
       "    <tr style=\"text-align: right;\">\n",
       "      <th></th>\n",
       "      <th>title</th>\n",
       "      <th>selftext</th>\n",
       "      <th>subreddit</th>\n",
       "    </tr>\n",
       "  </thead>\n",
       "  <tbody>\n",
       "    <tr>\n",
       "      <th>11</th>\n",
       "      <td>Thanks apple</td>\n",
       "      <td>Thanks to your anti consumer move to take the charger out of the box you have screwed your custo...</td>\n",
       "      <td>apple</td>\n",
       "    </tr>\n",
       "    <tr>\n",
       "      <th>94</th>\n",
       "      <td>Got a notification “your Apple ID….” But clicked away before I could read it. What could it have...</td>\n",
       "      <td>I did recently get the iPhone 13 pro so maybe something about setting something up? But everythi...</td>\n",
       "      <td>apple</td>\n",
       "    </tr>\n",
       "    <tr>\n",
       "      <th>113</th>\n",
       "      <td>Airpods Pro Sales?</td>\n",
       "      <td>Thinking of getting Airpod Pros soon. Which site and deal do you all expect should I wait for at...</td>\n",
       "      <td>apple</td>\n",
       "    </tr>\n",
       "    <tr>\n",
       "      <th>114</th>\n",
       "      <td>Still Li-ion batteries?</td>\n",
       "      <td>Just saw the JRE video of iPhone 13 pro max and it showed that Apple is still using Li-ion batte...</td>\n",
       "      <td>apple</td>\n",
       "    </tr>\n",
       "    <tr>\n",
       "      <th>115</th>\n",
       "      <td>So Texans cannot add their COVID19 Vaccines to their wallet right?</td>\n",
       "      <td>Just so I understand this right, I was super excited to update toward IOS 15.1 for the digital v...</td>\n",
       "      <td>apple</td>\n",
       "    </tr>\n",
       "    <tr>\n",
       "      <th>...</th>\n",
       "      <td>...</td>\n",
       "      <td>...</td>\n",
       "      <td>...</td>\n",
       "    </tr>\n",
       "    <tr>\n",
       "      <th>39745</th>\n",
       "      <td>Can ipad pro 2018 model play movies from a micro sd?</td>\n",
       "      <td>With an adapter, can the ipad pro 2018 model play mkv/avi videos from a micro sd with an adapter?</td>\n",
       "      <td>apple</td>\n",
       "    </tr>\n",
       "    <tr>\n",
       "      <th>39746</th>\n",
       "      <td>Can someone help me I was installing iOS 13 and it gave me an error.</td>\n",
       "      <td>It says \\n“Error installing update\\nUpdate could not be installed”\\nThen it gives me two options...</td>\n",
       "      <td>apple</td>\n",
       "    </tr>\n",
       "    <tr>\n",
       "      <th>39755</th>\n",
       "      <td>Is there a difference between the 11'' and 12.9'' iPad Pro?</td>\n",
       "      <td>I want to buy an iPad Pro but I can’t decide which one I should buy. Of course, the 11'' is chea...</td>\n",
       "      <td>apple</td>\n",
       "    </tr>\n",
       "    <tr>\n",
       "      <th>39756</th>\n",
       "      <td>PSA: Airpods not connecting</td>\n",
       "      <td>Hey all, I just want to share my experience trying to fix my airpods and explain how I saved mys...</td>\n",
       "      <td>apple</td>\n",
       "    </tr>\n",
       "    <tr>\n",
       "      <th>39766</th>\n",
       "      <td>Quicktime gray my screen when recording! Help! :)</td>\n",
       "      <td>Hi guys i have imac and cintiq (drawing tablet screen).\\nI wanna record me draw, but i click rec...</td>\n",
       "      <td>apple</td>\n",
       "    </tr>\n",
       "  </tbody>\n",
       "</table>\n",
       "<p>7328 rows × 3 columns</p>\n",
       "</div>"
      ],
      "text/plain": [
       "                                                                                                     title  \\\n",
       "11                                                                                            Thanks apple   \n",
       "94     Got a notification “your Apple ID….” But clicked away before I could read it. What could it have...   \n",
       "113                                                                                     Airpods Pro Sales?   \n",
       "114                                                                                Still Li-ion batteries?   \n",
       "115                                     So Texans cannot add their COVID19 Vaccines to their wallet right?   \n",
       "...                                                                                                    ...   \n",
       "39745                                                 Can ipad pro 2018 model play movies from a micro sd?   \n",
       "39746                                 Can someone help me I was installing iOS 13 and it gave me an error.   \n",
       "39755                                          Is there a difference between the 11'' and 12.9'' iPad Pro?   \n",
       "39756                                                                          PSA: Airpods not connecting   \n",
       "39766                                                    Quicktime gray my screen when recording! Help! :)   \n",
       "\n",
       "                                                                                                  selftext  \\\n",
       "11     Thanks to your anti consumer move to take the charger out of the box you have screwed your custo...   \n",
       "94     I did recently get the iPhone 13 pro so maybe something about setting something up? But everythi...   \n",
       "113    Thinking of getting Airpod Pros soon. Which site and deal do you all expect should I wait for at...   \n",
       "114    Just saw the JRE video of iPhone 13 pro max and it showed that Apple is still using Li-ion batte...   \n",
       "115    Just so I understand this right, I was super excited to update toward IOS 15.1 for the digital v...   \n",
       "...                                                                                                    ...   \n",
       "39745    With an adapter, can the ipad pro 2018 model play mkv/avi videos from a micro sd with an adapter?   \n",
       "39746  It says \\n“Error installing update\\nUpdate could not be installed”\\nThen it gives me two options...   \n",
       "39755  I want to buy an iPad Pro but I can’t decide which one I should buy. Of course, the 11'' is chea...   \n",
       "39756  Hey all, I just want to share my experience trying to fix my airpods and explain how I saved mys...   \n",
       "39766  Hi guys i have imac and cintiq (drawing tablet screen).\\nI wanna record me draw, but i click rec...   \n",
       "\n",
       "      subreddit  \n",
       "11        apple  \n",
       "94        apple  \n",
       "113       apple  \n",
       "114       apple  \n",
       "115       apple  \n",
       "...         ...  \n",
       "39745     apple  \n",
       "39746     apple  \n",
       "39755     apple  \n",
       "39756     apple  \n",
       "39766     apple  \n",
       "\n",
       "[7328 rows x 3 columns]"
      ]
     },
     "execution_count": 157,
     "metadata": {},
     "output_type": "execute_result"
    }
   ],
   "source": [
    "df_apple_submission= df_apple_submission[['title', 'selftext','subreddit']]\n",
    "df_apple_submission"
   ]
  },
  {
   "cell_type": "markdown",
   "id": "9a9cfb2f",
   "metadata": {},
   "source": [
    "After completing of  part 1 data cleaning for apple subreddit, it now have 7328 rows."
   ]
  },
  {
   "cell_type": "markdown",
   "id": "4c9ba03c",
   "metadata": {},
   "source": [
    "*Combine samsung and apple submission into one df*"
   ]
  },
  {
   "cell_type": "code",
   "execution_count": 158,
   "id": "e501258b",
   "metadata": {},
   "outputs": [],
   "source": [
    "df_submission = pd.concat([df_apple_submission, df_samsung_submission], ignore_index=True)"
   ]
  },
  {
   "cell_type": "code",
   "execution_count": 159,
   "id": "da470663",
   "metadata": {},
   "outputs": [],
   "source": [
    "#concatenating of title and the post text\n",
    "df_submission['title_txt'] = df_submission['title'] + \" \" + df_submission['selftext']"
   ]
  },
  {
   "cell_type": "code",
   "execution_count": 160,
   "id": "8ac9ab92",
   "metadata": {},
   "outputs": [
    {
     "data": {
      "text/html": [
       "<div>\n",
       "<style scoped>\n",
       "    .dataframe tbody tr th:only-of-type {\n",
       "        vertical-align: middle;\n",
       "    }\n",
       "\n",
       "    .dataframe tbody tr th {\n",
       "        vertical-align: top;\n",
       "    }\n",
       "\n",
       "    .dataframe thead th {\n",
       "        text-align: right;\n",
       "    }\n",
       "</style>\n",
       "<table border=\"1\" class=\"dataframe\">\n",
       "  <thead>\n",
       "    <tr style=\"text-align: right;\">\n",
       "      <th></th>\n",
       "      <th>title</th>\n",
       "      <th>selftext</th>\n",
       "      <th>subreddit</th>\n",
       "      <th>title_txt</th>\n",
       "    </tr>\n",
       "  </thead>\n",
       "  <tbody>\n",
       "    <tr>\n",
       "      <th>0</th>\n",
       "      <td>Thanks apple</td>\n",
       "      <td>Thanks to your anti consumer move to take the charger out of the box you have screwed your custo...</td>\n",
       "      <td>apple</td>\n",
       "      <td>Thanks apple Thanks to your anti consumer move to take the charger out of the box you have screw...</td>\n",
       "    </tr>\n",
       "    <tr>\n",
       "      <th>1</th>\n",
       "      <td>Got a notification “your Apple ID….” But clicked away before I could read it. What could it have...</td>\n",
       "      <td>I did recently get the iPhone 13 pro so maybe something about setting something up? But everythi...</td>\n",
       "      <td>apple</td>\n",
       "      <td>Got a notification “your Apple ID….” But clicked away before I could read it. What could it have...</td>\n",
       "    </tr>\n",
       "    <tr>\n",
       "      <th>2</th>\n",
       "      <td>Airpods Pro Sales?</td>\n",
       "      <td>Thinking of getting Airpod Pros soon. Which site and deal do you all expect should I wait for at...</td>\n",
       "      <td>apple</td>\n",
       "      <td>Airpods Pro Sales? Thinking of getting Airpod Pros soon. Which site and deal do you all expect s...</td>\n",
       "    </tr>\n",
       "    <tr>\n",
       "      <th>3</th>\n",
       "      <td>Still Li-ion batteries?</td>\n",
       "      <td>Just saw the JRE video of iPhone 13 pro max and it showed that Apple is still using Li-ion batte...</td>\n",
       "      <td>apple</td>\n",
       "      <td>Still Li-ion batteries? Just saw the JRE video of iPhone 13 pro max and it showed that Apple is ...</td>\n",
       "    </tr>\n",
       "    <tr>\n",
       "      <th>4</th>\n",
       "      <td>So Texans cannot add their COVID19 Vaccines to their wallet right?</td>\n",
       "      <td>Just so I understand this right, I was super excited to update toward IOS 15.1 for the digital v...</td>\n",
       "      <td>apple</td>\n",
       "      <td>So Texans cannot add their COVID19 Vaccines to their wallet right? Just so I understand this rig...</td>\n",
       "    </tr>\n",
       "    <tr>\n",
       "      <th>...</th>\n",
       "      <td>...</td>\n",
       "      <td>...</td>\n",
       "      <td>...</td>\n",
       "      <td>...</td>\n",
       "    </tr>\n",
       "    <tr>\n",
       "      <th>14514</th>\n",
       "      <td>S21 ultra front camera vertical lines?</td>\n",
       "      <td>Anybody having a problem getting multicolored  vertical lines on the front camera of the s21 ult...</td>\n",
       "      <td>samsung</td>\n",
       "      <td>S21 ultra front camera vertical lines? Anybody having a problem getting multicolored  vertical l...</td>\n",
       "    </tr>\n",
       "    <tr>\n",
       "      <th>14515</th>\n",
       "      <td>One ui 3.0 on note 10+ bug?</td>\n",
       "      <td>I got one ui 3.0 on my note 10+ yesterday, and a couple hours later the touchscreen only works s...</td>\n",
       "      <td>samsung</td>\n",
       "      <td>One ui 3.0 on note 10+ bug? I got one ui 3.0 on my note 10+ yesterday, and a couple hours later ...</td>\n",
       "    </tr>\n",
       "    <tr>\n",
       "      <th>14516</th>\n",
       "      <td>Does the S21 Ultra have 'live focus' on normal photo camera? I can't see it in the options</td>\n",
       "      <td>Does the S21 Ultra have 'live focus' on normal photo camera? I can't see it in the options</td>\n",
       "      <td>samsung</td>\n",
       "      <td>Does the S21 Ultra have 'live focus' on normal photo camera? I can't see it in the options Does ...</td>\n",
       "    </tr>\n",
       "    <tr>\n",
       "      <th>14517</th>\n",
       "      <td>Samsung tablet S5e trouble with streaming services not working - cache? reset? How to fix?</td>\n",
       "      <td>I have a year old Samsung Tablet S5e - love it. But suddenly some of the streaming services don'...</td>\n",
       "      <td>samsung</td>\n",
       "      <td>Samsung tablet S5e trouble with streaming services not working - cache? reset? How to fix? I hav...</td>\n",
       "    </tr>\n",
       "    <tr>\n",
       "      <th>14518</th>\n",
       "      <td>Is the screen protector that comes already applied the s21 ultra good quality?</td>\n",
       "      <td>Mine has already scratched, so I bought a new glass one from amazon...it turned up with a note i...</td>\n",
       "      <td>samsung</td>\n",
       "      <td>Is the screen protector that comes already applied the s21 ultra good quality? Mine has already ...</td>\n",
       "    </tr>\n",
       "  </tbody>\n",
       "</table>\n",
       "<p>14519 rows × 4 columns</p>\n",
       "</div>"
      ],
      "text/plain": [
       "                                                                                                     title  \\\n",
       "0                                                                                             Thanks apple   \n",
       "1      Got a notification “your Apple ID….” But clicked away before I could read it. What could it have...   \n",
       "2                                                                                       Airpods Pro Sales?   \n",
       "3                                                                                  Still Li-ion batteries?   \n",
       "4                                       So Texans cannot add their COVID19 Vaccines to their wallet right?   \n",
       "...                                                                                                    ...   \n",
       "14514                                                               S21 ultra front camera vertical lines?   \n",
       "14515                                                                          One ui 3.0 on note 10+ bug?   \n",
       "14516           Does the S21 Ultra have 'live focus' on normal photo camera? I can't see it in the options   \n",
       "14517           Samsung tablet S5e trouble with streaming services not working - cache? reset? How to fix?   \n",
       "14518                       Is the screen protector that comes already applied the s21 ultra good quality?   \n",
       "\n",
       "                                                                                                  selftext  \\\n",
       "0      Thanks to your anti consumer move to take the charger out of the box you have screwed your custo...   \n",
       "1      I did recently get the iPhone 13 pro so maybe something about setting something up? But everythi...   \n",
       "2      Thinking of getting Airpod Pros soon. Which site and deal do you all expect should I wait for at...   \n",
       "3      Just saw the JRE video of iPhone 13 pro max and it showed that Apple is still using Li-ion batte...   \n",
       "4      Just so I understand this right, I was super excited to update toward IOS 15.1 for the digital v...   \n",
       "...                                                                                                    ...   \n",
       "14514  Anybody having a problem getting multicolored  vertical lines on the front camera of the s21 ult...   \n",
       "14515  I got one ui 3.0 on my note 10+ yesterday, and a couple hours later the touchscreen only works s...   \n",
       "14516           Does the S21 Ultra have 'live focus' on normal photo camera? I can't see it in the options   \n",
       "14517  I have a year old Samsung Tablet S5e - love it. But suddenly some of the streaming services don'...   \n",
       "14518  Mine has already scratched, so I bought a new glass one from amazon...it turned up with a note i...   \n",
       "\n",
       "      subreddit  \\\n",
       "0         apple   \n",
       "1         apple   \n",
       "2         apple   \n",
       "3         apple   \n",
       "4         apple   \n",
       "...         ...   \n",
       "14514   samsung   \n",
       "14515   samsung   \n",
       "14516   samsung   \n",
       "14517   samsung   \n",
       "14518   samsung   \n",
       "\n",
       "                                                                                                 title_txt  \n",
       "0      Thanks apple Thanks to your anti consumer move to take the charger out of the box you have screw...  \n",
       "1      Got a notification “your Apple ID….” But clicked away before I could read it. What could it have...  \n",
       "2      Airpods Pro Sales? Thinking of getting Airpod Pros soon. Which site and deal do you all expect s...  \n",
       "3      Still Li-ion batteries? Just saw the JRE video of iPhone 13 pro max and it showed that Apple is ...  \n",
       "4      So Texans cannot add their COVID19 Vaccines to their wallet right? Just so I understand this rig...  \n",
       "...                                                                                                    ...  \n",
       "14514  S21 ultra front camera vertical lines? Anybody having a problem getting multicolored  vertical l...  \n",
       "14515  One ui 3.0 on note 10+ bug? I got one ui 3.0 on my note 10+ yesterday, and a couple hours later ...  \n",
       "14516  Does the S21 Ultra have 'live focus' on normal photo camera? I can't see it in the options Does ...  \n",
       "14517  Samsung tablet S5e trouble with streaming services not working - cache? reset? How to fix? I hav...  \n",
       "14518  Is the screen protector that comes already applied the s21 ultra good quality? Mine has already ...  \n",
       "\n",
       "[14519 rows x 4 columns]"
      ]
     },
     "execution_count": 160,
     "metadata": {},
     "output_type": "execute_result"
    }
   ],
   "source": [
    "df_submission"
   ]
  },
  {
   "cell_type": "code",
   "execution_count": 161,
   "id": "d6aa3b2b",
   "metadata": {},
   "outputs": [],
   "source": [
    "df_submission.to_csv('../data/submission.csv', index=False)\n",
    "#save combine in csv"
   ]
  },
  {
   "cell_type": "markdown",
   "id": "8e83a5d6",
   "metadata": {},
   "source": [
    "# EDA"
   ]
  },
  {
   "cell_type": "code",
   "execution_count": 162,
   "id": "1386d515",
   "metadata": {},
   "outputs": [],
   "source": [
    "df_submission['length_title'] = df_submission['title'].apply(len)\n",
    "#get the length of title"
   ]
  },
  {
   "cell_type": "code",
   "execution_count": 163,
   "id": "d255bb84",
   "metadata": {},
   "outputs": [],
   "source": [
    "df_submission['length_selftext']  =  df_submission['selftext'].apply(len)\n",
    "#get the length of selftext"
   ]
  },
  {
   "cell_type": "code",
   "execution_count": 164,
   "id": "d1ac6e4b",
   "metadata": {},
   "outputs": [
    {
     "name": "stderr",
     "output_type": "stream",
     "text": [
      "C:\\ProgramData\\Anaconda3\\lib\\site-packages\\seaborn\\_decorators.py:36: FutureWarning: Pass the following variable as a keyword arg: x. From version 0.12, the only valid positional argument will be `data`, and passing other arguments without an explicit keyword will result in an error or misinterpretation.\n",
      "  warnings.warn(\n"
     ]
    },
    {
     "data": {
      "image/png": "[encoded data removed]",
      "text/plain": [
       "<Figure size 1080x504 with 1 Axes>"
      ]
     },
     "metadata": {
      "needs_background": "light"
     },
     "output_type": "display_data"
    }
   ],
   "source": [
    "plt.figure(figsize=(15, 7))\n",
    "sns.countplot(df_submission['subreddit'],label = 'Count')\n",
    "plt.title('Total count of Apple and Samsung post');"
   ]
  },
  {
   "cell_type": "markdown",
   "id": "12a90063",
   "metadata": {},
   "source": [
    "Observation: Apple have slightly more post count than samsung after data filtering"
   ]
  },
  {
   "cell_type": "code",
   "execution_count": 165,
   "id": "512bfffd",
   "metadata": {},
   "outputs": [],
   "source": [
    "length_submission_title = df_submission [['length_title']]\n",
    "length_submission_selftext =  df_submission [['length_selftext']]"
   ]
  },
  {
   "cell_type": "code",
   "execution_count": 166,
   "id": "60b7aa7a",
   "metadata": {},
   "outputs": [
    {
     "data": {
      "text/html": [
       "<div>\n",
       "<style scoped>\n",
       "    .dataframe tbody tr th:only-of-type {\n",
       "        vertical-align: middle;\n",
       "    }\n",
       "\n",
       "    .dataframe tbody tr th {\n",
       "        vertical-align: top;\n",
       "    }\n",
       "\n",
       "    .dataframe thead th {\n",
       "        text-align: right;\n",
       "    }\n",
       "</style>\n",
       "<table border=\"1\" class=\"dataframe\">\n",
       "  <thead>\n",
       "    <tr style=\"text-align: right;\">\n",
       "      <th></th>\n",
       "      <th>length_title</th>\n",
       "    </tr>\n",
       "  </thead>\n",
       "  <tbody>\n",
       "    <tr>\n",
       "      <th>count</th>\n",
       "      <td>14519.000000</td>\n",
       "    </tr>\n",
       "    <tr>\n",
       "      <th>mean</th>\n",
       "      <td>50.720504</td>\n",
       "    </tr>\n",
       "    <tr>\n",
       "      <th>std</th>\n",
       "      <td>35.610541</td>\n",
       "    </tr>\n",
       "    <tr>\n",
       "      <th>min</th>\n",
       "      <td>1.000000</td>\n",
       "    </tr>\n",
       "    <tr>\n",
       "      <th>25%</th>\n",
       "      <td>28.000000</td>\n",
       "    </tr>\n",
       "    <tr>\n",
       "      <th>50%</th>\n",
       "      <td>42.000000</td>\n",
       "    </tr>\n",
       "    <tr>\n",
       "      <th>75%</th>\n",
       "      <td>62.000000</td>\n",
       "    </tr>\n",
       "    <tr>\n",
       "      <th>max</th>\n",
       "      <td>302.000000</td>\n",
       "    </tr>\n",
       "  </tbody>\n",
       "</table>\n",
       "</div>"
      ],
      "text/plain": [
       "       length_title\n",
       "count  14519.000000\n",
       "mean      50.720504\n",
       "std       35.610541\n",
       "min        1.000000\n",
       "25%       28.000000\n",
       "50%       42.000000\n",
       "75%       62.000000\n",
       "max      302.000000"
      ]
     },
     "execution_count": 166,
     "metadata": {},
     "output_type": "execute_result"
    }
   ],
   "source": [
    "length_submission_title .describe()"
   ]
  },
  {
   "cell_type": "code",
   "execution_count": 167,
   "id": "702b34c2",
   "metadata": {},
   "outputs": [
    {
     "data": {
      "image/png": "[encoded data removed]",
      "text/plain": [
       "<Figure size 1080x504 with 1 Axes>"
      ]
     },
     "metadata": {
      "needs_background": "light"
     },
     "output_type": "display_data"
    }
   ],
   "source": [
    "plt.figure(figsize=(15, 7))\n",
    "length_submission_title .boxplot()\n",
    "plt.title('Boxplot of samsung/apple title length');"
   ]
  },
  {
   "cell_type": "markdown",
   "id": "503cae69",
   "metadata": {},
   "source": [
    "Observation: The range of title length is between 1 to 302 with its median at 42 character and Q3 at 62 char. This shows definitely there will be a lot of out outliers. However, they will still be included as it may be useful for the model. As having less than 2 characters will not be useful f, this will not be included in the model moving forward."
   ]
  },
  {
   "cell_type": "code",
   "execution_count": 168,
   "id": "4fa76742",
   "metadata": {},
   "outputs": [
    {
     "data": {
      "image/png": "[encoded data removed]",
      "text/plain": [
       "<Figure size 1080x504 with 1 Axes>"
      ]
     },
     "metadata": {
      "needs_background": "light"
     },
     "output_type": "display_data"
    }
   ],
   "source": [
    "plt.figure(figsize=(15, 7))\n",
    "length_submission_selftext.boxplot()\n",
    "plt.title('Boxplot of samsung/apple selftext length');"
   ]
  },
  {
   "cell_type": "code",
   "execution_count": 169,
   "id": "069ef348",
   "metadata": {},
   "outputs": [
    {
     "data": {
      "text/html": [
       "<div>\n",
       "<style scoped>\n",
       "    .dataframe tbody tr th:only-of-type {\n",
       "        vertical-align: middle;\n",
       "    }\n",
       "\n",
       "    .dataframe tbody tr th {\n",
       "        vertical-align: top;\n",
       "    }\n",
       "\n",
       "    .dataframe thead th {\n",
       "        text-align: right;\n",
       "    }\n",
       "</style>\n",
       "<table border=\"1\" class=\"dataframe\">\n",
       "  <thead>\n",
       "    <tr style=\"text-align: right;\">\n",
       "      <th></th>\n",
       "      <th>length_selftext</th>\n",
       "    </tr>\n",
       "  </thead>\n",
       "  <tbody>\n",
       "    <tr>\n",
       "      <th>count</th>\n",
       "      <td>14519.000000</td>\n",
       "    </tr>\n",
       "    <tr>\n",
       "      <th>mean</th>\n",
       "      <td>465.810937</td>\n",
       "    </tr>\n",
       "    <tr>\n",
       "      <th>std</th>\n",
       "      <td>697.325197</td>\n",
       "    </tr>\n",
       "    <tr>\n",
       "      <th>min</th>\n",
       "      <td>1.000000</td>\n",
       "    </tr>\n",
       "    <tr>\n",
       "      <th>25%</th>\n",
       "      <td>168.000000</td>\n",
       "    </tr>\n",
       "    <tr>\n",
       "      <th>50%</th>\n",
       "      <td>300.000000</td>\n",
       "    </tr>\n",
       "    <tr>\n",
       "      <th>75%</th>\n",
       "      <td>533.000000</td>\n",
       "    </tr>\n",
       "    <tr>\n",
       "      <th>max</th>\n",
       "      <td>29770.000000</td>\n",
       "    </tr>\n",
       "  </tbody>\n",
       "</table>\n",
       "</div>"
      ],
      "text/plain": [
       "       length_selftext\n",
       "count     14519.000000\n",
       "mean        465.810937\n",
       "std         697.325197\n",
       "min           1.000000\n",
       "25%         168.000000\n",
       "50%         300.000000\n",
       "75%         533.000000\n",
       "max       29770.000000"
      ]
     },
     "execution_count": 169,
     "metadata": {},
     "output_type": "execute_result"
    }
   ],
   "source": [
    "length_submission_selftext.describe()"
   ]
  },
  {
   "cell_type": "markdown",
   "id": "3492725b",
   "metadata": {},
   "source": [
    "Observation: The range of selftext length is between 1 to 29770 with its median at 300 character and Q3 at 533 char thus having a huge amount of outliers as well . However, they will still be included as it may be useful for the model. As having less than 2 characters will not be useful , this will not be included in the model moving forward."
   ]
  },
  {
   "cell_type": "code",
   "execution_count": 170,
   "id": "700cb601",
   "metadata": {},
   "outputs": [],
   "source": [
    "df_submission['target'] = df_submission['subreddit'].map({'apple':1, 'samsung': 0})\n",
    "df_submission.drop('subreddit', axis=1, inplace=True)\n",
    "#mapping 1 to apple, 0 to samsung"
   ]
  },
  {
   "cell_type": "code",
   "execution_count": 171,
   "id": "2e4a90ad",
   "metadata": {},
   "outputs": [],
   "source": [
    "samsung = df_submission[df_submission['target']==0]\n",
    "apple = df_submission[df_submission['target']==1]"
   ]
  },
  {
   "cell_type": "code",
   "execution_count": 172,
   "id": "e9462309",
   "metadata": {},
   "outputs": [
    {
     "name": "stderr",
     "output_type": "stream",
     "text": [
      "C:\\ProgramData\\Anaconda3\\lib\\site-packages\\seaborn\\distributions.py:2557: FutureWarning: `distplot` is a deprecated function and will be removed in a future version. Please adapt your code to use either `displot` (a figure-level function with similar flexibility) or `histplot` (an axes-level function for histograms).\n",
      "  warnings.warn(msg, FutureWarning)\n",
      "C:\\ProgramData\\Anaconda3\\lib\\site-packages\\seaborn\\distributions.py:2557: FutureWarning: `distplot` is a deprecated function and will be removed in a future version. Please adapt your code to use either `displot` (a figure-level function with similar flexibility) or `histplot` (an axes-level function for histograms).\n",
      "  warnings.warn(msg, FutureWarning)\n"
     ]
    },
    {
     "data": {
      "image/png": "[encoded data removed]",
      "text/plain": [
       "<Figure size 1080x504 with 1 Axes>"
      ]
     },
     "metadata": {
      "needs_background": "light"
     },
     "output_type": "display_data"
    }
   ],
   "source": [
    "plt.figure(figsize=(15,7))\n",
    "sns.distplot(samsung[samsung['target'] == 0]['length_title'], kde=False, label='Samsung')\n",
    "sns.distplot(apple[apple['target'] == 1]['length_title'], kde=False, label='Apple')\n",
    "plt.title('Distribution of title length of samsung and apple reddit')\n",
    "plt.ylabel('Frequency')\n",
    "plt.xlabel('Title Length')\n",
    "plt.legend();"
   ]
  },
  {
   "cell_type": "markdown",
   "id": "33455971",
   "metadata": {},
   "source": [
    "Observation: Title of length is rightly skewed for both Apple and Samsung reddit with Samsung having higher frequency for its mode at rougly 40 characters"
   ]
  },
  {
   "cell_type": "code",
   "execution_count": 173,
   "id": "11fdadcb",
   "metadata": {},
   "outputs": [
    {
     "name": "stderr",
     "output_type": "stream",
     "text": [
      "C:\\ProgramData\\Anaconda3\\lib\\site-packages\\seaborn\\distributions.py:2557: FutureWarning: `distplot` is a deprecated function and will be removed in a future version. Please adapt your code to use either `displot` (a figure-level function with similar flexibility) or `histplot` (an axes-level function for histograms).\n",
      "  warnings.warn(msg, FutureWarning)\n",
      "C:\\ProgramData\\Anaconda3\\lib\\site-packages\\seaborn\\distributions.py:2557: FutureWarning: `distplot` is a deprecated function and will be removed in a future version. Please adapt your code to use either `displot` (a figure-level function with similar flexibility) or `histplot` (an axes-level function for histograms).\n",
      "  warnings.warn(msg, FutureWarning)\n"
     ]
    },
    {
     "data": {
      "image/png": "[encoded data removed]",
      "text/plain": [
       "<Figure size 1080x504 with 1 Axes>"
      ]
     },
     "metadata": {
      "needs_background": "light"
     },
     "output_type": "display_data"
    }
   ],
   "source": [
    "plt.figure(figsize=(15,7))\n",
    "sns.distplot(samsung[samsung['target'] == 0]['length_selftext'], kde=False, label='Samsung')\n",
    "sns.distplot(apple[apple['target'] == 1]['length_selftext'], kde=False, label='Apple')\n",
    "plt.title('Distribution of selftext length of samsung and apple reddit')\n",
    "plt.ylabel('Frequency')\n",
    "plt.xlabel('Selftext length')\n",
    "plt.legend();"
   ]
  },
  {
   "cell_type": "markdown",
   "id": "c31ca7c3",
   "metadata": {},
   "source": [
    "Observation: Length of selftext is rightly skewed for both Apple and Samsung reddit. Apple have a much frequency despite having same mode with samsung between 0-5 char."
   ]
  },
  {
   "cell_type": "code",
   "execution_count": 174,
   "id": "e1d8c058",
   "metadata": {},
   "outputs": [
    {
     "data": {
      "image/png": "[encoded data removed]",
      "text/plain": [
       "<Figure size 720x576 with 2 Axes>"
      ]
     },
     "metadata": {
      "needs_background": "light"
     },
     "output_type": "display_data"
    }
   ],
   "source": [
    "plt.figure(figsize=(10,8))\n",
    "plt.title('Correlation of reddit title and selftext')\n",
    "sns.heatmap(df_submission.corr(),\n",
    "           annot=True,\n",
    "           cmap='viridis',\n",
    "           vmin=-1);"
   ]
  },
  {
   "cell_type": "markdown",
   "id": "1192c364",
   "metadata": {},
   "source": [
    "Observation : This diagram shows that besides correlation with themselves, they are not highly correlated."
   ]
  },
  {
   "cell_type": "markdown",
   "id": "d204398c",
   "metadata": {},
   "source": [
    "# Data Cleaning Part 2 and EDA\n",
    "- Part 2 is to clean title_txt column from hyperlinks and get the most used words and phrases without including the stop words before NLP process"
   ]
  },
  {
   "cell_type": "code",
   "execution_count": 175,
   "id": "c7ea499f",
   "metadata": {},
   "outputs": [],
   "source": [
    "df_submission['title_txt'] = df_submission['title_txt'].apply(clean_hyperlinks)\n",
    "#to remove hyperlinks "
   ]
  },
  {
   "cell_type": "code",
   "execution_count": 176,
   "id": "f6a66e19",
   "metadata": {},
   "outputs": [],
   "source": [
    "samsung_sentences = samsung['title_txt'].tolist()\n",
    "samsung_sentences_as_one_string = \" \".join(samsung_sentences).lower() #join all in one sentence for samsung"
   ]
  },
  {
   "cell_type": "code",
   "execution_count": 177,
   "id": "1cab58e8",
   "metadata": {},
   "outputs": [],
   "source": [
    "apple_sentences = apple['title_txt'].tolist()\n",
    "apple_sentences_as_one_string = \" \".join(apple_sentences).lower() #join all in one sentence for   apple"
   ]
  },
  {
   "cell_type": "code",
   "execution_count": 182,
   "id": "1b425ed1",
   "metadata": {},
   "outputs": [],
   "source": [
    "#init wordcloud instance.To view words that appear frequently without stopwords\n",
    "wordcloud = WordCloud(stopwords=stopwords, background_color=\"white\", max_font_size=80, max_words=10)"
   ]
  },
  {
   "cell_type": "code",
   "execution_count": 183,
   "id": "a3c46a44",
   "metadata": {},
   "outputs": [
    {
     "data": {
      "image/png": "[encoded data removed]",
      "text/plain": [
       "<Figure size 1080x504 with 1 Axes>"
      ]
     },
     "metadata": {
      "needs_background": "light"
     },
     "output_type": "display_data"
    }
   ],
   "source": [
    "plt.figure(figsize=(15,7))\n",
    "plt.title('Most used words in r/Samsung')\n",
    "plt.imshow(wordcloud.generate(samsung_sentences_as_one_string)); \n",
    "#view the most used words in samsung"
   ]
  },
  {
   "cell_type": "markdown",
   "id": "2e0e7b4d",
   "metadata": {},
   "source": [
    "Observation: Above shows the 10 most used in r/Samsung without the stopwords. Most dominant words found for r/Samsung are phone, s21 ultra and app"
   ]
  },
  {
   "cell_type": "code",
   "execution_count": 184,
   "id": "2e4d0d5f",
   "metadata": {},
   "outputs": [
    {
     "data": {
      "image/png": "[encoded data removed]",
      "text/plain": [
       "<Figure size 1080x504 with 1 Axes>"
      ]
     },
     "metadata": {
      "needs_background": "light"
     },
     "output_type": "display_data"
    }
   ],
   "source": [
    "plt.figure(figsize=(15,7))\n",
    "plt.title('Most used words in r/Apple')\n",
    "plt.imshow(wordcloud.generate(apple_sentences_as_one_string )); \n",
    "#view the most used words in samsung"
   ]
  },
  {
   "cell_type": "markdown",
   "id": "2cc6b347",
   "metadata": {},
   "source": [
    "Observation: Above shows the 10 most used in r/Apple without the stopwords.It have few similar words with samsung such as app and phone and a different dominant word which is iphone"
   ]
  },
  {
   "cell_type": "code",
   "execution_count": 185,
   "id": "e5d0ef3f",
   "metadata": {},
   "outputs": [
    {
     "data": {
      "image/png": "[encoded data removed]",
      "text/plain": [
       "<Figure size 864x648 with 1 Axes>"
      ]
     },
     "metadata": {
      "needs_background": "light"
     },
     "output_type": "display_data"
    }
   ],
   "source": [
    "#common phrase for Apple\n",
    "common_words_mh = get_top_phrase(df_submission[df_submission['target']==1]['title_txt'], 10)\n",
    "\n",
    "phrase_df = pd.DataFrame(common_words_mh, columns = ['text' , 'count'])\n",
    "\n",
    "plt.figure(figsize=(12, 9));\n",
    "phrase_df.groupby('text').sum()['count'].sort_values(ascending=True).plot(kind='barh');\n",
    "plt.ylabel('');\n",
    "plt.title('Top 10 phrase in r/Apple', fontdict={'fontsize': 30});\n",
    "#set large enough font size for ytick labels \n",
    "plt.gca().tick_params(axis='y', labelsize=16);"
   ]
  },
  {
   "cell_type": "markdown",
   "id": "16d47729",
   "metadata": {},
   "source": [
    "Obsevations: Above shows the top 10 bigram for apple with stopwords not included. Diagram shows the top phrases\n",
    "are mostly just their recent products with macbook pro being the top"
   ]
  },
  {
   "cell_type": "code",
   "execution_count": 186,
   "id": "ec6f465c",
   "metadata": {},
   "outputs": [
    {
     "data": {
      "image/png": "[encoded data removed]",
      "text/plain": [
       "<Figure size 864x648 with 1 Axes>"
      ]
     },
     "metadata": {
      "needs_background": "light"
     },
     "output_type": "display_data"
    }
   ],
   "source": [
    "#common phrase for Samsung\n",
    "common_words_mh = get_top_phrase(df_submission[df_submission['target']==0]['title_txt'], 10)\n",
    "\n",
    "phrase_df = pd.DataFrame(common_words_mh, columns = ['text' , 'count'])\n",
    "\n",
    "plt.figure(figsize=(12, 9));\n",
    "phrase_df.groupby('text').sum()['count'].sort_values(ascending=True).plot(kind='barh');\n",
    "plt.ylabel('');\n",
    "plt.title('Top 10 phrase in r/Samsung', fontdict={'fontsize': 30});\n",
    "#set large enough font size for ytick labels \n",
    "plt.gca().tick_params(axis='y', labelsize=16);"
   ]
  },
  {
   "cell_type": "markdown",
   "id": "e3e93b57",
   "metadata": {},
   "source": [
    "Observations:Above shows the top 10 bigram phrase for Samsung reddit without stopwords. Similarly to Apple, it consist mostly of their recent product name with s21 ultra as the top"
   ]
  },
  {
   "cell_type": "markdown",
   "id": "bed95e24",
   "metadata": {},
   "source": [
    "# NLP Pre Processing"
   ]
  },
  {
   "cell_type": "code",
   "execution_count": 187,
   "id": "eae45b85",
   "metadata": {},
   "outputs": [
    {
     "data": {
      "text/html": [
       "<div>\n",
       "<style scoped>\n",
       "    .dataframe tbody tr th:only-of-type {\n",
       "        vertical-align: middle;\n",
       "    }\n",
       "\n",
       "    .dataframe tbody tr th {\n",
       "        vertical-align: top;\n",
       "    }\n",
       "\n",
       "    .dataframe thead th {\n",
       "        text-align: right;\n",
       "    }\n",
       "</style>\n",
       "<table border=\"1\" class=\"dataframe\">\n",
       "  <thead>\n",
       "    <tr style=\"text-align: right;\">\n",
       "      <th></th>\n",
       "      <th>title</th>\n",
       "      <th>selftext</th>\n",
       "      <th>title_txt</th>\n",
       "      <th>length_title</th>\n",
       "      <th>length_selftext</th>\n",
       "      <th>target</th>\n",
       "    </tr>\n",
       "  </thead>\n",
       "  <tbody>\n",
       "    <tr>\n",
       "      <th>0</th>\n",
       "      <td>Thanks apple</td>\n",
       "      <td>Thanks to your anti consumer move to take the charger out of the box you have screwed your custo...</td>\n",
       "      <td>Thanks apple Thanks to your anti consumer move to take the charger out of the box you have screw...</td>\n",
       "      <td>12</td>\n",
       "      <td>516</td>\n",
       "      <td>1</td>\n",
       "    </tr>\n",
       "    <tr>\n",
       "      <th>1</th>\n",
       "      <td>Got a notification “your Apple ID….” But clicked away before I could read it. What could it have...</td>\n",
       "      <td>I did recently get the iPhone 13 pro so maybe something about setting something up? But everythi...</td>\n",
       "      <td>Got a notification “your Apple ID….” But clicked away before I could read it. What could it have...</td>\n",
       "      <td>102</td>\n",
       "      <td>515</td>\n",
       "      <td>1</td>\n",
       "    </tr>\n",
       "    <tr>\n",
       "      <th>2</th>\n",
       "      <td>Airpods Pro Sales?</td>\n",
       "      <td>Thinking of getting Airpod Pros soon. Which site and deal do you all expect should I wait for at...</td>\n",
       "      <td>Airpods Pro Sales? Thinking of getting Airpod Pros soon. Which site and deal do you all expect s...</td>\n",
       "      <td>18</td>\n",
       "      <td>132</td>\n",
       "      <td>1</td>\n",
       "    </tr>\n",
       "    <tr>\n",
       "      <th>3</th>\n",
       "      <td>Still Li-ion batteries?</td>\n",
       "      <td>Just saw the JRE video of iPhone 13 pro max and it showed that Apple is still using Li-ion batte...</td>\n",
       "      <td>Still Li-ion batteries? Just saw the JRE video of iPhone 13 pro max and it showed that Apple is ...</td>\n",
       "      <td>23</td>\n",
       "      <td>171</td>\n",
       "      <td>1</td>\n",
       "    </tr>\n",
       "    <tr>\n",
       "      <th>4</th>\n",
       "      <td>So Texans cannot add their COVID19 Vaccines to their wallet right?</td>\n",
       "      <td>Just so I understand this right, I was super excited to update toward IOS 15.1 for the digital v...</td>\n",
       "      <td>So Texans cannot add their COVID19 Vaccines to their wallet right? Just so I understand this rig...</td>\n",
       "      <td>66</td>\n",
       "      <td>435</td>\n",
       "      <td>1</td>\n",
       "    </tr>\n",
       "    <tr>\n",
       "      <th>...</th>\n",
       "      <td>...</td>\n",
       "      <td>...</td>\n",
       "      <td>...</td>\n",
       "      <td>...</td>\n",
       "      <td>...</td>\n",
       "      <td>...</td>\n",
       "    </tr>\n",
       "    <tr>\n",
       "      <th>14514</th>\n",
       "      <td>S21 ultra front camera vertical lines?</td>\n",
       "      <td>Anybody having a problem getting multicolored  vertical lines on the front camera of the s21 ult...</td>\n",
       "      <td>S21 ultra front camera vertical lines? Anybody having a problem getting multicolored  vertical l...</td>\n",
       "      <td>38</td>\n",
       "      <td>134</td>\n",
       "      <td>0</td>\n",
       "    </tr>\n",
       "    <tr>\n",
       "      <th>14515</th>\n",
       "      <td>One ui 3.0 on note 10+ bug?</td>\n",
       "      <td>I got one ui 3.0 on my note 10+ yesterday, and a couple hours later the touchscreen only works s...</td>\n",
       "      <td>One ui 3.0 on note 10+ bug? I got one ui 3.0 on my note 10+ yesterday, and a couple hours later ...</td>\n",
       "      <td>27</td>\n",
       "      <td>361</td>\n",
       "      <td>0</td>\n",
       "    </tr>\n",
       "    <tr>\n",
       "      <th>14516</th>\n",
       "      <td>Does the S21 Ultra have 'live focus' on normal photo camera? I can't see it in the options</td>\n",
       "      <td>Does the S21 Ultra have 'live focus' on normal photo camera? I can't see it in the options</td>\n",
       "      <td>Does the S21 Ultra have 'live focus' on normal photo camera? I can't see it in the options Does ...</td>\n",
       "      <td>90</td>\n",
       "      <td>90</td>\n",
       "      <td>0</td>\n",
       "    </tr>\n",
       "    <tr>\n",
       "      <th>14517</th>\n",
       "      <td>Samsung tablet S5e trouble with streaming services not working - cache? reset? How to fix?</td>\n",
       "      <td>I have a year old Samsung Tablet S5e - love it. But suddenly some of the streaming services don'...</td>\n",
       "      <td>Samsung tablet S5e trouble with streaming services not working - cache? reset? How to fix? I hav...</td>\n",
       "      <td>90</td>\n",
       "      <td>525</td>\n",
       "      <td>0</td>\n",
       "    </tr>\n",
       "    <tr>\n",
       "      <th>14518</th>\n",
       "      <td>Is the screen protector that comes already applied the s21 ultra good quality?</td>\n",
       "      <td>Mine has already scratched, so I bought a new glass one from amazon...it turned up with a note i...</td>\n",
       "      <td>Is the screen protector that comes already applied the s21 ultra good quality? Mine has already ...</td>\n",
       "      <td>78</td>\n",
       "      <td>381</td>\n",
       "      <td>0</td>\n",
       "    </tr>\n",
       "  </tbody>\n",
       "</table>\n",
       "<p>14519 rows × 6 columns</p>\n",
       "</div>"
      ],
      "text/plain": [
       "                                                                                                     title  \\\n",
       "0                                                                                             Thanks apple   \n",
       "1      Got a notification “your Apple ID….” But clicked away before I could read it. What could it have...   \n",
       "2                                                                                       Airpods Pro Sales?   \n",
       "3                                                                                  Still Li-ion batteries?   \n",
       "4                                       So Texans cannot add their COVID19 Vaccines to their wallet right?   \n",
       "...                                                                                                    ...   \n",
       "14514                                                               S21 ultra front camera vertical lines?   \n",
       "14515                                                                          One ui 3.0 on note 10+ bug?   \n",
       "14516           Does the S21 Ultra have 'live focus' on normal photo camera? I can't see it in the options   \n",
       "14517           Samsung tablet S5e trouble with streaming services not working - cache? reset? How to fix?   \n",
       "14518                       Is the screen protector that comes already applied the s21 ultra good quality?   \n",
       "\n",
       "                                                                                                  selftext  \\\n",
       "0      Thanks to your anti consumer move to take the charger out of the box you have screwed your custo...   \n",
       "1      I did recently get the iPhone 13 pro so maybe something about setting something up? But everythi...   \n",
       "2      Thinking of getting Airpod Pros soon. Which site and deal do you all expect should I wait for at...   \n",
       "3      Just saw the JRE video of iPhone 13 pro max and it showed that Apple is still using Li-ion batte...   \n",
       "4      Just so I understand this right, I was super excited to update toward IOS 15.1 for the digital v...   \n",
       "...                                                                                                    ...   \n",
       "14514  Anybody having a problem getting multicolored  vertical lines on the front camera of the s21 ult...   \n",
       "14515  I got one ui 3.0 on my note 10+ yesterday, and a couple hours later the touchscreen only works s...   \n",
       "14516           Does the S21 Ultra have 'live focus' on normal photo camera? I can't see it in the options   \n",
       "14517  I have a year old Samsung Tablet S5e - love it. But suddenly some of the streaming services don'...   \n",
       "14518  Mine has already scratched, so I bought a new glass one from amazon...it turned up with a note i...   \n",
       "\n",
       "                                                                                                 title_txt  \\\n",
       "0      Thanks apple Thanks to your anti consumer move to take the charger out of the box you have screw...   \n",
       "1      Got a notification “your Apple ID….” But clicked away before I could read it. What could it have...   \n",
       "2      Airpods Pro Sales? Thinking of getting Airpod Pros soon. Which site and deal do you all expect s...   \n",
       "3      Still Li-ion batteries? Just saw the JRE video of iPhone 13 pro max and it showed that Apple is ...   \n",
       "4      So Texans cannot add their COVID19 Vaccines to their wallet right? Just so I understand this rig...   \n",
       "...                                                                                                    ...   \n",
       "14514  S21 ultra front camera vertical lines? Anybody having a problem getting multicolored  vertical l...   \n",
       "14515  One ui 3.0 on note 10+ bug? I got one ui 3.0 on my note 10+ yesterday, and a couple hours later ...   \n",
       "14516  Does the S21 Ultra have 'live focus' on normal photo camera? I can't see it in the options Does ...   \n",
       "14517  Samsung tablet S5e trouble with streaming services not working - cache? reset? How to fix? I hav...   \n",
       "14518  Is the screen protector that comes already applied the s21 ultra good quality? Mine has already ...   \n",
       "\n",
       "       length_title  length_selftext  target  \n",
       "0                12              516       1  \n",
       "1               102              515       1  \n",
       "2                18              132       1  \n",
       "3                23              171       1  \n",
       "4                66              435       1  \n",
       "...             ...              ...     ...  \n",
       "14514            38              134       0  \n",
       "14515            27              361       0  \n",
       "14516            90               90       0  \n",
       "14517            90              525       0  \n",
       "14518            78              381       0  \n",
       "\n",
       "[14519 rows x 6 columns]"
      ]
     },
     "execution_count": 187,
     "metadata": {},
     "output_type": "execute_result"
    }
   ],
   "source": [
    "df_submission"
   ]
  },
  {
   "cell_type": "code",
   "execution_count": 188,
   "id": "1963a45b",
   "metadata": {},
   "outputs": [],
   "source": [
    "df_submission.drop(df_submission[(df_submission['selftext'] == df_submission['title'])].index, inplace =True)\n",
    "#dropping rows where selftext is the same as title"
   ]
  },
  {
   "cell_type": "code",
   "execution_count": 189,
   "id": "f98cb27e",
   "metadata": {},
   "outputs": [
    {
     "data": {
      "text/html": [
       "<div>\n",
       "<style scoped>\n",
       "    .dataframe tbody tr th:only-of-type {\n",
       "        vertical-align: middle;\n",
       "    }\n",
       "\n",
       "    .dataframe tbody tr th {\n",
       "        vertical-align: top;\n",
       "    }\n",
       "\n",
       "    .dataframe thead th {\n",
       "        text-align: right;\n",
       "    }\n",
       "</style>\n",
       "<table border=\"1\" class=\"dataframe\">\n",
       "  <thead>\n",
       "    <tr style=\"text-align: right;\">\n",
       "      <th></th>\n",
       "      <th>title_txt</th>\n",
       "      <th>target</th>\n",
       "    </tr>\n",
       "  </thead>\n",
       "  <tbody>\n",
       "    <tr>\n",
       "      <th>0</th>\n",
       "      <td>Thanks apple Thanks to your anti consumer move to take the charger out of the box you have screw...</td>\n",
       "      <td>1</td>\n",
       "    </tr>\n",
       "    <tr>\n",
       "      <th>1</th>\n",
       "      <td>Got a notification “your Apple ID….” But clicked away before I could read it. What could it have...</td>\n",
       "      <td>1</td>\n",
       "    </tr>\n",
       "    <tr>\n",
       "      <th>2</th>\n",
       "      <td>Airpods Pro Sales? Thinking of getting Airpod Pros soon. Which site and deal do you all expect s...</td>\n",
       "      <td>1</td>\n",
       "    </tr>\n",
       "    <tr>\n",
       "      <th>3</th>\n",
       "      <td>Still Li-ion batteries? Just saw the JRE video of iPhone 13 pro max and it showed that Apple is ...</td>\n",
       "      <td>1</td>\n",
       "    </tr>\n",
       "    <tr>\n",
       "      <th>4</th>\n",
       "      <td>So Texans cannot add their COVID19 Vaccines to their wallet right? Just so I understand this rig...</td>\n",
       "      <td>1</td>\n",
       "    </tr>\n",
       "    <tr>\n",
       "      <th>...</th>\n",
       "      <td>...</td>\n",
       "      <td>...</td>\n",
       "    </tr>\n",
       "    <tr>\n",
       "      <th>14513</th>\n",
       "      <td>New update broke fingerprint reader? (S10) Ever since the update my finger print reader has been...</td>\n",
       "      <td>0</td>\n",
       "    </tr>\n",
       "    <tr>\n",
       "      <th>14514</th>\n",
       "      <td>S21 ultra front camera vertical lines? Anybody having a problem getting multicolored  vertical l...</td>\n",
       "      <td>0</td>\n",
       "    </tr>\n",
       "    <tr>\n",
       "      <th>14515</th>\n",
       "      <td>One ui 3.0 on note 10+ bug? I got one ui 3.0 on my note 10+ yesterday, and a couple hours later ...</td>\n",
       "      <td>0</td>\n",
       "    </tr>\n",
       "    <tr>\n",
       "      <th>14517</th>\n",
       "      <td>Samsung tablet S5e trouble with streaming services not working - cache? reset? How to fix? I hav...</td>\n",
       "      <td>0</td>\n",
       "    </tr>\n",
       "    <tr>\n",
       "      <th>14518</th>\n",
       "      <td>Is the screen protector that comes already applied the s21 ultra good quality? Mine has already ...</td>\n",
       "      <td>0</td>\n",
       "    </tr>\n",
       "  </tbody>\n",
       "</table>\n",
       "<p>14470 rows × 2 columns</p>\n",
       "</div>"
      ],
      "text/plain": [
       "                                                                                                 title_txt  \\\n",
       "0      Thanks apple Thanks to your anti consumer move to take the charger out of the box you have screw...   \n",
       "1      Got a notification “your Apple ID….” But clicked away before I could read it. What could it have...   \n",
       "2      Airpods Pro Sales? Thinking of getting Airpod Pros soon. Which site and deal do you all expect s...   \n",
       "3      Still Li-ion batteries? Just saw the JRE video of iPhone 13 pro max and it showed that Apple is ...   \n",
       "4      So Texans cannot add their COVID19 Vaccines to their wallet right? Just so I understand this rig...   \n",
       "...                                                                                                    ...   \n",
       "14513  New update broke fingerprint reader? (S10) Ever since the update my finger print reader has been...   \n",
       "14514  S21 ultra front camera vertical lines? Anybody having a problem getting multicolored  vertical l...   \n",
       "14515  One ui 3.0 on note 10+ bug? I got one ui 3.0 on my note 10+ yesterday, and a couple hours later ...   \n",
       "14517  Samsung tablet S5e trouble with streaming services not working - cache? reset? How to fix? I hav...   \n",
       "14518  Is the screen protector that comes already applied the s21 ultra good quality? Mine has already ...   \n",
       "\n",
       "       target  \n",
       "0           1  \n",
       "1           1  \n",
       "2           1  \n",
       "3           1  \n",
       "4           1  \n",
       "...       ...  \n",
       "14513       0  \n",
       "14514       0  \n",
       "14515       0  \n",
       "14517       0  \n",
       "14518       0  \n",
       "\n",
       "[14470 rows x 2 columns]"
      ]
     },
     "execution_count": 189,
     "metadata": {},
     "output_type": "execute_result"
    }
   ],
   "source": [
    "df_submission = df_submission[['title_txt','target']]\n",
    "df_submission"
   ]
  },
  {
   "cell_type": "code",
   "execution_count": 190,
   "id": "cd8ae0ca",
   "metadata": {},
   "outputs": [
    {
     "name": "stderr",
     "output_type": "stream",
     "text": [
      "<ipython-input-190-2c19c968ad04>:1: SettingWithCopyWarning: \n",
      "A value is trying to be set on a copy of a slice from a DataFrame.\n",
      "Try using .loc[row_indexer,col_indexer] = value instead\n",
      "\n",
      "See the caveats in the documentation: https://pandas.pydata.org/pandas-docs/stable/user_guide/indexing.html#returning-a-view-versus-a-copy\n",
      "  df_submission['txt_lem'] = df_submission['title_txt'].map(clean_text)\n"
     ]
    }
   ],
   "source": [
    "df_submission['txt_lem'] = df_submission['title_txt'].map(clean_text)\n",
    "# clean the title_txt from hyperlinks"
   ]
  },
  {
   "cell_type": "code",
   "execution_count": 191,
   "id": "099646da",
   "metadata": {},
   "outputs": [
    {
     "data": {
      "text/html": [
       "<div>\n",
       "<style scoped>\n",
       "    .dataframe tbody tr th:only-of-type {\n",
       "        vertical-align: middle;\n",
       "    }\n",
       "\n",
       "    .dataframe tbody tr th {\n",
       "        vertical-align: top;\n",
       "    }\n",
       "\n",
       "    .dataframe thead th {\n",
       "        text-align: right;\n",
       "    }\n",
       "</style>\n",
       "<table border=\"1\" class=\"dataframe\">\n",
       "  <thead>\n",
       "    <tr style=\"text-align: right;\">\n",
       "      <th></th>\n",
       "      <th>title_txt</th>\n",
       "      <th>target</th>\n",
       "      <th>txt_lem</th>\n",
       "    </tr>\n",
       "  </thead>\n",
       "  <tbody>\n",
       "    <tr>\n",
       "      <th>0</th>\n",
       "      <td>Thanks apple Thanks to your anti consumer move to take the charger out of the box you have screw...</td>\n",
       "      <td>1</td>\n",
       "      <td>thanks thanks anti consumer move charger box screwed customer enabled every company thing tellin...</td>\n",
       "    </tr>\n",
       "    <tr>\n",
       "      <th>1</th>\n",
       "      <td>Got a notification “your Apple ID….” But clicked away before I could read it. What could it have...</td>\n",
       "      <td>1</td>\n",
       "      <td>notification clicked away read recently iphone pro maybe something setting something everything ...</td>\n",
       "    </tr>\n",
       "    <tr>\n",
       "      <th>2</th>\n",
       "      <td>Airpods Pro Sales? Thinking of getting Airpod Pros soon. Which site and deal do you all expect s...</td>\n",
       "      <td>1</td>\n",
       "      <td>airpods pro sale thinking airpod pro soon site deal expect wait time year thanks</td>\n",
       "    </tr>\n",
       "    <tr>\n",
       "      <th>3</th>\n",
       "      <td>Still Li-ion batteries? Just saw the JRE video of iPhone 13 pro max and it showed that Apple is ...</td>\n",
       "      <td>1</td>\n",
       "      <td>ion battery saw jre video iphone pro max showed using ion battery whole industry shifted towards...</td>\n",
       "    </tr>\n",
       "    <tr>\n",
       "      <th>4</th>\n",
       "      <td>So Texans cannot add their COVID19 Vaccines to their wallet right? Just so I understand this rig...</td>\n",
       "      <td>1</td>\n",
       "      <td>texan cannot add covid vaccine wallet right understand right super excited update toward io dig...</td>\n",
       "    </tr>\n",
       "    <tr>\n",
       "      <th>...</th>\n",
       "      <td>...</td>\n",
       "      <td>...</td>\n",
       "      <td>...</td>\n",
       "    </tr>\n",
       "    <tr>\n",
       "      <th>14513</th>\n",
       "      <td>New update broke fingerprint reader? (S10) Ever since the update my finger print reader has been...</td>\n",
       "      <td>0</td>\n",
       "      <td>new update broke fingerprint reader ever since update finger print reader acting mostly recogniz...</td>\n",
       "    </tr>\n",
       "    <tr>\n",
       "      <th>14514</th>\n",
       "      <td>S21 ultra front camera vertical lines? Anybody having a problem getting multicolored  vertical l...</td>\n",
       "      <td>0</td>\n",
       "      <td>ultra front camera vertical line anybody problem multicolored vertical line front camera ultra ...</td>\n",
       "    </tr>\n",
       "    <tr>\n",
       "      <th>14515</th>\n",
       "      <td>One ui 3.0 on note 10+ bug? I got one ui 3.0 on my note 10+ yesterday, and a couple hours later ...</td>\n",
       "      <td>0</td>\n",
       "      <td>note bug note yesterday couple hour later touchscreen work sometimes tap time tap register pen w...</td>\n",
       "    </tr>\n",
       "    <tr>\n",
       "      <th>14517</th>\n",
       "      <td>Samsung tablet S5e trouble with streaming services not working - cache? reset? How to fix? I hav...</td>\n",
       "      <td>0</td>\n",
       "      <td>tablet trouble streaming service working cache reset fix year old tablet love suddenly streaming...</td>\n",
       "    </tr>\n",
       "    <tr>\n",
       "      <th>14518</th>\n",
       "      <td>Is the screen protector that comes already applied the s21 ultra good quality? Mine has already ...</td>\n",
       "      <td>0</td>\n",
       "      <td>screen protector come already applied ultra good quality mine already scratched bought new glas...</td>\n",
       "    </tr>\n",
       "  </tbody>\n",
       "</table>\n",
       "<p>14470 rows × 3 columns</p>\n",
       "</div>"
      ],
      "text/plain": [
       "                                                                                                 title_txt  \\\n",
       "0      Thanks apple Thanks to your anti consumer move to take the charger out of the box you have screw...   \n",
       "1      Got a notification “your Apple ID….” But clicked away before I could read it. What could it have...   \n",
       "2      Airpods Pro Sales? Thinking of getting Airpod Pros soon. Which site and deal do you all expect s...   \n",
       "3      Still Li-ion batteries? Just saw the JRE video of iPhone 13 pro max and it showed that Apple is ...   \n",
       "4      So Texans cannot add their COVID19 Vaccines to their wallet right? Just so I understand this rig...   \n",
       "...                                                                                                    ...   \n",
       "14513  New update broke fingerprint reader? (S10) Ever since the update my finger print reader has been...   \n",
       "14514  S21 ultra front camera vertical lines? Anybody having a problem getting multicolored  vertical l...   \n",
       "14515  One ui 3.0 on note 10+ bug? I got one ui 3.0 on my note 10+ yesterday, and a couple hours later ...   \n",
       "14517  Samsung tablet S5e trouble with streaming services not working - cache? reset? How to fix? I hav...   \n",
       "14518  Is the screen protector that comes already applied the s21 ultra good quality? Mine has already ...   \n",
       "\n",
       "       target  \\\n",
       "0           1   \n",
       "1           1   \n",
       "2           1   \n",
       "3           1   \n",
       "4           1   \n",
       "...       ...   \n",
       "14513       0   \n",
       "14514       0   \n",
       "14515       0   \n",
       "14517       0   \n",
       "14518       0   \n",
       "\n",
       "                                                                                                   txt_lem  \n",
       "0      thanks thanks anti consumer move charger box screwed customer enabled every company thing tellin...  \n",
       "1      notification clicked away read recently iphone pro maybe something setting something everything ...  \n",
       "2                        airpods pro sale thinking airpod pro soon site deal expect wait time year thanks   \n",
       "3      ion battery saw jre video iphone pro max showed using ion battery whole industry shifted towards...  \n",
       "4       texan cannot add covid vaccine wallet right understand right super excited update toward io dig...  \n",
       "...                                                                                                    ...  \n",
       "14513  new update broke fingerprint reader ever since update finger print reader acting mostly recogniz...  \n",
       "14514   ultra front camera vertical line anybody problem multicolored vertical line front camera ultra ...  \n",
       "14515  note bug note yesterday couple hour later touchscreen work sometimes tap time tap register pen w...  \n",
       "14517  tablet trouble streaming service working cache reset fix year old tablet love suddenly streaming...  \n",
       "14518   screen protector come already applied ultra good quality mine already scratched bought new glas...  \n",
       "\n",
       "[14470 rows x 3 columns]"
      ]
     },
     "execution_count": 191,
     "metadata": {},
     "output_type": "execute_result"
    }
   ],
   "source": [
    "df_submission"
   ]
  },
  {
   "cell_type": "code",
   "execution_count": 196,
   "id": "03805551",
   "metadata": {},
   "outputs": [
    {
     "data": {
      "text/plain": [
       "1    0.505114\n",
       "0    0.494886\n",
       "Name: target, dtype: float64"
      ]
     },
     "execution_count": 196,
     "metadata": {},
     "output_type": "execute_result"
    }
   ],
   "source": [
    "df_submission['target'].value_counts(normalize=True)\n",
    "#normalize the samsung and apple post"
   ]
  },
  {
   "cell_type": "markdown",
   "id": "5a33e30b",
   "metadata": {},
   "source": [
    "Although not totally the same , the numbers don't seem too much off difference so can assume that it is normalize."
   ]
  },
  {
   "cell_type": "markdown",
   "id": "d229d6a6",
   "metadata": {},
   "source": [
    "# Model Prep"
   ]
  },
  {
   "cell_type": "code",
   "execution_count": 197,
   "id": "45af932b",
   "metadata": {},
   "outputs": [],
   "source": [
    "X = df_submission['txt_lem']\n",
    "y = df_submission['target']"
   ]
  },
  {
   "cell_type": "code",
   "execution_count": 198,
   "id": "356aac59",
   "metadata": {},
   "outputs": [],
   "source": [
    "X_train, X_test, y_train, y_test = train_test_split(X,y,random_state=200,  stratify=y)\n",
    "#using stratify to preserves the same proportions of examples in each class"
   ]
  },
  {
   "cell_type": "code",
   "execution_count": 199,
   "id": "262d6e72",
   "metadata": {},
   "outputs": [
    {
     "data": {
      "text/plain": [
       "1    5481\n",
       "0    5371\n",
       "Name: target, dtype: int64"
      ]
     },
     "execution_count": 199,
     "metadata": {},
     "output_type": "execute_result"
    }
   ],
   "source": [
    "y_train.value_counts()"
   ]
  },
  {
   "cell_type": "code",
   "execution_count": 200,
   "id": "10669b6e",
   "metadata": {},
   "outputs": [],
   "source": [
    "pipe = Pipeline([\n",
    "    ('cvec', CountVectorizer(stop_words=stopwords)),\n",
    "    ('lr', LogisticRegression(solver='liblinear'))\n",
    "])\n",
    "#Create a pipile to do a gridsearch to find best value for countvectorizer in logistic Regression"
   ]
  },
  {
   "cell_type": "code",
   "execution_count": 201,
   "id": "7cf5fc4e",
   "metadata": {},
   "outputs": [],
   "source": [
    "pipe_params = {\n",
    "    'cvec__max_features': [2500, 3000, 3500, 4000,4500],\n",
    "    'cvec__min_df': [1, 3, 5],\n",
    "    'cvec__max_df': [.9, .95],\n",
    "    'cvec__ngram_range': [(1,1), (1,2) ]\n",
    "}\n",
    "gs = GridSearchCV(pipe, param_grid=pipe_params, cv=3)\n"
   ]
  },
  {
   "cell_type": "code",
   "execution_count": 202,
   "id": "3e60342e",
   "metadata": {},
   "outputs": [
    {
     "name": "stdout",
     "output_type": "stream",
     "text": [
      "0.8902504648752673\n"
     ]
    },
    {
     "data": {
      "text/plain": [
       "{'cvec__max_df': 0.9,\n",
       " 'cvec__max_features': 4500,\n",
       " 'cvec__min_df': 5,\n",
       " 'cvec__ngram_range': (1, 2)}"
      ]
     },
     "execution_count": 202,
     "metadata": {},
     "output_type": "execute_result"
    }
   ],
   "source": [
    "gs.fit(X_train, y_train)\n",
    "print(gs.best_score_)\n",
    "gs.best_params_"
   ]
  },
  {
   "cell_type": "code",
   "execution_count": 203,
   "id": "15c63b43",
   "metadata": {},
   "outputs": [
    {
     "data": {
      "text/plain": [
       "0.8960751796572692"
      ]
     },
     "execution_count": 203,
     "metadata": {},
     "output_type": "execute_result"
    }
   ],
   "source": [
    "gs.score(X_test, y_test)"
   ]
  },
  {
   "cell_type": "markdown",
   "id": "c172ec54",
   "metadata": {},
   "source": [
    "## Vectorizing with the best params"
   ]
  },
  {
   "cell_type": "code",
   "execution_count": 204,
   "id": "89187e96",
   "metadata": {},
   "outputs": [],
   "source": [
    "cvec = CountVectorizer(max_df=0.9, max_features=4500, min_df=5, ngram_range=(1,2), stop_words=stopwords)\n",
    "#replacing with best parameter found in gridsearch"
   ]
  },
  {
   "cell_type": "code",
   "execution_count": 205,
   "id": "3e4b141b",
   "metadata": {},
   "outputs": [],
   "source": [
    "X_train_cvec = cvec.fit_transform(X_train, y_train).todense()"
   ]
  },
  {
   "cell_type": "code",
   "execution_count": 206,
   "id": "92dbbd3c",
   "metadata": {},
   "outputs": [],
   "source": [
    "X_test_cvec = cvec.transform(X_test).todense()"
   ]
  },
  {
   "cell_type": "code",
   "execution_count": 207,
   "id": "09a0679d",
   "metadata": {},
   "outputs": [
    {
     "data": {
      "text/plain": [
       "(10852, 4500)"
      ]
     },
     "execution_count": 207,
     "metadata": {},
     "output_type": "execute_result"
    }
   ],
   "source": [
    "X_train_cvec.shape"
   ]
  },
  {
   "cell_type": "markdown",
   "id": "d04fc43c",
   "metadata": {},
   "source": [
    "# Logistic Regression Model"
   ]
  },
  {
   "cell_type": "code",
   "execution_count": 208,
   "id": "22f79a31",
   "metadata": {},
   "outputs": [],
   "source": [
    "\n",
    "logreg = LogisticRegression(solver='liblinear')\n",
    "log_reg_params = {\n",
    "    'C': np.linspace(1, 10)\n",
    "}\n",
    "#finding the best c parameter"
   ]
  },
  {
   "cell_type": "code",
   "execution_count": 209,
   "id": "0311b71d",
   "metadata": {},
   "outputs": [
    {
     "name": "stdout",
     "output_type": "stream",
     "text": [
      "0.8901583838861784\n"
     ]
    },
    {
     "data": {
      "text/plain": [
       "{'C': 1.0}"
      ]
     },
     "execution_count": 209,
     "metadata": {},
     "output_type": "execute_result"
    }
   ],
   "source": [
    "gs_logreg = GridSearchCV(logreg, param_grid=log_reg_params, cv=3)\n",
    "gs_logreg.fit(X_train_cvec, y_train)\n",
    "print(gs_logreg.best_score_)\n",
    "gs_logreg.best_params_"
   ]
  },
  {
   "cell_type": "code",
   "execution_count": 210,
   "id": "5ab57f14",
   "metadata": {},
   "outputs": [
    {
     "data": {
      "text/plain": [
       "0.9811094729082197"
      ]
     },
     "execution_count": 210,
     "metadata": {},
     "output_type": "execute_result"
    }
   ],
   "source": [
    "gs_logreg.score(X_train_cvec, y_train)"
   ]
  },
  {
   "cell_type": "code",
   "execution_count": 211,
   "id": "3065f3df",
   "metadata": {},
   "outputs": [
    {
     "data": {
      "text/plain": [
       "0.8960751796572692"
      ]
     },
     "execution_count": 211,
     "metadata": {},
     "output_type": "execute_result"
    }
   ],
   "source": [
    "gs_logreg.score(X_test_cvec, y_test)"
   ]
  },
  {
   "cell_type": "markdown",
   "id": "3b6da267",
   "metadata": {},
   "source": [
    "\n",
    "## Re-initialising Logistic Regression Model with best parameters"
   ]
  },
  {
   "cell_type": "code",
   "execution_count": 212,
   "id": "d4618225",
   "metadata": {},
   "outputs": [
    {
     "data": {
      "text/plain": [
       "LogisticRegression(solver='liblinear')"
      ]
     },
     "execution_count": 212,
     "metadata": {},
     "output_type": "execute_result"
    }
   ],
   "source": [
    "logreg = LogisticRegression(C=1.0, solver='liblinear') #using the best value in C ingridsearch\n",
    "logreg.fit(X_train_cvec, y_train)"
   ]
  },
  {
   "cell_type": "code",
   "execution_count": 213,
   "id": "080dcc76",
   "metadata": {},
   "outputs": [
    {
     "name": "stdout",
     "output_type": "stream",
     "text": [
      "Logistic Regression Model Train Score: 0.9811094729082197\n",
      "Logistic Regression Model Test Score: 0.8960751796572692\n"
     ]
    }
   ],
   "source": [
    "print('Logistic Regression Model Train Score:', logreg.score(X_train_cvec, y_train))\n",
    "print('Logistic Regression Model Test Score:', logreg.score(X_test_cvec, y_test))"
   ]
  },
  {
   "cell_type": "markdown",
   "id": "4af09861",
   "metadata": {},
   "source": [
    "Observation: There seems to be a loss of 0.08 between train and test scores"
   ]
  },
  {
   "cell_type": "code",
   "execution_count": 214,
   "id": "e768fb84",
   "metadata": {},
   "outputs": [],
   "source": [
    "logreg_score = logreg.score(X_test_cvec, y_test)"
   ]
  },
  {
   "cell_type": "markdown",
   "id": "4cada8d0",
   "metadata": {},
   "source": [
    "## Top features"
   ]
  },
  {
   "cell_type": "code",
   "execution_count": 215,
   "id": "05665400",
   "metadata": {},
   "outputs": [],
   "source": [
    "coefs=logreg.coef_[0]"
   ]
  },
  {
   "cell_type": "code",
   "execution_count": 216,
   "id": "8d685d74",
   "metadata": {},
   "outputs": [],
   "source": [
    "word_coef1 = pd.Series(coefs, index=cvec.get_feature_names()).sort_values(ascending=False)"
   ]
  },
  {
   "cell_type": "code",
   "execution_count": 217,
   "id": "93b17fbb",
   "metadata": {},
   "outputs": [
    {
     "data": {
      "image/png": "[encoded data removed]",
      "text/plain": [
       "<Figure size 864x648 with 1 Axes>"
      ]
     },
     "metadata": {
      "needs_background": "light"
     },
     "output_type": "display_data"
    }
   ],
   "source": [
    "plt.figure(figsize=(12, 9));\n",
    "word_coef1.head(10).sort_values(ascending=True).plot(kind='barh');\n",
    "plt.xlabel('coeff ');\n",
    "plt.title('Top 10 Features for Logistic Regression Apple', fontdict={'fontsize': 30});\n",
    "#set large enough font size for ytick labels \n",
    "plt.gca().tick_params(axis='y', labelsize=16);"
   ]
  },
  {
   "cell_type": "markdown",
   "id": "71e316f4",
   "metadata": {},
   "source": [
    "Observation: Above diagram shows the top features of apple which are mostly the products of apple in logistic regression with airpod at the top."
   ]
  },
  {
   "cell_type": "code",
   "execution_count": 218,
   "id": "5ce481c6",
   "metadata": {},
   "outputs": [
    {
     "data": {
      "image/png": "[encoded data removed]",
      "text/plain": [
       "<Figure size 864x648 with 1 Axes>"
      ]
     },
     "metadata": {
      "needs_background": "light"
     },
     "output_type": "display_data"
    }
   ],
   "source": [
    "plt.figure(figsize=(12, 9));\n",
    "word_coef1.tail(10).sort_values(ascending=False).plot(kind='barh');\n",
    "plt.xlabel('coeff');\n",
    "plt.title('Top 10 Features for Logistic Regression Samsung', fontdict={'fontsize': 30});\n",
    "#set large enough font size for ytick labels \n",
    "plt.gca().tick_params(axis='y', labelsize=16);"
   ]
  },
  {
   "cell_type": "markdown",
   "id": "b538e05e",
   "metadata": {},
   "source": [
    "Observation: Above diagram shows the top features of samsung which are mostly the products of samsung in logistic regression with macbook at the top, similar to before nlp was processed. However, one interesting found is that iphone user is phone in a competitor reddit."
   ]
  },
  {
   "cell_type": "code",
   "execution_count": 219,
   "id": "4c98799b",
   "metadata": {},
   "outputs": [],
   "source": [
    "#construct list of probabilities\n",
    "pred_proba_logreg = [i[1] for i in logreg.predict_proba(X_test_cvec)]"
   ]
  },
  {
   "cell_type": "code",
   "execution_count": 220,
   "id": "9f94af95",
   "metadata": {},
   "outputs": [
    {
     "name": "stdout",
     "output_type": "stream",
     "text": [
      "ROC AUC Score:  0.9611484297641896\n"
     ]
    }
   ],
   "source": [
    "print(\"ROC AUC Score: \", roc_auc_score(y_test, pred_proba_logreg))"
   ]
  },
  {
   "cell_type": "code",
   "execution_count": 221,
   "id": "53e75888",
   "metadata": {},
   "outputs": [
    {
     "data": {
      "text/plain": [
       "<Figure size 1080x1080 with 0 Axes>"
      ]
     },
     "metadata": {},
     "output_type": "display_data"
    },
    {
     "data": {
      "image/png": "[encoded data removed]",
      "text/plain": [
       "<Figure size 576x504 with 1 Axes>"
      ]
     },
     "metadata": {
      "needs_background": "light"
     },
     "output_type": "display_data"
    }
   ],
   "source": [
    "roc_curve(logreg, X_test_cvec, y_test)\n",
    "plt.title('ROC Curve for Logistic Regression');"
   ]
  },
  {
   "cell_type": "markdown",
   "id": "16cea107",
   "metadata": {},
   "source": [
    "\n",
    "The ROC Curve above shows that the two classes are quite distinct with the area under the curve does not lie on the baseline. This means that the classification is very distinct between the two classes."
   ]
  },
  {
   "cell_type": "code",
   "execution_count": 222,
   "id": "a90989ab",
   "metadata": {},
   "outputs": [],
   "source": [
    "#Put the actual values and predicted probabilities in a dataframe\n",
    "pred_logreg_df = pd.DataFrame({'actual': y_test, 'pred': pred_proba_logreg})"
   ]
  },
  {
   "cell_type": "code",
   "execution_count": 223,
   "id": "40168149",
   "metadata": {},
   "outputs": [],
   "source": [
    "pred_logreg_df['predict'] = logreg.predict(X_test_cvec)"
   ]
  },
  {
   "cell_type": "code",
   "execution_count": 224,
   "id": "81e3cfb0",
   "metadata": {},
   "outputs": [],
   "source": [
    "#put all misclassifications into a dataframe\n",
    "pred_false_logreg = pred_logreg_df[pred_logreg_df['actual'] != pred_logreg_df['predict']]"
   ]
  },
  {
   "cell_type": "code",
   "execution_count": 225,
   "id": "eae57329",
   "metadata": {},
   "outputs": [
    {
     "data": {
      "text/html": [
       "<div>\n",
       "<style scoped>\n",
       "    .dataframe tbody tr th:only-of-type {\n",
       "        vertical-align: middle;\n",
       "    }\n",
       "\n",
       "    .dataframe tbody tr th {\n",
       "        vertical-align: top;\n",
       "    }\n",
       "\n",
       "    .dataframe thead th {\n",
       "        text-align: right;\n",
       "    }\n",
       "</style>\n",
       "<table border=\"1\" class=\"dataframe\">\n",
       "  <thead>\n",
       "    <tr style=\"text-align: right;\">\n",
       "      <th></th>\n",
       "      <th>actual</th>\n",
       "      <th>pred</th>\n",
       "      <th>predict</th>\n",
       "    </tr>\n",
       "  </thead>\n",
       "  <tbody>\n",
       "    <tr>\n",
       "      <th>11568</th>\n",
       "      <td>0</td>\n",
       "      <td>0.936582</td>\n",
       "      <td>1</td>\n",
       "    </tr>\n",
       "    <tr>\n",
       "      <th>638</th>\n",
       "      <td>1</td>\n",
       "      <td>0.440834</td>\n",
       "      <td>0</td>\n",
       "    </tr>\n",
       "    <tr>\n",
       "      <th>12742</th>\n",
       "      <td>0</td>\n",
       "      <td>0.725716</td>\n",
       "      <td>1</td>\n",
       "    </tr>\n",
       "    <tr>\n",
       "      <th>9780</th>\n",
       "      <td>0</td>\n",
       "      <td>0.718040</td>\n",
       "      <td>1</td>\n",
       "    </tr>\n",
       "    <tr>\n",
       "      <th>11086</th>\n",
       "      <td>0</td>\n",
       "      <td>0.504267</td>\n",
       "      <td>1</td>\n",
       "    </tr>\n",
       "  </tbody>\n",
       "</table>\n",
       "</div>"
      ],
      "text/plain": [
       "       actual      pred  predict\n",
       "11568       0  0.936582        1\n",
       "638         1  0.440834        0\n",
       "12742       0  0.725716        1\n",
       "9780        0  0.718040        1\n",
       "11086       0  0.504267        1"
      ]
     },
     "execution_count": 225,
     "metadata": {},
     "output_type": "execute_result"
    }
   ],
   "source": [
    "pred_false_logreg.head()"
   ]
  },
  {
   "cell_type": "code",
   "execution_count": 226,
   "id": "186ee505",
   "metadata": {},
   "outputs": [],
   "source": [
    "tn, fp, fn, tp = confusion_matrix(y_test, pred_logreg_df['predict']).ravel()"
   ]
  },
  {
   "cell_type": "code",
   "execution_count": 227,
   "id": "981abafa",
   "metadata": {},
   "outputs": [
    {
     "name": "stdout",
     "output_type": "stream",
     "text": [
      "True Negatives: 1604\n",
      "True Positives: 1638\n",
      "False Positives: 186\n",
      "False Negatives: 190\n"
     ]
    }
   ],
   "source": [
    "print(\"True Negatives: %s\" % tn)\n",
    "print(\"True Positives: %s\" % tp)\n",
    "print(\"False Positives: %s\" % fp)\n",
    "print(\"False Negatives: %s\" % fn)"
   ]
  },
  {
   "cell_type": "code",
   "execution_count": 228,
   "id": "cc68d7b5",
   "metadata": {},
   "outputs": [
    {
     "data": {
      "image/png": "[encoded data removed]",
      "text/plain": [
       "<Figure size 648x648 with 2 Axes>"
      ]
     },
     "metadata": {
      "needs_background": "light"
     },
     "output_type": "display_data"
    }
   ],
   "source": [
    "confusion_matx(\"Logistic Regression\",y_test, pred_logreg_df['predict'],logreg_score)"
   ]
  },
  {
   "cell_type": "markdown",
   "id": "47986ed7",
   "metadata": {},
   "source": [
    "This model does fairly well on classifying the posts into either subreddits. Most of the classifications are correct while leaving only some misclassification at 359, accounting for 0.11 of the total."
   ]
  },
  {
   "cell_type": "markdown",
   "id": "09a3ab72",
   "metadata": {},
   "source": [
    "# Naive-Bayes Model"
   ]
  },
  {
   "cell_type": "code",
   "execution_count": 229,
   "id": "3fdaee57",
   "metadata": {},
   "outputs": [],
   "source": [
    "nb = MultinomialNB()"
   ]
  },
  {
   "cell_type": "code",
   "execution_count": 230,
   "id": "16400b82",
   "metadata": {},
   "outputs": [
    {
     "data": {
      "text/plain": [
       "MultinomialNB()"
      ]
     },
     "execution_count": 230,
     "metadata": {},
     "output_type": "execute_result"
    }
   ],
   "source": [
    "nb.fit(X_train_cvec, y_train)"
   ]
  },
  {
   "cell_type": "code",
   "execution_count": 231,
   "id": "4b24c9d8",
   "metadata": {},
   "outputs": [
    {
     "name": "stdout",
     "output_type": "stream",
     "text": [
      "Naive-Bayes Model Train Score: 0.9033357906376704\n",
      "Naive-Bayes Model Test Score: 0.8891652846876728\n"
     ]
    }
   ],
   "source": [
    "print('Naive-Bayes Model Train Score:', nb.score(X_train_cvec, y_train))\n",
    "print('Naive-Bayes Model Test Score:', nb.score(X_test_cvec, y_test))"
   ]
  },
  {
   "cell_type": "markdown",
   "id": "9afbdf21",
   "metadata": {},
   "source": [
    "Observations : Test and train scores are does not have much loss as compared to regression despite having lower scores "
   ]
  },
  {
   "cell_type": "code",
   "execution_count": 232,
   "id": "e810c22e",
   "metadata": {},
   "outputs": [],
   "source": [
    "score_nb=nb.score(X_test_cvec, y_test)"
   ]
  },
  {
   "cell_type": "code",
   "execution_count": 233,
   "id": "5e4921b9",
   "metadata": {},
   "outputs": [],
   "source": [
    "#positive class prob\n",
    "pos_class_prob_sorted = nb.feature_log_prob_[0, :].argsort()\n",
    "#negative class prob\n",
    "neg_class_prob_sorted = nb.feature_log_prob_[1, :].argsort()\n"
   ]
  },
  {
   "cell_type": "markdown",
   "id": "25324843",
   "metadata": {},
   "source": [
    "## Top Features"
   ]
  },
  {
   "cell_type": "code",
   "execution_count": 234,
   "id": "e847977d",
   "metadata": {},
   "outputs": [],
   "source": [
    "#get top features Samsung\n",
    "p_top_features = np.take(cvec.get_feature_names(), neg_class_prob_sorted)\n",
    "#get top features for Apple\n",
    "mh_top_features = np.take(cvec.get_feature_names(), pos_class_prob_sorted)"
   ]
  },
  {
   "cell_type": "code",
   "execution_count": 235,
   "id": "82c4a894",
   "metadata": {},
   "outputs": [],
   "source": [
    "#joining them together\n",
    "nb_top_features = [p_top_features]\n",
    "nb_top_features.append(mh_top_features)"
   ]
  },
  {
   "cell_type": "code",
   "execution_count": 236,
   "id": "da0a4eef",
   "metadata": {},
   "outputs": [],
   "source": [
    "#Get top features of both subreddits\n",
    "nb_top_features_df = pd.DataFrame(data=nb_top_features).T"
   ]
  },
  {
   "cell_type": "code",
   "execution_count": 237,
   "id": "ab886a73",
   "metadata": {},
   "outputs": [
    {
     "name": "stdout",
     "output_type": "stream",
     "text": [
      "Top 20 Features for Naive-Bayes Model\n"
     ]
    },
    {
     "data": {
      "text/html": [
       "<div>\n",
       "<style scoped>\n",
       "    .dataframe tbody tr th:only-of-type {\n",
       "        vertical-align: middle;\n",
       "    }\n",
       "\n",
       "    .dataframe tbody tr th {\n",
       "        vertical-align: top;\n",
       "    }\n",
       "\n",
       "    .dataframe thead th {\n",
       "        text-align: right;\n",
       "    }\n",
       "</style>\n",
       "<table border=\"1\" class=\"dataframe\">\n",
       "  <thead>\n",
       "    <tr style=\"text-align: right;\">\n",
       "      <th></th>\n",
       "      <th>Samsung</th>\n",
       "      <th>Apple</th>\n",
       "    </tr>\n",
       "  </thead>\n",
       "  <tbody>\n",
       "    <tr>\n",
       "      <th>0</th>\n",
       "      <td>price match</td>\n",
       "      <td>macrumors</td>\n",
       "    </tr>\n",
       "    <tr>\n",
       "      <th>1</th>\n",
       "      <td>knox</td>\n",
       "      <td>macbook ipad</td>\n",
       "    </tr>\n",
       "    <tr>\n",
       "      <th>2</th>\n",
       "      <td>note lite</td>\n",
       "      <td>retina display</td>\n",
       "    </tr>\n",
       "    <tr>\n",
       "      <th>3</th>\n",
       "      <td>smart thing</td>\n",
       "      <td>final cut</td>\n",
       "    </tr>\n",
       "    <tr>\n",
       "      <th>4</th>\n",
       "      <td>exynos version</td>\n",
       "      <td>mac pro</td>\n",
       "    </tr>\n",
       "    <tr>\n",
       "      <th>5</th>\n",
       "      <td>qled</td>\n",
       "      <td>mac mini</td>\n",
       "    </tr>\n",
       "    <tr>\n",
       "      <th>6</th>\n",
       "      <td>qled series</td>\n",
       "      <td>mac iphone</td>\n",
       "    </tr>\n",
       "    <tr>\n",
       "      <th>7</th>\n",
       "      <td>qna</td>\n",
       "      <td>mac book</td>\n",
       "    </tr>\n",
       "    <tr>\n",
       "      <th>8</th>\n",
       "      <td>smart view</td>\n",
       "      <td>work ipad</td>\n",
       "    </tr>\n",
       "    <tr>\n",
       "      <th>9</th>\n",
       "      <td>inch class</td>\n",
       "      <td>find iphone</td>\n",
       "    </tr>\n",
       "    <tr>\n",
       "      <th>10</th>\n",
       "      <td>google message</td>\n",
       "      <td>mac app</td>\n",
       "    </tr>\n",
       "    <tr>\n",
       "      <th>11</th>\n",
       "      <td>quantum hdr</td>\n",
       "      <td>right airpod</td>\n",
       "    </tr>\n",
       "    <tr>\n",
       "      <th>12</th>\n",
       "      <td>bixby routine</td>\n",
       "      <td>love feedback</td>\n",
       "    </tr>\n",
       "    <tr>\n",
       "      <th>13</th>\n",
       "      <td>smarttag</td>\n",
       "      <td>unified</td>\n",
       "    </tr>\n",
       "    <tr>\n",
       "      <th>14</th>\n",
       "      <td>smartthings</td>\n",
       "      <td>first app</td>\n",
       "    </tr>\n",
       "    <tr>\n",
       "      <th>15</th>\n",
       "      <td>ultras</td>\n",
       "      <td>lost airpods</td>\n",
       "    </tr>\n",
       "    <tr>\n",
       "      <th>16</th>\n",
       "      <td>nova</td>\n",
       "      <td>macos</td>\n",
       "    </tr>\n",
       "    <tr>\n",
       "      <th>17</th>\n",
       "      <td>sam</td>\n",
       "      <td>flexgate</td>\n",
       "    </tr>\n",
       "    <tr>\n",
       "      <th>18</th>\n",
       "      <td>mm</td>\n",
       "      <td>macos app</td>\n",
       "    </tr>\n",
       "    <tr>\n",
       "      <th>19</th>\n",
       "      <td>android auto</td>\n",
       "      <td>macos big</td>\n",
       "    </tr>\n",
       "  </tbody>\n",
       "</table>\n",
       "</div>"
      ],
      "text/plain": [
       "           Samsung           Apple\n",
       "0      price match       macrumors\n",
       "1             knox    macbook ipad\n",
       "2        note lite  retina display\n",
       "3      smart thing       final cut\n",
       "4   exynos version         mac pro\n",
       "5             qled        mac mini\n",
       "6      qled series      mac iphone\n",
       "7              qna        mac book\n",
       "8       smart view       work ipad\n",
       "9       inch class     find iphone\n",
       "10  google message         mac app\n",
       "11     quantum hdr    right airpod\n",
       "12   bixby routine   love feedback\n",
       "13        smarttag         unified\n",
       "14     smartthings       first app\n",
       "15          ultras    lost airpods\n",
       "16            nova           macos\n",
       "17             sam        flexgate\n",
       "18              mm       macos app\n",
       "19    android auto       macos big"
      ]
     },
     "execution_count": 237,
     "metadata": {},
     "output_type": "execute_result"
    }
   ],
   "source": [
    "#show top 20 features for each subreddit\n",
    "print(\"Top 20 Features for Naive-Bayes Model\")\n",
    "nb_top_features_df.columns = ['Samsung', 'Apple']\n",
    "nb_top_features_df.head(20)"
   ]
  },
  {
   "cell_type": "markdown",
   "id": "e7c57acf",
   "metadata": {},
   "source": [
    "Observation: Above shows the top most probable features by subreddit.  The top probably words are the lemmatize words \"price match\" and \"macrumors\" belonging to r/Samsung and r/Apple respectively. Comparing to logistic regression, it has more descriptive words than just product names.\n",
    "\n",
    "It also shows the product or features talk most by users that was newly launched and updated by Apple or Samsung such as macbook pro and knox."
   ]
  },
  {
   "cell_type": "code",
   "execution_count": 238,
   "id": "4871d149",
   "metadata": {},
   "outputs": [],
   "source": [
    "pred_nb = nb.predict(X_test_cvec)"
   ]
  },
  {
   "cell_type": "code",
   "execution_count": 239,
   "id": "4414286e",
   "metadata": {},
   "outputs": [],
   "source": [
    "tn, fp, fn, tp = confusion_matrix(y_test, pred_nb).ravel()"
   ]
  },
  {
   "cell_type": "code",
   "execution_count": 240,
   "id": "673e33bc",
   "metadata": {},
   "outputs": [
    {
     "name": "stdout",
     "output_type": "stream",
     "text": [
      "True Positives: 1606\n",
      "True Negatives: 1611\n",
      "False Positives: 179\n",
      "False Negatives: 222\n"
     ]
    }
   ],
   "source": [
    "print(\"True Positives: %s\" % tp)\n",
    "print(\"True Negatives: %s\" % tn)\n",
    "print(\"False Positives: %s\" % fp)\n",
    "print(\"False Negatives: %s\" % fn)\n"
   ]
  },
  {
   "cell_type": "code",
   "execution_count": 241,
   "id": "0df3249c",
   "metadata": {},
   "outputs": [
    {
     "data": {
      "image/png": "[encoded data removed]",
      "text/plain": [
       "<Figure size 648x648 with 2 Axes>"
      ]
     },
     "metadata": {
      "needs_background": "light"
     },
     "output_type": "display_data"
    }
   ],
   "source": [
    "confusion_matx(\"Naive-Bayes\",y_test, pred_nb,score_nb)"
   ]
  },
  {
   "cell_type": "markdown",
   "id": "74bc1d27",
   "metadata": {},
   "source": [
    "This model does fairly well on classifying the posts into either subreddits. Most of the classifications are correct while leaving only some misclassification at 385, accounting for 0.12 of the total."
   ]
  },
  {
   "cell_type": "code",
   "execution_count": 242,
   "id": "33ab6c14",
   "metadata": {},
   "outputs": [],
   "source": [
    "#construct list of probabilities\n",
    "pred_proba_nb = [i[1] for i in nb.predict_proba(X_test_cvec)]"
   ]
  },
  {
   "cell_type": "code",
   "execution_count": 243,
   "id": "dc5b0d74",
   "metadata": {},
   "outputs": [
    {
     "name": "stdout",
     "output_type": "stream",
     "text": [
      "ROC AUC Score for Naive Bayes:  0.9543309841937336\n"
     ]
    }
   ],
   "source": [
    "print(\"ROC AUC Score for Naive Bayes: \", roc_auc_score(y_test, pred_proba_nb))"
   ]
  },
  {
   "cell_type": "code",
   "execution_count": 244,
   "id": "cc84893a",
   "metadata": {},
   "outputs": [
    {
     "data": {
      "text/plain": [
       "Text(0.5, 1.0, 'ROC Curve for Naive Bayes')"
      ]
     },
     "execution_count": 244,
     "metadata": {},
     "output_type": "execute_result"
    },
    {
     "data": {
      "text/plain": [
       "<Figure size 1080x1080 with 0 Axes>"
      ]
     },
     "metadata": {},
     "output_type": "display_data"
    },
    {
     "data": {
      "image/png": "[encoded data removed]",
      "text/plain": [
       "<Figure size 576x504 with 1 Axes>"
      ]
     },
     "metadata": {
      "needs_background": "light"
     },
     "output_type": "display_data"
    }
   ],
   "source": [
    "roc_curve(nb, X_test_cvec, y_test)\n",
    "plt.title('ROC Curve for Naive Bayes')"
   ]
  },
  {
   "cell_type": "markdown",
   "id": "0607deb8",
   "metadata": {},
   "source": [
    "The ROC Curve shown above shows that the two classes are quite distinct with the area under the curve that does not lie on the baseline. This means that the classification is still very distinct between the two classes despite having lower scores than logistic regression."
   ]
  },
  {
   "cell_type": "code",
   "execution_count": 245,
   "id": "668c2a41",
   "metadata": {},
   "outputs": [],
   "source": [
    "\n",
    "#Put the actual values and predicted probabilities in a dataframe\n",
    "pred_nb_df = pd.DataFrame({'actual': y_test, 'pred': pred_proba_nb})"
   ]
  },
  {
   "cell_type": "code",
   "execution_count": 246,
   "id": "1e9504ab",
   "metadata": {},
   "outputs": [],
   "source": [
    "pred_nb_df['predict'] = pred_nb"
   ]
  },
  {
   "cell_type": "code",
   "execution_count": 247,
   "id": "58cbde4e",
   "metadata": {},
   "outputs": [],
   "source": [
    "pred_nb_false_df = pred_nb_df[pred_nb_df['actual'] != pred_nb_df['predict']]"
   ]
  },
  {
   "cell_type": "code",
   "execution_count": 248,
   "id": "2a7faed2",
   "metadata": {},
   "outputs": [
    {
     "data": {
      "text/plain": [
       "(401, 3)"
      ]
     },
     "execution_count": 248,
     "metadata": {},
     "output_type": "execute_result"
    }
   ],
   "source": [
    "pred_nb_false_df.shape"
   ]
  },
  {
   "cell_type": "markdown",
   "id": "827194f5",
   "metadata": {},
   "source": [
    "# Random Forest"
   ]
  },
  {
   "cell_type": "code",
   "execution_count": 249,
   "id": "daf654fc",
   "metadata": {},
   "outputs": [],
   "source": [
    "from sklearn.ensemble import RandomForestClassifier\n",
    "rf = RandomForestClassifier()"
   ]
  },
  {
   "cell_type": "code",
   "execution_count": 250,
   "id": "55dd33c3",
   "metadata": {},
   "outputs": [],
   "source": [
    "rf_params = {'n_estimators': [25, 100, 200],\n",
    "             'max_depth': [None, 1, 3, 5, 7], \n",
    "             'max_features': [3, 5, 7]\n",
    "    \n",
    "}"
   ]
  },
  {
   "cell_type": "code",
   "execution_count": 251,
   "id": "8c486206",
   "metadata": {},
   "outputs": [
    {
     "name": "stdout",
     "output_type": "stream",
     "text": [
      "Fitting 3 folds for each of 45 candidates, totalling 135 fits\n",
      "Best score: 0.8979906170618355\n"
     ]
    },
    {
     "data": {
      "text/plain": [
       "{'max_depth': None, 'max_features': 7, 'n_estimators': 200}"
      ]
     },
     "execution_count": 251,
     "metadata": {},
     "output_type": "execute_result"
    }
   ],
   "source": [
    "gs_rf = GridSearchCV(rf, param_grid=rf_params, cv=3, verbose=1, n_jobs=-1)\n",
    "gs_rf.fit(X_train_cvec, y_train)\n",
    "print('Best score:', gs_rf.best_score_)\n",
    "gs_rf.best_params_"
   ]
  },
  {
   "cell_type": "code",
   "execution_count": 252,
   "id": "7f07a80d",
   "metadata": {},
   "outputs": [],
   "source": [
    "rf_best = RandomForestClassifier(max_depth=None, max_features=7, n_estimators=200)"
   ]
  },
  {
   "cell_type": "code",
   "execution_count": 253,
   "id": "036f386d",
   "metadata": {},
   "outputs": [
    {
     "data": {
      "text/plain": [
       "RandomForestClassifier(max_features=7, n_estimators=200)"
      ]
     },
     "execution_count": 253,
     "metadata": {},
     "output_type": "execute_result"
    }
   ],
   "source": [
    "rf_best.fit(X_train_cvec, y_train)"
   ]
  },
  {
   "cell_type": "code",
   "execution_count": 254,
   "id": "a569adae",
   "metadata": {},
   "outputs": [
    {
     "name": "stdout",
     "output_type": "stream",
     "text": [
      "Random Forest Model training score:  0.999447106524143\n",
      "Random Forest Model test score: 0.9126589275843007\n"
     ]
    }
   ],
   "source": [
    "print(\"Random Forest Model training score: \", rf_best.score(X_train_cvec, y_train))\n",
    "print(\"Random Forest Model test score:\", rf_best.score(X_test_cvec, y_test))"
   ]
  },
  {
   "cell_type": "markdown",
   "id": "6aa822fc",
   "metadata": {},
   "source": [
    "Observation: There is a loss of 0.09 between train and test score ."
   ]
  },
  {
   "cell_type": "code",
   "execution_count": 255,
   "id": "a19d00e0",
   "metadata": {},
   "outputs": [],
   "source": [
    "word_imp_ = pd.DataFrame({'word': cvec.get_feature_names() , 'feature_importance': rf_best.feature_importances_})"
   ]
  },
  {
   "cell_type": "code",
   "execution_count": 256,
   "id": "6d3b4548",
   "metadata": {},
   "outputs": [],
   "source": [
    "word_coef3 = pd.Series(rf_best.feature_importances_, index=cvec.get_feature_names()).sort_values(ascending=False)"
   ]
  },
  {
   "cell_type": "code",
   "execution_count": 257,
   "id": "f80819fb",
   "metadata": {},
   "outputs": [
    {
     "data": {
      "text/html": [
       "<div>\n",
       "<style scoped>\n",
       "    .dataframe tbody tr th:only-of-type {\n",
       "        vertical-align: middle;\n",
       "    }\n",
       "\n",
       "    .dataframe tbody tr th {\n",
       "        vertical-align: top;\n",
       "    }\n",
       "\n",
       "    .dataframe thead th {\n",
       "        text-align: right;\n",
       "    }\n",
       "</style>\n",
       "<table border=\"1\" class=\"dataframe\">\n",
       "  <thead>\n",
       "    <tr style=\"text-align: right;\">\n",
       "      <th></th>\n",
       "      <th>word</th>\n",
       "      <th>feature_importance</th>\n",
       "    </tr>\n",
       "  </thead>\n",
       "  <tbody>\n",
       "    <tr>\n",
       "      <th>1959</th>\n",
       "      <td>iphone</td>\n",
       "      <td>0.025391</td>\n",
       "    </tr>\n",
       "    <tr>\n",
       "      <th>1518</th>\n",
       "      <td>galaxy</td>\n",
       "      <td>0.021006</td>\n",
       "    </tr>\n",
       "    <tr>\n",
       "      <th>2269</th>\n",
       "      <td>macbook</td>\n",
       "      <td>0.012833</td>\n",
       "    </tr>\n",
       "    <tr>\n",
       "      <th>1938</th>\n",
       "      <td>io</td>\n",
       "      <td>0.011173</td>\n",
       "    </tr>\n",
       "    <tr>\n",
       "      <th>4116</th>\n",
       "      <td>ultra</td>\n",
       "      <td>0.010636</td>\n",
       "    </tr>\n",
       "    <tr>\n",
       "      <th>2745</th>\n",
       "      <td>phone</td>\n",
       "      <td>0.010045</td>\n",
       "    </tr>\n",
       "    <tr>\n",
       "      <th>2980</th>\n",
       "      <td>pro</td>\n",
       "      <td>0.008742</td>\n",
       "    </tr>\n",
       "    <tr>\n",
       "      <th>96</th>\n",
       "      <td>airpods</td>\n",
       "      <td>0.008162</td>\n",
       "    </tr>\n",
       "    <tr>\n",
       "      <th>1949</th>\n",
       "      <td>ipad</td>\n",
       "      <td>0.008011</td>\n",
       "    </tr>\n",
       "    <tr>\n",
       "      <th>2262</th>\n",
       "      <td>mac</td>\n",
       "      <td>0.006467</td>\n",
       "    </tr>\n",
       "  </tbody>\n",
       "</table>\n",
       "</div>"
      ],
      "text/plain": [
       "         word  feature_importance\n",
       "1959   iphone            0.025391\n",
       "1518   galaxy            0.021006\n",
       "2269  macbook            0.012833\n",
       "1938       io            0.011173\n",
       "4116    ultra            0.010636\n",
       "2745    phone            0.010045\n",
       "2980      pro            0.008742\n",
       "96    airpods            0.008162\n",
       "1949     ipad            0.008011\n",
       "2262      mac            0.006467"
      ]
     },
     "execution_count": 257,
     "metadata": {},
     "output_type": "execute_result"
    }
   ],
   "source": [
    "word_imp_.sort_values(by='feature_importance', ascending=False).head(10)"
   ]
  },
  {
   "cell_type": "markdown",
   "id": "d57e16f6",
   "metadata": {},
   "source": [
    "Observation: Above shows the top 10 coeffs in using Random Forest Model. However, the word does not classify well which word belongs to apple or samsung reddit "
   ]
  },
  {
   "cell_type": "code",
   "execution_count": 258,
   "id": "fb857710",
   "metadata": {},
   "outputs": [],
   "source": [
    "pred_proba_rf = rf_best.predict_proba(X_test_cvec)\n",
    "\n",
    "#extracting out the n_class probabilities for calc ROC AUC Score\n",
    "rf_pred_sample_proba = []\n",
    "for i in pred_proba_rf:\n",
    "    rf_pred_sample_proba.append(i[1])"
   ]
  },
  {
   "cell_type": "code",
   "execution_count": 259,
   "id": "5e2aaee0",
   "metadata": {},
   "outputs": [
    {
     "name": "stdout",
     "output_type": "stream",
     "text": [
      "ROC AUC Score:  0.9666321834162561\n"
     ]
    }
   ],
   "source": [
    "print(\"ROC AUC Score: \", roc_auc_score(y_test, rf_pred_sample_proba))"
   ]
  },
  {
   "cell_type": "code",
   "execution_count": 260,
   "id": "860a11a6",
   "metadata": {},
   "outputs": [
    {
     "data": {
      "text/plain": [
       "<Figure size 1080x1080 with 0 Axes>"
      ]
     },
     "metadata": {},
     "output_type": "display_data"
    },
    {
     "data": {
      "image/png": "[encoded data removed]",
      "text/plain": [
       "<Figure size 576x504 with 1 Axes>"
      ]
     },
     "metadata": {
      "needs_background": "light"
     },
     "output_type": "display_data"
    }
   ],
   "source": [
    "roc_curve(rf_best, X_test_cvec, y_test)\n",
    "plt.title('ROC Curve for Random Forest');"
   ]
  },
  {
   "cell_type": "markdown",
   "id": "cce6310c",
   "metadata": {},
   "source": [
    "\n",
    "The ROC Curve shown above shows that the two classes are quite distinct with the area under the curve that does not lie on the baseline. This means that the classification is very distinct between the two classes."
   ]
  },
  {
   "cell_type": "markdown",
   "id": "5c7125ba",
   "metadata": {},
   "source": [
    "# Conclusion"
   ]
  },
  {
   "cell_type": "markdown",
   "id": "fc15a4f6",
   "metadata": {},
   "source": [
    "|Model| Training Test    | Test Score |  ROC AUC Score |\n",
    "| ----------- | ----------- | ----------- |   ----------- |\n",
    "| Logisic Regression | 0.98    |       0.90     |   0.96 | \n",
    "|Naive-Bayes   | 0.90     |   0.89       |   0.96 |\n",
    "|Random Forest|  1.0 |  0.91  |   0.97 |"
   ]
  },
  {
   "cell_type": "markdown",
   "id": "cdec1be1",
   "metadata": {},
   "source": [
    "### Best Model \n",
    "The best model in terms of test score will be the Logistic Random Forest with  ROC AUC score of 0.97 which is pretty close to the other models. In general, their misclassification class also does not differ much. \n",
    "\n",
    "However, the chosen and winner model will be Naive-Bayes model. Looking at the scores, despite having the lowest score, the test and train model scores only have a loss of 0.01 with still a goof ROC  score of 0.96 which shows it does not overfit and generalize well. It clearly specify the top features by the the subreddit and recognise the bigrams in each class that are rank higher in each category.\n",
    "\n",
    "Despite Random forest having the best scores, it overfits with 0.09 loss and the words does not classify well which word belongs to which reddit. \n",
    "\n"
   ]
  },
  {
   "cell_type": "markdown",
   "id": "ac2d24c7",
   "metadata": {},
   "source": [
    "### Recommendations\n",
    "\n",
    "Using naive bayes model can help to indicate what are the current trends and topic are posted by users at a specific time. However, it is not sufficient to indicate the sentiment of the post where it is positive or negative.\n",
    "\n",
    "Additionally, extracting their sentiment will be good to know the post is based determined by the attitude or the emotion of the writer due to them being rivals, there will be tendency of users posting negatively about the other brand . "
   ]
  }
 ],
 "metadata": {
  "kernelspec": {
   "display_name": "Python 3",
   "language": "python",
   "name": "python3"
  },
  "language_info": {
   "codemirror_mode": {
    "name": "ipython",
    "version": 3
   },
   "file_extension": ".py",
   "mimetype": "text/x-python",
   "name": "python",
   "nbconvert_exporter": "python",
   "pygments_lexer": "ipython3",
   "version": "3.8.8"
  }
 },
 "nbformat": 4,
 "nbformat_minor": 5
}
