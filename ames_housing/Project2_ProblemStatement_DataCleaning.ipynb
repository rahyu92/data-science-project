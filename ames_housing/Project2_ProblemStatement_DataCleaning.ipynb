{
 "cells": [
  {
   "cell_type": "markdown",
   "metadata": {
    "id": "gulATwWlabFG"
   },
   "source": [
    "# Problem Statement\n",
    "---\n",
    "\n"
   ]
  },
  {
   "cell_type": "markdown",
   "metadata": {},
   "source": [
    "This project examines a housing dataset from the city of Ames in Iowa, USA , Source: [link]('https://www.kaggle.com/c/dsi-us-11-project-2-regression-challenge/data'). Predictors of housing prices can vary from many factors. There are many homeowners who assumes that the older the property, the higher it sells. But to their dismay, they don't get the return on investment especially when selling the older property at it's original state. Homebuyers are also not sure what features greatly influence the housing price in Ames. \n",
    "\n",
    "As a data analyst, I would like to show new real estate agencies on how using predicting models can help them to identify features that can influence the price of the house and they could use it accordingly to advise their clients.\n",
    "\n",
    "To answer these questions, I use supervised learning method with different linear regression models to the housing data to determine the features that are most influential on house price positively and negatively. The performance of the models will be evaluated using the R2 metric and RMSE.\n",
    "\n",
    "The goal of this project is to concerns, specifically:\n",
    "\n",
    "- what are the top 5 features add the most value to a home?\n",
    "- which feature hurt home values most?"
   ]
  },
  {
   "cell_type": "markdown",
   "metadata": {
    "id": "afqomD1FNSm9"
   },
   "source": [
    "# Importing\n",
    "---\n"
   ]
  },
  {
   "cell_type": "code",
   "execution_count": 80,
   "metadata": {
    "id": "gocu8zV0MYzE"
   },
   "outputs": [],
   "source": [
    "#Import libraries \n",
    " \n",
    "import scipy.stats as stats\n",
    "import numpy as np\n",
    "import pandas as pd\n",
    "\n",
    "#sklearn\n",
    "from sklearn.linear_model import LinearRegression \n",
    "from sklearn.linear_model import LogisticRegression, LinearRegression, Lasso, LassoCV, RidgeCV\n",
    "from sklearn.model_selection import train_test_split, cross_val_score, cross_val_predict\n",
    "from sklearn.preprocessing import StandardScaler\n",
    "from sklearn import metrics\n",
    "from sklearn.preprocessing import StandardScaler, PolynomialFeatures\n",
    "from sklearn.metrics import r2_score\n",
    "\n",
    "# visual\n",
    "import seaborn as sns\n",
    "import matplotlib.pyplot as plt\n",
    "%matplotlib inline"
   ]
  },
  {
   "cell_type": "markdown",
   "metadata": {
    "id": "-eEcy0Kziknu"
   },
   "source": [
    "# Functions\n",
    "---\n",
    "\n",
    "\n",
    "\n"
   ]
  },
  {
   "cell_type": "code",
   "execution_count": 81,
   "metadata": {
    "id": "WQz_XcAhTMXN"
   },
   "outputs": [],
   "source": [
    "#replace empty and slash to _ for cleaning coluumns\n",
    "\n",
    "def cleancol(columns):\n",
    "    c = []\n",
    "    for i in columns:\n",
    "        i = i.lower().replace(' ', '_').replace('/','_')\n",
    "        c.append(i)\n",
    "    return c"
   ]
  },
  {
   "cell_type": "markdown",
   "metadata": {
    "id": "zGyedflaZyX-"
   },
   "source": [
    "# Data cleaning\n",
    "---\n",
    "\n"
   ]
  },
  {
   "cell_type": "code",
   "execution_count": 82,
   "metadata": {
    "id": "hvDRDeK2Mfst"
   },
   "outputs": [],
   "source": [
    "# import data\n",
    "df_train = pd.read_csv('data/train.csv')\n",
    "df_test= pd.read_csv('data/test.csv')"
   ]
  },
  {
   "cell_type": "code",
   "execution_count": 83,
   "metadata": {
    "colab": {
     "base_uri": "https://localhost:8080/"
    },
    "id": "_IftDkUbhX9e",
    "outputId": "ea8b43d5-2419-43fb-99bb-51658ef298d4"
   },
   "outputs": [
    {
     "name": "stdout",
     "output_type": "stream",
     "text": [
      "(2051, 81)\n",
      "(878, 80)\n"
     ]
    }
   ],
   "source": [
    "print(df_train.shape)\n",
    "print(df_test.shape)\n",
    "#test have one lesser column as target variable is SalePrice. train have 81, test have 80 columns"
   ]
  },
  {
   "cell_type": "markdown",
   "metadata": {
    "id": "l_c0e3LoUyBc"
   },
   "source": [
    "*From observation above, SalePrice column is not in test.csv as the target variable is SalePrice from the model*"
   ]
  },
  {
   "cell_type": "code",
   "execution_count": 84,
   "metadata": {},
   "outputs": [
    {
     "data": {
      "text/plain": [
       "True"
      ]
     },
     "execution_count": 84,
     "metadata": {},
     "output_type": "execute_result"
    }
   ],
   "source": [
    "list(df_test.columns) == list(df_train.drop('SalePrice', axis =1).columns)\n",
    "# check if test columns same as train"
   ]
  },
  {
   "cell_type": "code",
   "execution_count": 85,
   "metadata": {},
   "outputs": [],
   "source": [
    "df_train.columns = cleancol(df_train.columns)\n",
    "df_test.columns = cleancol(df_test.columns)\n",
    "# clean the columns with functions created above"
   ]
  },
  {
   "cell_type": "code",
   "execution_count": 86,
   "metadata": {},
   "outputs": [
    {
     "data": {
      "text/plain": [
       "Index(['id', 'pid', 'ms_subclass', 'ms_zoning', 'lot_frontage', 'lot_area',\n",
       "       'street', 'alley', 'lot_shape', 'land_contour', 'utilities',\n",
       "       'lot_config', 'land_slope', 'neighborhood', 'condition_1',\n",
       "       'condition_2', 'bldg_type', 'house_style', 'overall_qual',\n",
       "       'overall_cond', 'year_built', 'year_remod_add', 'roof_style',\n",
       "       'roof_matl', 'exterior_1st', 'exterior_2nd', 'mas_vnr_type',\n",
       "       'mas_vnr_area', 'exter_qual', 'exter_cond', 'foundation', 'bsmt_qual',\n",
       "       'bsmt_cond', 'bsmt_exposure', 'bsmtfin_type_1', 'bsmtfin_sf_1',\n",
       "       'bsmtfin_type_2', 'bsmtfin_sf_2', 'bsmt_unf_sf', 'total_bsmt_sf',\n",
       "       'heating', 'heating_qc', 'central_air', 'electrical', '1st_flr_sf',\n",
       "       '2nd_flr_sf', 'low_qual_fin_sf', 'gr_liv_area', 'bsmt_full_bath',\n",
       "       'bsmt_half_bath', 'full_bath', 'half_bath', 'bedroom_abvgr',\n",
       "       'kitchen_abvgr', 'kitchen_qual', 'totrms_abvgrd', 'functional',\n",
       "       'fireplaces', 'fireplace_qu', 'garage_type', 'garage_yr_blt',\n",
       "       'garage_finish', 'garage_cars', 'garage_area', 'garage_qual',\n",
       "       'garage_cond', 'paved_drive', 'wood_deck_sf', 'open_porch_sf',\n",
       "       'enclosed_porch', '3ssn_porch', 'screen_porch', 'pool_area', 'pool_qc',\n",
       "       'fence', 'misc_feature', 'misc_val', 'mo_sold', 'yr_sold', 'sale_type',\n",
       "       'saleprice'],\n",
       "      dtype='object')"
      ]
     },
     "execution_count": 86,
     "metadata": {},
     "output_type": "execute_result"
    }
   ],
   "source": [
    "df_train.columns #check if change accordingly"
   ]
  },
  {
   "cell_type": "code",
   "execution_count": 87,
   "metadata": {},
   "outputs": [
    {
     "name": "stdout",
     "output_type": "stream",
     "text": [
      "<class 'pandas.core.frame.DataFrame'>\n",
      "RangeIndex: 2051 entries, 0 to 2050\n",
      "Data columns (total 81 columns):\n",
      " #   Column           Non-Null Count  Dtype  \n",
      "---  ------           --------------  -----  \n",
      " 0   id               2051 non-null   int64  \n",
      " 1   pid              2051 non-null   int64  \n",
      " 2   ms_subclass      2051 non-null   int64  \n",
      " 3   ms_zoning        2051 non-null   object \n",
      " 4   lot_frontage     1721 non-null   float64\n",
      " 5   lot_area         2051 non-null   int64  \n",
      " 6   street           2051 non-null   object \n",
      " 7   alley            140 non-null    object \n",
      " 8   lot_shape        2051 non-null   object \n",
      " 9   land_contour     2051 non-null   object \n",
      " 10  utilities        2051 non-null   object \n",
      " 11  lot_config       2051 non-null   object \n",
      " 12  land_slope       2051 non-null   object \n",
      " 13  neighborhood     2051 non-null   object \n",
      " 14  condition_1      2051 non-null   object \n",
      " 15  condition_2      2051 non-null   object \n",
      " 16  bldg_type        2051 non-null   object \n",
      " 17  house_style      2051 non-null   object \n",
      " 18  overall_qual     2051 non-null   int64  \n",
      " 19  overall_cond     2051 non-null   int64  \n",
      " 20  year_built       2051 non-null   int64  \n",
      " 21  year_remod_add   2051 non-null   int64  \n",
      " 22  roof_style       2051 non-null   object \n",
      " 23  roof_matl        2051 non-null   object \n",
      " 24  exterior_1st     2051 non-null   object \n",
      " 25  exterior_2nd     2051 non-null   object \n",
      " 26  mas_vnr_type     2029 non-null   object \n",
      " 27  mas_vnr_area     2029 non-null   float64\n",
      " 28  exter_qual       2051 non-null   object \n",
      " 29  exter_cond       2051 non-null   object \n",
      " 30  foundation       2051 non-null   object \n",
      " 31  bsmt_qual        1996 non-null   object \n",
      " 32  bsmt_cond        1996 non-null   object \n",
      " 33  bsmt_exposure    1993 non-null   object \n",
      " 34  bsmtfin_type_1   1996 non-null   object \n",
      " 35  bsmtfin_sf_1     2050 non-null   float64\n",
      " 36  bsmtfin_type_2   1995 non-null   object \n",
      " 37  bsmtfin_sf_2     2050 non-null   float64\n",
      " 38  bsmt_unf_sf      2050 non-null   float64\n",
      " 39  total_bsmt_sf    2050 non-null   float64\n",
      " 40  heating          2051 non-null   object \n",
      " 41  heating_qc       2051 non-null   object \n",
      " 42  central_air      2051 non-null   object \n",
      " 43  electrical       2051 non-null   object \n",
      " 44  1st_flr_sf       2051 non-null   int64  \n",
      " 45  2nd_flr_sf       2051 non-null   int64  \n",
      " 46  low_qual_fin_sf  2051 non-null   int64  \n",
      " 47  gr_liv_area      2051 non-null   int64  \n",
      " 48  bsmt_full_bath   2049 non-null   float64\n",
      " 49  bsmt_half_bath   2049 non-null   float64\n",
      " 50  full_bath        2051 non-null   int64  \n",
      " 51  half_bath        2051 non-null   int64  \n",
      " 52  bedroom_abvgr    2051 non-null   int64  \n",
      " 53  kitchen_abvgr    2051 non-null   int64  \n",
      " 54  kitchen_qual     2051 non-null   object \n",
      " 55  totrms_abvgrd    2051 non-null   int64  \n",
      " 56  functional       2051 non-null   object \n",
      " 57  fireplaces       2051 non-null   int64  \n",
      " 58  fireplace_qu     1051 non-null   object \n",
      " 59  garage_type      1938 non-null   object \n",
      " 60  garage_yr_blt    1937 non-null   float64\n",
      " 61  garage_finish    1937 non-null   object \n",
      " 62  garage_cars      2050 non-null   float64\n",
      " 63  garage_area      2050 non-null   float64\n",
      " 64  garage_qual      1937 non-null   object \n",
      " 65  garage_cond      1937 non-null   object \n",
      " 66  paved_drive      2051 non-null   object \n",
      " 67  wood_deck_sf     2051 non-null   int64  \n",
      " 68  open_porch_sf    2051 non-null   int64  \n",
      " 69  enclosed_porch   2051 non-null   int64  \n",
      " 70  3ssn_porch       2051 non-null   int64  \n",
      " 71  screen_porch     2051 non-null   int64  \n",
      " 72  pool_area        2051 non-null   int64  \n",
      " 73  pool_qc          9 non-null      object \n",
      " 74  fence            400 non-null    object \n",
      " 75  misc_feature     65 non-null     object \n",
      " 76  misc_val         2051 non-null   int64  \n",
      " 77  mo_sold          2051 non-null   int64  \n",
      " 78  yr_sold          2051 non-null   int64  \n",
      " 79  sale_type        2051 non-null   object \n",
      " 80  saleprice        2051 non-null   int64  \n",
      "dtypes: float64(11), int64(28), object(42)\n",
      "memory usage: 1.3+ MB\n"
     ]
    }
   ],
   "source": [
    "df_train.info()\n",
    "#info of df_train as an overview to see the types of column and null values"
   ]
  },
  {
   "cell_type": "markdown",
   "metadata": {},
   "source": [
    "1. Convert those NA columns identified in object type to None\n",
    "2. Convert those NA columns identified as Float to 0"
   ]
  },
  {
   "cell_type": "code",
   "execution_count": 88,
   "metadata": {},
   "outputs": [
    {
     "data": {
      "text/plain": [
       "pool_qc           2042\n",
       "misc_feature      1986\n",
       "alley             1911\n",
       "fence             1651\n",
       "fireplace_qu      1000\n",
       "lot_frontage       330\n",
       "garage_finish      114\n",
       "garage_qual        114\n",
       "garage_yr_blt      114\n",
       "garage_cond        114\n",
       "garage_type        113\n",
       "bsmt_exposure       58\n",
       "bsmtfin_type_2      56\n",
       "bsmtfin_type_1      55\n",
       "bsmt_cond           55\n",
       "bsmt_qual           55\n",
       "mas_vnr_area        22\n",
       "mas_vnr_type        22\n",
       "bsmt_half_bath       2\n",
       "bsmt_full_bath       2\n",
       "garage_area          1\n",
       "total_bsmt_sf        1\n",
       "bsmt_unf_sf          1\n",
       "bsmtfin_sf_2         1\n",
       "bsmtfin_sf_1         1\n",
       "garage_cars          1\n",
       "mo_sold              0\n",
       "sale_type            0\n",
       "full_bath            0\n",
       "half_bath            0\n",
       "dtype: int64"
      ]
     },
     "execution_count": 88,
     "metadata": {},
     "output_type": "execute_result"
    }
   ],
   "source": [
    "df_train.isna().sum().sort_values(ascending=False).head(30)\n",
    "#this are the total NAN columns found\n",
    "#pool_q,misc_feature,alley,fence,fireplae_qu have a lot of empty null values, more than 50%!"
   ]
  },
  {
   "cell_type": "code",
   "execution_count": 89,
   "metadata": {},
   "outputs": [],
   "source": [
    "convertNAtoNone = ['alley','fireplace_qu','bsmt_qual','bsmt_exposure','bsmtfin_type_1','bsmtfin_type_2','fireplace_qu',\n",
    "                 'garage_type','garage_finish', 'garage_qual','garage_cond', 'pool_qc', 'fence','misc_feature','bsmt_cond']\n",
    "#this are the object columns identified in the data dictionary where NA = No feature (column name) "
   ]
  },
  {
   "cell_type": "code",
   "execution_count": 90,
   "metadata": {},
   "outputs": [
    {
     "data": {
      "text/plain": [
       "alley             1911\n",
       "fireplace_qu      1000\n",
       "bsmt_qual           55\n",
       "bsmt_exposure       58\n",
       "bsmtfin_type_1      55\n",
       "bsmtfin_type_2      56\n",
       "fireplace_qu      1000\n",
       "garage_type        113\n",
       "garage_finish      114\n",
       "garage_qual        114\n",
       "garage_cond        114\n",
       "pool_qc           2042\n",
       "fence             1651\n",
       "misc_feature      1986\n",
       "bsmt_cond           55\n",
       "dtype: int64"
      ]
     },
     "execution_count": 90,
     "metadata": {},
     "output_type": "execute_result"
    }
   ],
   "source": [
    "df_train[convertNAtoNone].isna().sum()\n",
    "#sum the null values of those NA = no features"
   ]
  },
  {
   "cell_type": "code",
   "execution_count": 91,
   "metadata": {},
   "outputs": [],
   "source": [
    "df_train[convertNAtoNone] = df_train[convertNAtoNone].replace(np.nan,'None')\n",
    "#replacing the null values to None as they do not have such feature"
   ]
  },
  {
   "cell_type": "code",
   "execution_count": 92,
   "metadata": {},
   "outputs": [
    {
     "data": {
      "text/plain": [
       "alley             0\n",
       "fireplace_qu      0\n",
       "bsmt_qual         0\n",
       "bsmt_exposure     0\n",
       "bsmtfin_type_1    0\n",
       "bsmtfin_type_2    0\n",
       "fireplace_qu      0\n",
       "garage_type       0\n",
       "garage_finish     0\n",
       "garage_qual       0\n",
       "garage_cond       0\n",
       "pool_qc           0\n",
       "fence             0\n",
       "misc_feature      0\n",
       "bsmt_cond         0\n",
       "dtype: int64"
      ]
     },
     "execution_count": 92,
     "metadata": {},
     "output_type": "execute_result"
    }
   ],
   "source": [
    "df_train[convertNAtoNone].isna().sum()\n",
    "#should be 0 as replace all the identified ones with None"
   ]
  },
  {
   "cell_type": "code",
   "execution_count": 93,
   "metadata": {},
   "outputs": [],
   "source": [
    "NA_Int= df_train.select_dtypes(include=['int64']).columns\n",
    "#if there are nan values, to replace as 0 which means there is no such feature such as 0 lot area = no lot area"
   ]
  },
  {
   "cell_type": "code",
   "execution_count": 94,
   "metadata": {},
   "outputs": [
    {
     "data": {
      "text/plain": [
       "id                 0\n",
       "pid                0\n",
       "ms_subclass        0\n",
       "lot_area           0\n",
       "overall_qual       0\n",
       "overall_cond       0\n",
       "year_built         0\n",
       "year_remod_add     0\n",
       "1st_flr_sf         0\n",
       "2nd_flr_sf         0\n",
       "low_qual_fin_sf    0\n",
       "gr_liv_area        0\n",
       "full_bath          0\n",
       "half_bath          0\n",
       "bedroom_abvgr      0\n",
       "kitchen_abvgr      0\n",
       "totrms_abvgrd      0\n",
       "fireplaces         0\n",
       "wood_deck_sf       0\n",
       "open_porch_sf      0\n",
       "enclosed_porch     0\n",
       "3ssn_porch         0\n",
       "screen_porch       0\n",
       "pool_area          0\n",
       "misc_val           0\n",
       "mo_sold            0\n",
       "yr_sold            0\n",
       "saleprice          0\n",
       "dtype: int64"
      ]
     },
     "execution_count": 94,
     "metadata": {},
     "output_type": "execute_result"
    }
   ],
   "source": [
    "df_train[NA_Int].isna().sum()"
   ]
  },
  {
   "cell_type": "markdown",
   "metadata": {},
   "source": [
    "No null value for int64 dtypes, proceed similarly to float64 columns"
   ]
  },
  {
   "cell_type": "code",
   "execution_count": 95,
   "metadata": {},
   "outputs": [],
   "source": [
    "NA_Float = df_train.select_dtypes(include=['float64']).columns\n",
    "#this are the float columns identified in the data dictionary where NA = No feature (column name) "
   ]
  },
  {
   "cell_type": "code",
   "execution_count": 96,
   "metadata": {},
   "outputs": [
    {
     "data": {
      "text/plain": [
       "lot_frontage      330\n",
       "mas_vnr_area       22\n",
       "bsmtfin_sf_1        1\n",
       "bsmtfin_sf_2        1\n",
       "bsmt_unf_sf         1\n",
       "total_bsmt_sf       1\n",
       "bsmt_full_bath      2\n",
       "bsmt_half_bath      2\n",
       "garage_yr_blt     114\n",
       "garage_cars         1\n",
       "garage_area         1\n",
       "dtype: int64"
      ]
     },
     "execution_count": 96,
     "metadata": {},
     "output_type": "execute_result"
    }
   ],
   "source": [
    "df_train[NA_Float].isna().sum()"
   ]
  },
  {
   "cell_type": "code",
   "execution_count": 97,
   "metadata": {},
   "outputs": [],
   "source": [
    "df_train[NA_Float] = df_train[NA_Float].replace(np.nan,0)\n",
    "#if there are nan values, to replace as 0 which means there is no such feature such as 0 lot frontage = no lot frontage"
   ]
  },
  {
   "cell_type": "code",
   "execution_count": 98,
   "metadata": {},
   "outputs": [
    {
     "data": {
      "text/plain": [
       "lot_frontage      0\n",
       "mas_vnr_area      0\n",
       "bsmtfin_sf_1      0\n",
       "bsmtfin_sf_2      0\n",
       "bsmt_unf_sf       0\n",
       "total_bsmt_sf     0\n",
       "bsmt_full_bath    0\n",
       "bsmt_half_bath    0\n",
       "garage_yr_blt     0\n",
       "garage_cars       0\n",
       "garage_area       0\n",
       "dtype: int64"
      ]
     },
     "execution_count": 98,
     "metadata": {},
     "output_type": "execute_result"
    }
   ],
   "source": [
    "df_train[NA_Float].isna().sum()"
   ]
  },
  {
   "cell_type": "code",
   "execution_count": 99,
   "metadata": {},
   "outputs": [
    {
     "data": {
      "text/plain": [
       "mas_vnr_type    22\n",
       "dtype: int64"
      ]
     },
     "execution_count": 99,
     "metadata": {},
     "output_type": "execute_result"
    }
   ],
   "source": [
    "df_train.isna().sum()[df_train.isna().sum() !=0].sort_values(ascending=False)\n",
    "# output and sum the na for df_columns where sum of na != 0 only"
   ]
  },
  {
   "cell_type": "code",
   "execution_count": 100,
   "metadata": {},
   "outputs": [
    {
     "data": {
      "text/plain": [
       "array(['BrkFace', 'None', nan, 'Stone', 'BrkCmn'], dtype=object)"
      ]
     },
     "execution_count": 100,
     "metadata": {},
     "output_type": "execute_result"
    }
   ],
   "source": [
    "df_train['mas_vnr_type'].unique()\n",
    "#check the unique values of mas_vnr_type"
   ]
  },
  {
   "cell_type": "code",
   "execution_count": 101,
   "metadata": {},
   "outputs": [
    {
     "data": {
      "text/plain": [
       "None       1240\n",
       "BrkFace     630\n",
       "Stone       168\n",
       "BrkCmn       13\n",
       "Name: mas_vnr_type, dtype: int64"
      ]
     },
     "execution_count": 101,
     "metadata": {},
     "output_type": "execute_result"
    }
   ],
   "source": [
    "df_train['mas_vnr_type'] = df_train['mas_vnr_type'].replace(np.nan, 'None')\n",
    "df_train['mas_vnr_type'].value_counts()\n",
    "#since there is already a None value, assuming no value means None. replacing it to None"
   ]
  },
  {
   "cell_type": "code",
   "execution_count": 102,
   "metadata": {},
   "outputs": [
    {
     "data": {
      "text/plain": [
       "array(['BrkFace', 'None', 'Stone', 'BrkCmn'], dtype=object)"
      ]
     },
     "execution_count": 102,
     "metadata": {},
     "output_type": "execute_result"
    }
   ],
   "source": [
    "df_train['mas_vnr_type'].unique()\n",
    "# no more null columns"
   ]
  },
  {
   "cell_type": "code",
   "execution_count": 103,
   "metadata": {},
   "outputs": [
    {
     "data": {
      "text/plain": [
       "Series([], dtype: int64)"
      ]
     },
     "execution_count": 103,
     "metadata": {},
     "output_type": "execute_result"
    }
   ],
   "source": [
    "df_train.isna().sum()[df_train.isna().sum() !=0].sort_values(ascending=False)\n",
    "#check again if there is any null values in df_train "
   ]
  },
  {
   "cell_type": "markdown",
   "metadata": {},
   "source": [
    "1. Columns that have ordinal values identified to convert to 1-5\n",
    "2. Columns that are in Y/N change to binary \n",
    "3. Add property_age and remodel_age column \n",
    "4. Remove id as they are not useful and related"
   ]
  },
  {
   "cell_type": "code",
   "execution_count": 104,
   "metadata": {},
   "outputs": [],
   "source": [
    "ratingz ={\n",
    "    'Ex': 5,\n",
    "    'Gd': 4,\n",
    "    'TA': 3,\n",
    "    'Fa': 2,\n",
    "    'Po': 1,\n",
    "    'None': 0 } #ordinal values to map to"
   ]
  },
  {
   "cell_type": "code",
   "execution_count": 105,
   "metadata": {},
   "outputs": [],
   "source": [
    "rating_list = ['bsmt_cond','bsmt_qual', 'exter_qual','exter_cond','pool_qc', 'garage_cond','heating_qc','kitchen_qual',\n",
    "               'garage_qual', 'fireplace_qu']\n",
    "#map ordinal columns that have similar ratings to ratingz dict"
   ]
  },
  {
   "cell_type": "code",
   "execution_count": 106,
   "metadata": {},
   "outputs": [],
   "source": [
    "for i in rating_list:\n",
    "    df_train[i] = df_train[i].map(ratingz)   \n",
    "#map the identified columns to the ratingz dict in df_train "
   ]
  },
  {
   "cell_type": "code",
   "execution_count": 107,
   "metadata": {},
   "outputs": [
    {
     "data": {
      "text/html": [
       "<div>\n",
       "<style scoped>\n",
       "    .dataframe tbody tr th:only-of-type {\n",
       "        vertical-align: middle;\n",
       "    }\n",
       "\n",
       "    .dataframe tbody tr th {\n",
       "        vertical-align: top;\n",
       "    }\n",
       "\n",
       "    .dataframe thead th {\n",
       "        text-align: right;\n",
       "    }\n",
       "</style>\n",
       "<table border=\"1\" class=\"dataframe\">\n",
       "  <thead>\n",
       "    <tr style=\"text-align: right;\">\n",
       "      <th></th>\n",
       "      <th>bsmt_cond</th>\n",
       "      <th>bsmt_qual</th>\n",
       "      <th>exter_qual</th>\n",
       "      <th>exter_cond</th>\n",
       "      <th>pool_qc</th>\n",
       "      <th>garage_cond</th>\n",
       "      <th>heating_qc</th>\n",
       "      <th>kitchen_qual</th>\n",
       "      <th>garage_qual</th>\n",
       "      <th>fireplace_qu</th>\n",
       "    </tr>\n",
       "  </thead>\n",
       "  <tbody>\n",
       "    <tr>\n",
       "      <th>0</th>\n",
       "      <td>3</td>\n",
       "      <td>3</td>\n",
       "      <td>4</td>\n",
       "      <td>3</td>\n",
       "      <td>0</td>\n",
       "      <td>3</td>\n",
       "      <td>5</td>\n",
       "      <td>4</td>\n",
       "      <td>3</td>\n",
       "      <td>0</td>\n",
       "    </tr>\n",
       "    <tr>\n",
       "      <th>1</th>\n",
       "      <td>3</td>\n",
       "      <td>4</td>\n",
       "      <td>4</td>\n",
       "      <td>3</td>\n",
       "      <td>0</td>\n",
       "      <td>3</td>\n",
       "      <td>5</td>\n",
       "      <td>4</td>\n",
       "      <td>3</td>\n",
       "      <td>3</td>\n",
       "    </tr>\n",
       "    <tr>\n",
       "      <th>2</th>\n",
       "      <td>3</td>\n",
       "      <td>3</td>\n",
       "      <td>3</td>\n",
       "      <td>4</td>\n",
       "      <td>0</td>\n",
       "      <td>3</td>\n",
       "      <td>3</td>\n",
       "      <td>4</td>\n",
       "      <td>3</td>\n",
       "      <td>0</td>\n",
       "    </tr>\n",
       "    <tr>\n",
       "      <th>3</th>\n",
       "      <td>3</td>\n",
       "      <td>4</td>\n",
       "      <td>3</td>\n",
       "      <td>3</td>\n",
       "      <td>0</td>\n",
       "      <td>3</td>\n",
       "      <td>4</td>\n",
       "      <td>3</td>\n",
       "      <td>3</td>\n",
       "      <td>0</td>\n",
       "    </tr>\n",
       "    <tr>\n",
       "      <th>4</th>\n",
       "      <td>4</td>\n",
       "      <td>2</td>\n",
       "      <td>3</td>\n",
       "      <td>3</td>\n",
       "      <td>0</td>\n",
       "      <td>3</td>\n",
       "      <td>3</td>\n",
       "      <td>3</td>\n",
       "      <td>3</td>\n",
       "      <td>0</td>\n",
       "    </tr>\n",
       "  </tbody>\n",
       "</table>\n",
       "</div>"
      ],
      "text/plain": [
       "   bsmt_cond  bsmt_qual  exter_qual  exter_cond  pool_qc  garage_cond  \\\n",
       "0          3          3           4           3        0            3   \n",
       "1          3          4           4           3        0            3   \n",
       "2          3          3           3           4        0            3   \n",
       "3          3          4           3           3        0            3   \n",
       "4          4          2           3           3        0            3   \n",
       "\n",
       "   heating_qc  kitchen_qual  garage_qual  fireplace_qu  \n",
       "0           5             4            3             0  \n",
       "1           5             4            3             3  \n",
       "2           3             4            3             0  \n",
       "3           4             3            3             0  \n",
       "4           3             3            3             0  "
      ]
     },
     "execution_count": 107,
     "metadata": {},
     "output_type": "execute_result"
    }
   ],
   "source": [
    "df_train[rating_list].head()\n",
    "#check the values to see if have converted"
   ]
  },
  {
   "cell_type": "code",
   "execution_count": 108,
   "metadata": {},
   "outputs": [
    {
     "data": {
      "text/plain": [
       "array([1. , 0. , 0.5])"
      ]
     },
     "execution_count": 108,
     "metadata": {},
     "output_type": "execute_result"
    }
   ],
   "source": [
    "df_train['paved_drive'] = df_train['paved_drive'].map({'Y':1 , 'N' : 0, 'P': 0.5}) \n",
    "#change all Y to 1 and N to 0, P to 0.5\n",
    "\n",
    "df_train['paved_drive'].unique()"
   ]
  },
  {
   "cell_type": "code",
   "execution_count": 109,
   "metadata": {},
   "outputs": [
    {
     "data": {
      "text/plain": [
       "array([1, 0], dtype=int64)"
      ]
     },
     "execution_count": 109,
     "metadata": {},
     "output_type": "execute_result"
    }
   ],
   "source": [
    "df_train['central_air'] = df_train['central_air'].map({'Y':1 , 'N' : 0}) \n",
    "#change all Y to 1 and N to 0\n",
    "df_train['central_air'].unique()"
   ]
  },
  {
   "cell_type": "markdown",
   "metadata": {},
   "source": [
    "On top with what was given, based on research, house buyers look at \n",
    "1. Remodelling age as buyers generally want a ready to move in houses that are freshly remodeled and updated \n",
    "2. Property age to compare to remodelling age and also older homes sometimes can get a vintage appeal"
   ]
  },
  {
   "cell_type": "code",
   "execution_count": 110,
   "metadata": {},
   "outputs": [],
   "source": [
    "#calculate property age \n",
    "df_train['property_age'] = df_train['yr_sold'] - df_train['year_built']"
   ]
  },
  {
   "cell_type": "code",
   "execution_count": 111,
   "metadata": {},
   "outputs": [],
   "source": [
    "#calculate remodel age\n",
    "df_train['remodel_age'] = df_train['yr_sold'] - df_train['year_remod_add']"
   ]
  },
  {
   "cell_type": "markdown",
   "metadata": {},
   "source": [
    "***Porch***\n",
    "\n",
    "As there are multiple porch features and usually houses have 0 psf for porch, let's look at their unique values to see if it's true"
   ]
  },
  {
   "cell_type": "code",
   "execution_count": 112,
   "metadata": {},
   "outputs": [],
   "source": [
    "porch = ['open_porch_sf', 'enclosed_porch','3ssn_porch']"
   ]
  },
  {
   "cell_type": "code",
   "execution_count": 113,
   "metadata": {},
   "outputs": [
    {
     "data": {
      "text/plain": [
       "Text(0.5, 1.0, 'Total values of porch values')"
      ]
     },
     "execution_count": 113,
     "metadata": {},
     "output_type": "execute_result"
    },
    {
     "data": {
      "image/png": "[encoded data removed]",
      "text/plain": [
       "<Figure size 1080x504 with 4 Axes>"
      ]
     },
     "metadata": {
      "needs_background": "light"
     },
     "output_type": "display_data"
    }
   ],
   "source": [
    "df_train[porch].hist(figsize=(15,7));\n",
    "plt.title('Total values of porch values')"
   ]
  },
  {
   "cell_type": "markdown",
   "metadata": {},
   "source": [
    "Most of the values are indeed 0 for each column. Those columns more than 0 for any porch will be combined into a single column indicating the presence of a porch."
   ]
  },
  {
   "cell_type": "code",
   "execution_count": 114,
   "metadata": {},
   "outputs": [],
   "source": [
    "df_train['porch_sf'] = df_train[['open_porch_sf', 'enclosed_porch','3ssn_porch']].sum(axis=1).apply(lambda x: 1 if x > 0 else 0)\n",
    "df_train = df_train.drop(columns = ['open_porch_sf', 'enclosed_porch','3ssn_porch'])\n",
    "# areas >0 for any porch will be combined into a single column indicating the presence of a porch."
   ]
  },
  {
   "cell_type": "code",
   "execution_count": 115,
   "metadata": {},
   "outputs": [
    {
     "data": {
      "text/plain": [
       "1    1371\n",
       "0     680\n",
       "Name: porch_sf, dtype: int64"
      ]
     },
     "execution_count": 115,
     "metadata": {},
     "output_type": "execute_result"
    }
   ],
   "source": [
    "df_train['porch_sf'].value_counts()"
   ]
  },
  {
   "cell_type": "code",
   "execution_count": 116,
   "metadata": {},
   "outputs": [
    {
     "data": {
      "image/png": "[encoded data removed]",
      "text/plain": [
       "<Figure size 1080x504 with 1 Axes>"
      ]
     },
     "metadata": {
      "needs_background": "light"
     },
     "output_type": "display_data"
    }
   ],
   "source": [
    "df_train['porch_sf'].hist(figsize=(15,7))\n",
    "plt.title('Presence of porch')\n",
    "plt.xticks(df_train['porch_sf']);"
   ]
  },
  {
   "cell_type": "markdown",
   "metadata": {},
   "source": [
    "There are more houses with porch! "
   ]
  },
  {
   "cell_type": "markdown",
   "metadata": {},
   "source": [
    "***Garage Year and House Year Built***"
   ]
  },
  {
   "cell_type": "markdown",
   "metadata": {},
   "source": [
    "Usually, garages were built the same year as the house built. Check if it's true"
   ]
  },
  {
   "cell_type": "code",
   "execution_count": 117,
   "metadata": {},
   "outputs": [
    {
     "data": {
      "text/plain": [
       "1564"
      ]
     },
     "execution_count": 117,
     "metadata": {},
     "output_type": "execute_result"
    }
   ],
   "source": [
    "len(df_train[df_train['garage_yr_blt']==df_train['year_built']])"
   ]
  },
  {
   "cell_type": "markdown",
   "metadata": {},
   "source": [
    "As there are 1564 out 2051(76%!) rows are the same where garage for year built, i will remove the garage_yr_blt"
   ]
  },
  {
   "cell_type": "code",
   "execution_count": 118,
   "metadata": {},
   "outputs": [],
   "source": [
    "df_train = df_train.drop(columns = ['garage_yr_blt'])"
   ]
  },
  {
   "cell_type": "markdown",
   "metadata": {},
   "source": [
    "***1st_flr_sf , 2nd_flr_sf ,gr_liv_area***"
   ]
  },
  {
   "cell_type": "markdown",
   "metadata": {},
   "source": [
    "There are houses that exist where there is not even a second floor. And potential buyers usually look at total ground living area and if there exist a second floor, not really the size of the second floor. \n",
    "This means that there are houses where 1st floor and ground area living area will likely be the same values.  "
   ]
  },
  {
   "cell_type": "code",
   "execution_count": 119,
   "metadata": {},
   "outputs": [
    {
     "data": {
      "text/plain": [
       "1191"
      ]
     },
     "execution_count": 119,
     "metadata": {},
     "output_type": "execute_result"
    }
   ],
   "source": [
    "len(df_train[df_train['2nd_flr_sf']==0])\n",
    "#1191 houses out of 2051(58%) with 0 2nd floor"
   ]
  },
  {
   "cell_type": "code",
   "execution_count": 120,
   "metadata": {},
   "outputs": [
    {
     "name": "stdout",
     "output_type": "stream",
     "text": [
      "1176\n"
     ]
    }
   ],
   "source": [
    "print(len(df_train[df_train['1st_flr_sf']== df_train['gr_liv_area']]))\n",
    "#the number of houses where 1st floor = ground living area. that's 57.3%"
   ]
  },
  {
   "cell_type": "markdown",
   "metadata": {},
   "source": [
    "As there roughly half of the houses where 1st floor is equivalent to ground living area, i will remove the first floor. \n",
    "I will convert 2nd floor to 1 or 0 variable where 1 means Yes and 0 means No second floor."
   ]
  },
  {
   "cell_type": "code",
   "execution_count": 121,
   "metadata": {},
   "outputs": [
    {
     "data": {
      "text/plain": [
       "0       1\n",
       "1       1\n",
       "2       0\n",
       "3       1\n",
       "4       1\n",
       "       ..\n",
       "2046    0\n",
       "2047    0\n",
       "2048    1\n",
       "2049    0\n",
       "2050    1\n",
       "Name: 2nd_flr_sf, Length: 2051, dtype: int64"
      ]
     },
     "execution_count": 121,
     "metadata": {},
     "output_type": "execute_result"
    }
   ],
   "source": [
    "df_train['2nd_flr_sf'].apply(lambda x: 1 if x > 0 else 0)"
   ]
  },
  {
   "cell_type": "code",
   "execution_count": 122,
   "metadata": {},
   "outputs": [],
   "source": [
    "df_train = df_train.drop(columns = ['1st_flr_sf'])"
   ]
  },
  {
   "cell_type": "code",
   "execution_count": 123,
   "metadata": {},
   "outputs": [],
   "source": [
    "df_train = df_train.drop(columns = ['id'])\n",
    "#remove id as it is not useful to indicate target saleprice since they are just serial numbers "
   ]
  },
  {
   "cell_type": "code",
   "execution_count": 124,
   "metadata": {},
   "outputs": [
    {
     "data": {
      "text/html": [
       "<div>\n",
       "<style scoped>\n",
       "    .dataframe tbody tr th:only-of-type {\n",
       "        vertical-align: middle;\n",
       "    }\n",
       "\n",
       "    .dataframe tbody tr th {\n",
       "        vertical-align: top;\n",
       "    }\n",
       "\n",
       "    .dataframe thead th {\n",
       "        text-align: right;\n",
       "    }\n",
       "</style>\n",
       "<table border=\"1\" class=\"dataframe\">\n",
       "  <thead>\n",
       "    <tr style=\"text-align: right;\">\n",
       "      <th></th>\n",
       "      <th>pid</th>\n",
       "      <th>ms_subclass</th>\n",
       "      <th>ms_zoning</th>\n",
       "      <th>lot_frontage</th>\n",
       "      <th>lot_area</th>\n",
       "      <th>street</th>\n",
       "      <th>alley</th>\n",
       "      <th>lot_shape</th>\n",
       "      <th>land_contour</th>\n",
       "      <th>utilities</th>\n",
       "      <th>...</th>\n",
       "      <th>fence</th>\n",
       "      <th>misc_feature</th>\n",
       "      <th>misc_val</th>\n",
       "      <th>mo_sold</th>\n",
       "      <th>yr_sold</th>\n",
       "      <th>sale_type</th>\n",
       "      <th>saleprice</th>\n",
       "      <th>property_age</th>\n",
       "      <th>remodel_age</th>\n",
       "      <th>porch_sf</th>\n",
       "    </tr>\n",
       "  </thead>\n",
       "  <tbody>\n",
       "    <tr>\n",
       "      <th>0</th>\n",
       "      <td>533352170</td>\n",
       "      <td>60</td>\n",
       "      <td>RL</td>\n",
       "      <td>0.0</td>\n",
       "      <td>13517</td>\n",
       "      <td>Pave</td>\n",
       "      <td>None</td>\n",
       "      <td>IR1</td>\n",
       "      <td>Lvl</td>\n",
       "      <td>AllPub</td>\n",
       "      <td>...</td>\n",
       "      <td>None</td>\n",
       "      <td>None</td>\n",
       "      <td>0</td>\n",
       "      <td>3</td>\n",
       "      <td>2010</td>\n",
       "      <td>WD</td>\n",
       "      <td>130500</td>\n",
       "      <td>34</td>\n",
       "      <td>5</td>\n",
       "      <td>1</td>\n",
       "    </tr>\n",
       "    <tr>\n",
       "      <th>1</th>\n",
       "      <td>531379050</td>\n",
       "      <td>60</td>\n",
       "      <td>RL</td>\n",
       "      <td>43.0</td>\n",
       "      <td>11492</td>\n",
       "      <td>Pave</td>\n",
       "      <td>None</td>\n",
       "      <td>IR1</td>\n",
       "      <td>Lvl</td>\n",
       "      <td>AllPub</td>\n",
       "      <td>...</td>\n",
       "      <td>None</td>\n",
       "      <td>None</td>\n",
       "      <td>0</td>\n",
       "      <td>4</td>\n",
       "      <td>2009</td>\n",
       "      <td>WD</td>\n",
       "      <td>220000</td>\n",
       "      <td>13</td>\n",
       "      <td>12</td>\n",
       "      <td>1</td>\n",
       "    </tr>\n",
       "    <tr>\n",
       "      <th>2</th>\n",
       "      <td>535304180</td>\n",
       "      <td>20</td>\n",
       "      <td>RL</td>\n",
       "      <td>68.0</td>\n",
       "      <td>7922</td>\n",
       "      <td>Pave</td>\n",
       "      <td>None</td>\n",
       "      <td>Reg</td>\n",
       "      <td>Lvl</td>\n",
       "      <td>AllPub</td>\n",
       "      <td>...</td>\n",
       "      <td>None</td>\n",
       "      <td>None</td>\n",
       "      <td>0</td>\n",
       "      <td>1</td>\n",
       "      <td>2010</td>\n",
       "      <td>WD</td>\n",
       "      <td>109000</td>\n",
       "      <td>57</td>\n",
       "      <td>3</td>\n",
       "      <td>1</td>\n",
       "    </tr>\n",
       "    <tr>\n",
       "      <th>3</th>\n",
       "      <td>916386060</td>\n",
       "      <td>60</td>\n",
       "      <td>RL</td>\n",
       "      <td>73.0</td>\n",
       "      <td>9802</td>\n",
       "      <td>Pave</td>\n",
       "      <td>None</td>\n",
       "      <td>Reg</td>\n",
       "      <td>Lvl</td>\n",
       "      <td>AllPub</td>\n",
       "      <td>...</td>\n",
       "      <td>None</td>\n",
       "      <td>None</td>\n",
       "      <td>0</td>\n",
       "      <td>4</td>\n",
       "      <td>2010</td>\n",
       "      <td>WD</td>\n",
       "      <td>174000</td>\n",
       "      <td>4</td>\n",
       "      <td>3</td>\n",
       "      <td>0</td>\n",
       "    </tr>\n",
       "    <tr>\n",
       "      <th>4</th>\n",
       "      <td>906425045</td>\n",
       "      <td>50</td>\n",
       "      <td>RL</td>\n",
       "      <td>82.0</td>\n",
       "      <td>14235</td>\n",
       "      <td>Pave</td>\n",
       "      <td>None</td>\n",
       "      <td>IR1</td>\n",
       "      <td>Lvl</td>\n",
       "      <td>AllPub</td>\n",
       "      <td>...</td>\n",
       "      <td>None</td>\n",
       "      <td>None</td>\n",
       "      <td>0</td>\n",
       "      <td>3</td>\n",
       "      <td>2010</td>\n",
       "      <td>WD</td>\n",
       "      <td>138500</td>\n",
       "      <td>110</td>\n",
       "      <td>17</td>\n",
       "      <td>1</td>\n",
       "    </tr>\n",
       "  </tbody>\n",
       "</table>\n",
       "<p>5 rows × 78 columns</p>\n",
       "</div>"
      ],
      "text/plain": [
       "         pid  ms_subclass ms_zoning  lot_frontage  lot_area street alley  \\\n",
       "0  533352170           60        RL           0.0     13517   Pave  None   \n",
       "1  531379050           60        RL          43.0     11492   Pave  None   \n",
       "2  535304180           20        RL          68.0      7922   Pave  None   \n",
       "3  916386060           60        RL          73.0      9802   Pave  None   \n",
       "4  906425045           50        RL          82.0     14235   Pave  None   \n",
       "\n",
       "  lot_shape land_contour utilities  ... fence misc_feature misc_val mo_sold  \\\n",
       "0       IR1          Lvl    AllPub  ...  None         None        0       3   \n",
       "1       IR1          Lvl    AllPub  ...  None         None        0       4   \n",
       "2       Reg          Lvl    AllPub  ...  None         None        0       1   \n",
       "3       Reg          Lvl    AllPub  ...  None         None        0       4   \n",
       "4       IR1          Lvl    AllPub  ...  None         None        0       3   \n",
       "\n",
       "  yr_sold sale_type saleprice  property_age  remodel_age  porch_sf  \n",
       "0    2010       WD     130500            34            5         1  \n",
       "1    2009       WD     220000            13           12         1  \n",
       "2    2010       WD     109000            57            3         1  \n",
       "3    2010       WD     174000             4            3         0  \n",
       "4    2010       WD     138500           110           17         1  \n",
       "\n",
       "[5 rows x 78 columns]"
      ]
     },
     "execution_count": 124,
     "metadata": {},
     "output_type": "execute_result"
    }
   ],
   "source": [
    "df_train.head()"
   ]
  },
  {
   "cell_type": "code",
   "execution_count": 125,
   "metadata": {
    "scrolled": true
   },
   "outputs": [
    {
     "name": "stdout",
     "output_type": "stream",
     "text": [
      "<class 'pandas.core.frame.DataFrame'>\n",
      "RangeIndex: 2051 entries, 0 to 2050\n",
      "Data columns (total 78 columns):\n",
      " #   Column           Non-Null Count  Dtype  \n",
      "---  ------           --------------  -----  \n",
      " 0   pid              2051 non-null   int64  \n",
      " 1   ms_subclass      2051 non-null   int64  \n",
      " 2   ms_zoning        2051 non-null   object \n",
      " 3   lot_frontage     2051 non-null   float64\n",
      " 4   lot_area         2051 non-null   int64  \n",
      " 5   street           2051 non-null   object \n",
      " 6   alley            2051 non-null   object \n",
      " 7   lot_shape        2051 non-null   object \n",
      " 8   land_contour     2051 non-null   object \n",
      " 9   utilities        2051 non-null   object \n",
      " 10  lot_config       2051 non-null   object \n",
      " 11  land_slope       2051 non-null   object \n",
      " 12  neighborhood     2051 non-null   object \n",
      " 13  condition_1      2051 non-null   object \n",
      " 14  condition_2      2051 non-null   object \n",
      " 15  bldg_type        2051 non-null   object \n",
      " 16  house_style      2051 non-null   object \n",
      " 17  overall_qual     2051 non-null   int64  \n",
      " 18  overall_cond     2051 non-null   int64  \n",
      " 19  year_built       2051 non-null   int64  \n",
      " 20  year_remod_add   2051 non-null   int64  \n",
      " 21  roof_style       2051 non-null   object \n",
      " 22  roof_matl        2051 non-null   object \n",
      " 23  exterior_1st     2051 non-null   object \n",
      " 24  exterior_2nd     2051 non-null   object \n",
      " 25  mas_vnr_type     2051 non-null   object \n",
      " 26  mas_vnr_area     2051 non-null   float64\n",
      " 27  exter_qual       2051 non-null   int64  \n",
      " 28  exter_cond       2051 non-null   int64  \n",
      " 29  foundation       2051 non-null   object \n",
      " 30  bsmt_qual        2051 non-null   int64  \n",
      " 31  bsmt_cond        2051 non-null   int64  \n",
      " 32  bsmt_exposure    2051 non-null   object \n",
      " 33  bsmtfin_type_1   2051 non-null   object \n",
      " 34  bsmtfin_sf_1     2051 non-null   float64\n",
      " 35  bsmtfin_type_2   2051 non-null   object \n",
      " 36  bsmtfin_sf_2     2051 non-null   float64\n",
      " 37  bsmt_unf_sf      2051 non-null   float64\n",
      " 38  total_bsmt_sf    2051 non-null   float64\n",
      " 39  heating          2051 non-null   object \n",
      " 40  heating_qc       2051 non-null   int64  \n",
      " 41  central_air      2051 non-null   int64  \n",
      " 42  electrical       2051 non-null   object \n",
      " 43  2nd_flr_sf       2051 non-null   int64  \n",
      " 44  low_qual_fin_sf  2051 non-null   int64  \n",
      " 45  gr_liv_area      2051 non-null   int64  \n",
      " 46  bsmt_full_bath   2051 non-null   float64\n",
      " 47  bsmt_half_bath   2051 non-null   float64\n",
      " 48  full_bath        2051 non-null   int64  \n",
      " 49  half_bath        2051 non-null   int64  \n",
      " 50  bedroom_abvgr    2051 non-null   int64  \n",
      " 51  kitchen_abvgr    2051 non-null   int64  \n",
      " 52  kitchen_qual     2051 non-null   int64  \n",
      " 53  totrms_abvgrd    2051 non-null   int64  \n",
      " 54  functional       2051 non-null   object \n",
      " 55  fireplaces       2051 non-null   int64  \n",
      " 56  fireplace_qu     2051 non-null   int64  \n",
      " 57  garage_type      2051 non-null   object \n",
      " 58  garage_finish    2051 non-null   object \n",
      " 59  garage_cars      2051 non-null   float64\n",
      " 60  garage_area      2051 non-null   float64\n",
      " 61  garage_qual      2051 non-null   int64  \n",
      " 62  garage_cond      2051 non-null   int64  \n",
      " 63  paved_drive      2051 non-null   float64\n",
      " 64  wood_deck_sf     2051 non-null   int64  \n",
      " 65  screen_porch     2051 non-null   int64  \n",
      " 66  pool_area        2051 non-null   int64  \n",
      " 67  pool_qc          2051 non-null   int64  \n",
      " 68  fence            2051 non-null   object \n",
      " 69  misc_feature     2051 non-null   object \n",
      " 70  misc_val         2051 non-null   int64  \n",
      " 71  mo_sold          2051 non-null   int64  \n",
      " 72  yr_sold          2051 non-null   int64  \n",
      " 73  sale_type        2051 non-null   object \n",
      " 74  saleprice        2051 non-null   int64  \n",
      " 75  property_age     2051 non-null   int64  \n",
      " 76  remodel_age      2051 non-null   int64  \n",
      " 77  porch_sf         2051 non-null   int64  \n",
      "dtypes: float64(11), int64(37), object(30)\n",
      "memory usage: 1.2+ MB\n"
     ]
    }
   ],
   "source": [
    "df_train.info()"
   ]
  },
  {
   "cell_type": "code",
   "execution_count": 126,
   "metadata": {},
   "outputs": [],
   "source": [
    "df_train.to_csv('data/train_new.csv', index=False)\n",
    "#save new train csv"
   ]
  },
  {
   "cell_type": "markdown",
   "metadata": {},
   "source": [
    "### *Repeat above steps for df_test* "
   ]
  },
  {
   "cell_type": "code",
   "execution_count": 127,
   "metadata": {},
   "outputs": [
    {
     "data": {
      "text/plain": [
       "Index(['id', 'pid', 'ms_subclass', 'ms_zoning', 'lot_frontage', 'lot_area',\n",
       "       'street', 'alley', 'lot_shape', 'land_contour', 'utilities',\n",
       "       'lot_config', 'land_slope', 'neighborhood', 'condition_1',\n",
       "       'condition_2', 'bldg_type', 'house_style', 'overall_qual',\n",
       "       'overall_cond', 'year_built', 'year_remod_add', 'roof_style',\n",
       "       'roof_matl', 'exterior_1st', 'exterior_2nd', 'mas_vnr_type',\n",
       "       'mas_vnr_area', 'exter_qual', 'exter_cond', 'foundation', 'bsmt_qual',\n",
       "       'bsmt_cond', 'bsmt_exposure', 'bsmtfin_type_1', 'bsmtfin_sf_1',\n",
       "       'bsmtfin_type_2', 'bsmtfin_sf_2', 'bsmt_unf_sf', 'total_bsmt_sf',\n",
       "       'heating', 'heating_qc', 'central_air', 'electrical', '1st_flr_sf',\n",
       "       '2nd_flr_sf', 'low_qual_fin_sf', 'gr_liv_area', 'bsmt_full_bath',\n",
       "       'bsmt_half_bath', 'full_bath', 'half_bath', 'bedroom_abvgr',\n",
       "       'kitchen_abvgr', 'kitchen_qual', 'totrms_abvgrd', 'functional',\n",
       "       'fireplaces', 'fireplace_qu', 'garage_type', 'garage_yr_blt',\n",
       "       'garage_finish', 'garage_cars', 'garage_area', 'garage_qual',\n",
       "       'garage_cond', 'paved_drive', 'wood_deck_sf', 'open_porch_sf',\n",
       "       'enclosed_porch', '3ssn_porch', 'screen_porch', 'pool_area', 'pool_qc',\n",
       "       'fence', 'misc_feature', 'misc_val', 'mo_sold', 'yr_sold', 'sale_type'],\n",
       "      dtype='object')"
      ]
     },
     "execution_count": 127,
     "metadata": {},
     "output_type": "execute_result"
    }
   ],
   "source": [
    "df_test.columns"
   ]
  },
  {
   "cell_type": "code",
   "execution_count": 128,
   "metadata": {},
   "outputs": [
    {
     "data": {
      "text/plain": [
       "pool_qc           874\n",
       "misc_feature      837\n",
       "alley             820\n",
       "fence             706\n",
       "fireplace_qu      422\n",
       "lot_frontage      160\n",
       "garage_yr_blt      45\n",
       "garage_finish      45\n",
       "garage_qual        45\n",
       "garage_cond        45\n",
       "garage_type        44\n",
       "bsmtfin_type_1     25\n",
       "bsmt_qual          25\n",
       "bsmt_cond          25\n",
       "bsmt_exposure      25\n",
       "bsmtfin_type_2     25\n",
       "electrical          1\n",
       "mas_vnr_type        1\n",
       "mas_vnr_area        1\n",
       "kitchen_abvgr       0\n",
       "dtype: int64"
      ]
     },
     "execution_count": 128,
     "metadata": {},
     "output_type": "execute_result"
    }
   ],
   "source": [
    "df_test.isna().sum().sort_values(ascending=False).head(20)\n",
    "#check the total sum of nan values of df_test"
   ]
  },
  {
   "cell_type": "code",
   "execution_count": 129,
   "metadata": {},
   "outputs": [],
   "source": [
    "NA_Int_test= df_test.select_dtypes(include=['int64']).columns"
   ]
  },
  {
   "cell_type": "code",
   "execution_count": 130,
   "metadata": {},
   "outputs": [
    {
     "data": {
      "text/plain": [
       "id                 0\n",
       "pid                0\n",
       "ms_subclass        0\n",
       "lot_area           0\n",
       "overall_qual       0\n",
       "overall_cond       0\n",
       "year_built         0\n",
       "year_remod_add     0\n",
       "bsmtfin_sf_1       0\n",
       "bsmtfin_sf_2       0\n",
       "bsmt_unf_sf        0\n",
       "total_bsmt_sf      0\n",
       "1st_flr_sf         0\n",
       "2nd_flr_sf         0\n",
       "low_qual_fin_sf    0\n",
       "gr_liv_area        0\n",
       "bsmt_full_bath     0\n",
       "bsmt_half_bath     0\n",
       "full_bath          0\n",
       "half_bath          0\n",
       "bedroom_abvgr      0\n",
       "kitchen_abvgr      0\n",
       "totrms_abvgrd      0\n",
       "fireplaces         0\n",
       "garage_cars        0\n",
       "garage_area        0\n",
       "wood_deck_sf       0\n",
       "open_porch_sf      0\n",
       "enclosed_porch     0\n",
       "3ssn_porch         0\n",
       "screen_porch       0\n",
       "pool_area          0\n",
       "misc_val           0\n",
       "mo_sold            0\n",
       "yr_sold            0\n",
       "dtype: int64"
      ]
     },
     "execution_count": 130,
     "metadata": {},
     "output_type": "execute_result"
    }
   ],
   "source": [
    "df_test[NA_Int_test].isna().sum()"
   ]
  },
  {
   "cell_type": "markdown",
   "metadata": {},
   "source": [
    "no null values for int64 dtypes, proceed to object and float"
   ]
  },
  {
   "cell_type": "code",
   "execution_count": 131,
   "metadata": {},
   "outputs": [
    {
     "data": {
      "text/plain": [
       "alley             820\n",
       "fireplace_qu      422\n",
       "bsmt_qual          25\n",
       "bsmt_exposure      25\n",
       "bsmtfin_type_1     25\n",
       "bsmtfin_type_2     25\n",
       "fireplace_qu      422\n",
       "garage_type        44\n",
       "garage_finish      45\n",
       "garage_qual        45\n",
       "garage_cond        45\n",
       "pool_qc           874\n",
       "fence             706\n",
       "misc_feature      837\n",
       "bsmt_cond          25\n",
       "dtype: int64"
      ]
     },
     "execution_count": 131,
     "metadata": {},
     "output_type": "execute_result"
    }
   ],
   "source": [
    "df_test[convertNAtoNone].isna().sum()\n",
    "#this are the object columns identified in the df_test where NA = No feature (column name) "
   ]
  },
  {
   "cell_type": "code",
   "execution_count": 132,
   "metadata": {},
   "outputs": [],
   "source": [
    "df_test[convertNAtoNone] = df_test[convertNAtoNone].replace(np.nan,'None')\n",
    "#replace them to None "
   ]
  },
  {
   "cell_type": "code",
   "execution_count": 133,
   "metadata": {},
   "outputs": [
    {
     "data": {
      "text/plain": [
       "alley             0\n",
       "fireplace_qu      0\n",
       "bsmt_qual         0\n",
       "bsmt_exposure     0\n",
       "bsmtfin_type_1    0\n",
       "bsmtfin_type_2    0\n",
       "fireplace_qu      0\n",
       "garage_type       0\n",
       "garage_finish     0\n",
       "garage_qual       0\n",
       "garage_cond       0\n",
       "pool_qc           0\n",
       "fence             0\n",
       "misc_feature      0\n",
       "bsmt_cond         0\n",
       "dtype: int64"
      ]
     },
     "execution_count": 133,
     "metadata": {},
     "output_type": "execute_result"
    }
   ],
   "source": [
    "df_test[convertNAtoNone].isna().sum()\n",
    "#should be 0 as replace to None"
   ]
  },
  {
   "cell_type": "code",
   "execution_count": 134,
   "metadata": {},
   "outputs": [
    {
     "data": {
      "text/plain": [
       "Index(['lot_frontage', 'mas_vnr_area', 'garage_yr_blt'], dtype='object')"
      ]
     },
     "execution_count": 134,
     "metadata": {},
     "output_type": "execute_result"
    }
   ],
   "source": [
    "NA_Float = df_test.select_dtypes(include=['float64']).columns\n",
    "NA_Float\n",
    "#float columns "
   ]
  },
  {
   "cell_type": "code",
   "execution_count": 135,
   "metadata": {},
   "outputs": [
    {
     "data": {
      "text/plain": [
       "lot_frontage     160\n",
       "mas_vnr_area       1\n",
       "garage_yr_blt     45\n",
       "dtype: int64"
      ]
     },
     "execution_count": 135,
     "metadata": {},
     "output_type": "execute_result"
    }
   ],
   "source": [
    "df_test[NA_Float].isna().sum()\n",
    "#check if there any null values for float64 dtypes"
   ]
  },
  {
   "cell_type": "code",
   "execution_count": 136,
   "metadata": {},
   "outputs": [],
   "source": [
    "df_test[NA_Float] = df_test[NA_Float].replace(np.nan,0)\n",
    "#replace null to 0 as it means no such feature"
   ]
  },
  {
   "cell_type": "code",
   "execution_count": 137,
   "metadata": {},
   "outputs": [
    {
     "data": {
      "text/plain": [
       "lot_frontage     0\n",
       "mas_vnr_area     0\n",
       "garage_yr_blt    0\n",
       "dtype: int64"
      ]
     },
     "execution_count": 137,
     "metadata": {},
     "output_type": "execute_result"
    }
   ],
   "source": [
    "df_test[NA_Float].isna().sum()"
   ]
  },
  {
   "cell_type": "code",
   "execution_count": 138,
   "metadata": {},
   "outputs": [
    {
     "data": {
      "text/plain": [
       "mas_vnr_type    1\n",
       "electrical      1\n",
       "dtype: int64"
      ]
     },
     "execution_count": 138,
     "metadata": {},
     "output_type": "execute_result"
    }
   ],
   "source": [
    "df_test.isna().sum()[df_test.isna().sum() !=0].sort_values(ascending=False)"
   ]
  },
  {
   "cell_type": "code",
   "execution_count": 139,
   "metadata": {},
   "outputs": [
    {
     "data": {
      "text/plain": [
       "None       534\n",
       "BrkFace    250\n",
       "Stone       80\n",
       "BrkCmn      12\n",
       "CBlock       1\n",
       "Name: mas_vnr_type, dtype: int64"
      ]
     },
     "execution_count": 139,
     "metadata": {},
     "output_type": "execute_result"
    }
   ],
   "source": [
    "df_test['mas_vnr_type'].value_counts()"
   ]
  },
  {
   "cell_type": "code",
   "execution_count": 140,
   "metadata": {},
   "outputs": [],
   "source": [
    "df_test['mas_vnr_type'] = df_test['mas_vnr_type'].replace(np.nan, 'None')\n",
    "#as only one null value and there is a None value for this column, replacing it to none"
   ]
  },
  {
   "cell_type": "code",
   "execution_count": 141,
   "metadata": {},
   "outputs": [
    {
     "data": {
      "text/plain": [
       "None       535\n",
       "BrkFace    250\n",
       "Stone       80\n",
       "BrkCmn      12\n",
       "CBlock       1\n",
       "Name: mas_vnr_type, dtype: int64"
      ]
     },
     "execution_count": 141,
     "metadata": {},
     "output_type": "execute_result"
    }
   ],
   "source": [
    "df_test['mas_vnr_type'].value_counts()"
   ]
  },
  {
   "cell_type": "code",
   "execution_count": 142,
   "metadata": {},
   "outputs": [
    {
     "data": {
      "text/plain": [
       "SBrkr    813\n",
       "FuseA     48\n",
       "FuseF     15\n",
       "FuseP      1\n",
       "Name: electrical, dtype: int64"
      ]
     },
     "execution_count": 142,
     "metadata": {},
     "output_type": "execute_result"
    }
   ],
   "source": [
    "df_test['electrical'].value_counts()"
   ]
  },
  {
   "cell_type": "code",
   "execution_count": 143,
   "metadata": {},
   "outputs": [],
   "source": [
    "df_test['electrical'] = df_test['electrical'].replace(np.nan, 'SBrkr') \n",
    "#as it has only one null value, we will keep the column but replace with the the most frequent value "
   ]
  },
  {
   "cell_type": "code",
   "execution_count": 144,
   "metadata": {},
   "outputs": [
    {
     "data": {
      "text/plain": [
       "Series([], dtype: int64)"
      ]
     },
     "execution_count": 144,
     "metadata": {},
     "output_type": "execute_result"
    }
   ],
   "source": [
    "df_test.isna().sum()[df_test.isna().sum() !=0].sort_values(ascending=False)\n",
    "#check if there is any more null value in df_test"
   ]
  },
  {
   "cell_type": "code",
   "execution_count": 145,
   "metadata": {},
   "outputs": [],
   "source": [
    "for i in rating_list:\n",
    "    df_test[i] = df_test[i].map(ratingz)  \n",
    "#map the ordinal values to the ratingz dict created earlier"
   ]
  },
  {
   "cell_type": "code",
   "execution_count": 146,
   "metadata": {},
   "outputs": [
    {
     "data": {
      "text/html": [
       "<div>\n",
       "<style scoped>\n",
       "    .dataframe tbody tr th:only-of-type {\n",
       "        vertical-align: middle;\n",
       "    }\n",
       "\n",
       "    .dataframe tbody tr th {\n",
       "        vertical-align: top;\n",
       "    }\n",
       "\n",
       "    .dataframe thead th {\n",
       "        text-align: right;\n",
       "    }\n",
       "</style>\n",
       "<table border=\"1\" class=\"dataframe\">\n",
       "  <thead>\n",
       "    <tr style=\"text-align: right;\">\n",
       "      <th></th>\n",
       "      <th>bsmt_cond</th>\n",
       "      <th>bsmt_qual</th>\n",
       "      <th>exter_qual</th>\n",
       "      <th>exter_cond</th>\n",
       "      <th>pool_qc</th>\n",
       "      <th>garage_cond</th>\n",
       "      <th>heating_qc</th>\n",
       "      <th>kitchen_qual</th>\n",
       "      <th>garage_qual</th>\n",
       "      <th>fireplace_qu</th>\n",
       "    </tr>\n",
       "  </thead>\n",
       "  <tbody>\n",
       "    <tr>\n",
       "      <th>0</th>\n",
       "      <td>3</td>\n",
       "      <td>2</td>\n",
       "      <td>3</td>\n",
       "      <td>2</td>\n",
       "      <td>0</td>\n",
       "      <td>1</td>\n",
       "      <td>4</td>\n",
       "      <td>2</td>\n",
       "      <td>1</td>\n",
       "      <td>0</td>\n",
       "    </tr>\n",
       "    <tr>\n",
       "      <th>1</th>\n",
       "      <td>3</td>\n",
       "      <td>4</td>\n",
       "      <td>3</td>\n",
       "      <td>3</td>\n",
       "      <td>0</td>\n",
       "      <td>3</td>\n",
       "      <td>3</td>\n",
       "      <td>3</td>\n",
       "      <td>3</td>\n",
       "      <td>0</td>\n",
       "    </tr>\n",
       "    <tr>\n",
       "      <th>2</th>\n",
       "      <td>4</td>\n",
       "      <td>4</td>\n",
       "      <td>4</td>\n",
       "      <td>3</td>\n",
       "      <td>0</td>\n",
       "      <td>3</td>\n",
       "      <td>5</td>\n",
       "      <td>4</td>\n",
       "      <td>3</td>\n",
       "      <td>4</td>\n",
       "    </tr>\n",
       "    <tr>\n",
       "      <th>3</th>\n",
       "      <td>3</td>\n",
       "      <td>3</td>\n",
       "      <td>4</td>\n",
       "      <td>3</td>\n",
       "      <td>0</td>\n",
       "      <td>3</td>\n",
       "      <td>3</td>\n",
       "      <td>3</td>\n",
       "      <td>2</td>\n",
       "      <td>0</td>\n",
       "    </tr>\n",
       "    <tr>\n",
       "      <th>4</th>\n",
       "      <td>3</td>\n",
       "      <td>4</td>\n",
       "      <td>3</td>\n",
       "      <td>3</td>\n",
       "      <td>0</td>\n",
       "      <td>3</td>\n",
       "      <td>4</td>\n",
       "      <td>3</td>\n",
       "      <td>3</td>\n",
       "      <td>4</td>\n",
       "    </tr>\n",
       "  </tbody>\n",
       "</table>\n",
       "</div>"
      ],
      "text/plain": [
       "   bsmt_cond  bsmt_qual  exter_qual  exter_cond  pool_qc  garage_cond  \\\n",
       "0          3          2           3           2        0            1   \n",
       "1          3          4           3           3        0            3   \n",
       "2          4          4           4           3        0            3   \n",
       "3          3          3           4           3        0            3   \n",
       "4          3          4           3           3        0            3   \n",
       "\n",
       "   heating_qc  kitchen_qual  garage_qual  fireplace_qu  \n",
       "0           4             2            1             0  \n",
       "1           3             3            3             0  \n",
       "2           5             4            3             4  \n",
       "3           3             3            2             0  \n",
       "4           4             3            3             4  "
      ]
     },
     "execution_count": 146,
     "metadata": {},
     "output_type": "execute_result"
    }
   ],
   "source": [
    "df_test[rating_list].head()"
   ]
  },
  {
   "cell_type": "code",
   "execution_count": 147,
   "metadata": {},
   "outputs": [
    {
     "data": {
      "text/plain": [
       "array([1. , 0. , 0.5])"
      ]
     },
     "execution_count": 147,
     "metadata": {},
     "output_type": "execute_result"
    }
   ],
   "source": [
    "df_test['paved_drive'] = df_test['paved_drive'].map({'Y':1 , 'N' : 0, 'P': 0.5}) \n",
    "#change all Y to 1 and N to 0, Partial to 0.5\n",
    "\n",
    "df_test['paved_drive'].unique()"
   ]
  },
  {
   "cell_type": "code",
   "execution_count": 148,
   "metadata": {},
   "outputs": [
    {
     "data": {
      "text/plain": [
       "array([0, 1], dtype=int64)"
      ]
     },
     "execution_count": 148,
     "metadata": {},
     "output_type": "execute_result"
    }
   ],
   "source": [
    "df_test['central_air'] = df_test['central_air'].map({'Y':1 , 'N' : 0}) \n",
    "#change all Y to 1 and N to 0\n",
    "df_test['central_air'].unique()"
   ]
  },
  {
   "cell_type": "markdown",
   "metadata": {},
   "source": [
    "From research, house buyers look at\n",
    "1. Remodel age\n",
    "2. Property age\n",
    "3. Total house size aboveground (without basement)"
   ]
  },
  {
   "cell_type": "code",
   "execution_count": 149,
   "metadata": {},
   "outputs": [],
   "source": [
    "df_test['property_age'] = df_test['yr_sold'] - df_test['year_built']"
   ]
  },
  {
   "cell_type": "code",
   "execution_count": 150,
   "metadata": {},
   "outputs": [],
   "source": [
    "df_test['remodel_age'] = df_test['yr_sold'] - df_test['year_remod_add']"
   ]
  },
  {
   "cell_type": "code",
   "execution_count": 151,
   "metadata": {},
   "outputs": [
    {
     "data": {
      "text/plain": [
       "0      1\n",
       "1      0\n",
       "2      1\n",
       "3      1\n",
       "4      1\n",
       "      ..\n",
       "873    1\n",
       "874    1\n",
       "875    1\n",
       "876    0\n",
       "877    0\n",
       "Name: porch_sf, Length: 878, dtype: int64"
      ]
     },
     "execution_count": 151,
     "metadata": {},
     "output_type": "execute_result"
    }
   ],
   "source": [
    "df_test['porch_sf'] = df_test[['open_porch_sf', 'enclosed_porch','3ssn_porch']].sum(axis=1).apply(lambda x: 1 if x > 0 else 0)\n",
    "df_test= df_test.drop(columns = ['open_porch_sf', 'enclosed_porch','3ssn_porch'])\n",
    "df_test['porch_sf']"
   ]
  },
  {
   "cell_type": "code",
   "execution_count": 152,
   "metadata": {},
   "outputs": [],
   "source": [
    "df_test = df_test.drop(columns = ['garage_yr_blt'])"
   ]
  },
  {
   "cell_type": "code",
   "execution_count": 153,
   "metadata": {},
   "outputs": [
    {
     "data": {
      "text/plain": [
       "0      1\n",
       "1      0\n",
       "2      1\n",
       "3      0\n",
       "4      0\n",
       "      ..\n",
       "873    1\n",
       "874    1\n",
       "875    0\n",
       "876    0\n",
       "877    0\n",
       "Name: 2nd_flr_sf, Length: 878, dtype: int64"
      ]
     },
     "execution_count": 153,
     "metadata": {},
     "output_type": "execute_result"
    }
   ],
   "source": [
    "df_test['2nd_flr_sf'].apply(lambda x: 1 if x > 0 else 0)"
   ]
  },
  {
   "cell_type": "code",
   "execution_count": 154,
   "metadata": {},
   "outputs": [],
   "source": [
    "df_test = df_test.drop(columns = ['1st_flr_sf'])"
   ]
  },
  {
   "cell_type": "code",
   "execution_count": 155,
   "metadata": {},
   "outputs": [],
   "source": [
    "df_test = df_test.drop(columns = ['id'])\n",
    "#remove id as it is not useful to predict target price with saleprice"
   ]
  },
  {
   "cell_type": "code",
   "execution_count": 156,
   "metadata": {},
   "outputs": [
    {
     "data": {
      "text/html": [
       "<div>\n",
       "<style scoped>\n",
       "    .dataframe tbody tr th:only-of-type {\n",
       "        vertical-align: middle;\n",
       "    }\n",
       "\n",
       "    .dataframe tbody tr th {\n",
       "        vertical-align: top;\n",
       "    }\n",
       "\n",
       "    .dataframe thead th {\n",
       "        text-align: right;\n",
       "    }\n",
       "</style>\n",
       "<table border=\"1\" class=\"dataframe\">\n",
       "  <thead>\n",
       "    <tr style=\"text-align: right;\">\n",
       "      <th></th>\n",
       "      <th>pid</th>\n",
       "      <th>ms_subclass</th>\n",
       "      <th>ms_zoning</th>\n",
       "      <th>lot_frontage</th>\n",
       "      <th>lot_area</th>\n",
       "      <th>street</th>\n",
       "      <th>alley</th>\n",
       "      <th>lot_shape</th>\n",
       "      <th>land_contour</th>\n",
       "      <th>utilities</th>\n",
       "      <th>...</th>\n",
       "      <th>pool_qc</th>\n",
       "      <th>fence</th>\n",
       "      <th>misc_feature</th>\n",
       "      <th>misc_val</th>\n",
       "      <th>mo_sold</th>\n",
       "      <th>yr_sold</th>\n",
       "      <th>sale_type</th>\n",
       "      <th>property_age</th>\n",
       "      <th>remodel_age</th>\n",
       "      <th>porch_sf</th>\n",
       "    </tr>\n",
       "  </thead>\n",
       "  <tbody>\n",
       "    <tr>\n",
       "      <th>0</th>\n",
       "      <td>902301120</td>\n",
       "      <td>190</td>\n",
       "      <td>RM</td>\n",
       "      <td>69.0</td>\n",
       "      <td>9142</td>\n",
       "      <td>Pave</td>\n",
       "      <td>Grvl</td>\n",
       "      <td>Reg</td>\n",
       "      <td>Lvl</td>\n",
       "      <td>AllPub</td>\n",
       "      <td>...</td>\n",
       "      <td>0</td>\n",
       "      <td>None</td>\n",
       "      <td>None</td>\n",
       "      <td>0</td>\n",
       "      <td>4</td>\n",
       "      <td>2006</td>\n",
       "      <td>WD</td>\n",
       "      <td>96</td>\n",
       "      <td>56</td>\n",
       "      <td>1</td>\n",
       "    </tr>\n",
       "    <tr>\n",
       "      <th>1</th>\n",
       "      <td>905108090</td>\n",
       "      <td>90</td>\n",
       "      <td>RL</td>\n",
       "      <td>0.0</td>\n",
       "      <td>9662</td>\n",
       "      <td>Pave</td>\n",
       "      <td>None</td>\n",
       "      <td>IR1</td>\n",
       "      <td>Lvl</td>\n",
       "      <td>AllPub</td>\n",
       "      <td>...</td>\n",
       "      <td>0</td>\n",
       "      <td>None</td>\n",
       "      <td>None</td>\n",
       "      <td>0</td>\n",
       "      <td>8</td>\n",
       "      <td>2006</td>\n",
       "      <td>WD</td>\n",
       "      <td>29</td>\n",
       "      <td>29</td>\n",
       "      <td>0</td>\n",
       "    </tr>\n",
       "    <tr>\n",
       "      <th>2</th>\n",
       "      <td>528218130</td>\n",
       "      <td>60</td>\n",
       "      <td>RL</td>\n",
       "      <td>58.0</td>\n",
       "      <td>17104</td>\n",
       "      <td>Pave</td>\n",
       "      <td>None</td>\n",
       "      <td>IR1</td>\n",
       "      <td>Lvl</td>\n",
       "      <td>AllPub</td>\n",
       "      <td>...</td>\n",
       "      <td>0</td>\n",
       "      <td>None</td>\n",
       "      <td>None</td>\n",
       "      <td>0</td>\n",
       "      <td>9</td>\n",
       "      <td>2006</td>\n",
       "      <td>New</td>\n",
       "      <td>0</td>\n",
       "      <td>0</td>\n",
       "      <td>1</td>\n",
       "    </tr>\n",
       "    <tr>\n",
       "      <th>3</th>\n",
       "      <td>902207150</td>\n",
       "      <td>30</td>\n",
       "      <td>RM</td>\n",
       "      <td>60.0</td>\n",
       "      <td>8520</td>\n",
       "      <td>Pave</td>\n",
       "      <td>None</td>\n",
       "      <td>Reg</td>\n",
       "      <td>Lvl</td>\n",
       "      <td>AllPub</td>\n",
       "      <td>...</td>\n",
       "      <td>0</td>\n",
       "      <td>None</td>\n",
       "      <td>None</td>\n",
       "      <td>0</td>\n",
       "      <td>7</td>\n",
       "      <td>2007</td>\n",
       "      <td>WD</td>\n",
       "      <td>84</td>\n",
       "      <td>1</td>\n",
       "      <td>1</td>\n",
       "    </tr>\n",
       "    <tr>\n",
       "      <th>4</th>\n",
       "      <td>535105100</td>\n",
       "      <td>20</td>\n",
       "      <td>RL</td>\n",
       "      <td>0.0</td>\n",
       "      <td>9500</td>\n",
       "      <td>Pave</td>\n",
       "      <td>None</td>\n",
       "      <td>IR1</td>\n",
       "      <td>Lvl</td>\n",
       "      <td>AllPub</td>\n",
       "      <td>...</td>\n",
       "      <td>0</td>\n",
       "      <td>None</td>\n",
       "      <td>None</td>\n",
       "      <td>0</td>\n",
       "      <td>7</td>\n",
       "      <td>2009</td>\n",
       "      <td>WD</td>\n",
       "      <td>46</td>\n",
       "      <td>46</td>\n",
       "      <td>1</td>\n",
       "    </tr>\n",
       "  </tbody>\n",
       "</table>\n",
       "<p>5 rows × 77 columns</p>\n",
       "</div>"
      ],
      "text/plain": [
       "         pid  ms_subclass ms_zoning  lot_frontage  lot_area street alley  \\\n",
       "0  902301120          190        RM          69.0      9142   Pave  Grvl   \n",
       "1  905108090           90        RL           0.0      9662   Pave  None   \n",
       "2  528218130           60        RL          58.0     17104   Pave  None   \n",
       "3  902207150           30        RM          60.0      8520   Pave  None   \n",
       "4  535105100           20        RL           0.0      9500   Pave  None   \n",
       "\n",
       "  lot_shape land_contour utilities  ... pool_qc fence misc_feature misc_val  \\\n",
       "0       Reg          Lvl    AllPub  ...       0  None         None        0   \n",
       "1       IR1          Lvl    AllPub  ...       0  None         None        0   \n",
       "2       IR1          Lvl    AllPub  ...       0  None         None        0   \n",
       "3       Reg          Lvl    AllPub  ...       0  None         None        0   \n",
       "4       IR1          Lvl    AllPub  ...       0  None         None        0   \n",
       "\n",
       "  mo_sold yr_sold sale_type  property_age  remodel_age  porch_sf  \n",
       "0       4    2006       WD             96           56         1  \n",
       "1       8    2006       WD             29           29         0  \n",
       "2       9    2006       New             0            0         1  \n",
       "3       7    2007       WD             84            1         1  \n",
       "4       7    2009       WD             46           46         1  \n",
       "\n",
       "[5 rows x 77 columns]"
      ]
     },
     "execution_count": 156,
     "metadata": {},
     "output_type": "execute_result"
    }
   ],
   "source": [
    "df_test.head()"
   ]
  },
  {
   "cell_type": "code",
   "execution_count": 157,
   "metadata": {},
   "outputs": [
    {
     "name": "stdout",
     "output_type": "stream",
     "text": [
      "<class 'pandas.core.frame.DataFrame'>\n",
      "RangeIndex: 878 entries, 0 to 877\n",
      "Data columns (total 77 columns):\n",
      " #   Column           Non-Null Count  Dtype  \n",
      "---  ------           --------------  -----  \n",
      " 0   pid              878 non-null    int64  \n",
      " 1   ms_subclass      878 non-null    int64  \n",
      " 2   ms_zoning        878 non-null    object \n",
      " 3   lot_frontage     878 non-null    float64\n",
      " 4   lot_area         878 non-null    int64  \n",
      " 5   street           878 non-null    object \n",
      " 6   alley            878 non-null    object \n",
      " 7   lot_shape        878 non-null    object \n",
      " 8   land_contour     878 non-null    object \n",
      " 9   utilities        878 non-null    object \n",
      " 10  lot_config       878 non-null    object \n",
      " 11  land_slope       878 non-null    object \n",
      " 12  neighborhood     878 non-null    object \n",
      " 13  condition_1      878 non-null    object \n",
      " 14  condition_2      878 non-null    object \n",
      " 15  bldg_type        878 non-null    object \n",
      " 16  house_style      878 non-null    object \n",
      " 17  overall_qual     878 non-null    int64  \n",
      " 18  overall_cond     878 non-null    int64  \n",
      " 19  year_built       878 non-null    int64  \n",
      " 20  year_remod_add   878 non-null    int64  \n",
      " 21  roof_style       878 non-null    object \n",
      " 22  roof_matl        878 non-null    object \n",
      " 23  exterior_1st     878 non-null    object \n",
      " 24  exterior_2nd     878 non-null    object \n",
      " 25  mas_vnr_type     878 non-null    object \n",
      " 26  mas_vnr_area     878 non-null    float64\n",
      " 27  exter_qual       878 non-null    int64  \n",
      " 28  exter_cond       878 non-null    int64  \n",
      " 29  foundation       878 non-null    object \n",
      " 30  bsmt_qual        878 non-null    int64  \n",
      " 31  bsmt_cond        878 non-null    int64  \n",
      " 32  bsmt_exposure    878 non-null    object \n",
      " 33  bsmtfin_type_1   878 non-null    object \n",
      " 34  bsmtfin_sf_1     878 non-null    int64  \n",
      " 35  bsmtfin_type_2   878 non-null    object \n",
      " 36  bsmtfin_sf_2     878 non-null    int64  \n",
      " 37  bsmt_unf_sf      878 non-null    int64  \n",
      " 38  total_bsmt_sf    878 non-null    int64  \n",
      " 39  heating          878 non-null    object \n",
      " 40  heating_qc       878 non-null    int64  \n",
      " 41  central_air      878 non-null    int64  \n",
      " 42  electrical       878 non-null    object \n",
      " 43  2nd_flr_sf       878 non-null    int64  \n",
      " 44  low_qual_fin_sf  878 non-null    int64  \n",
      " 45  gr_liv_area      878 non-null    int64  \n",
      " 46  bsmt_full_bath   878 non-null    int64  \n",
      " 47  bsmt_half_bath   878 non-null    int64  \n",
      " 48  full_bath        878 non-null    int64  \n",
      " 49  half_bath        878 non-null    int64  \n",
      " 50  bedroom_abvgr    878 non-null    int64  \n",
      " 51  kitchen_abvgr    878 non-null    int64  \n",
      " 52  kitchen_qual     878 non-null    int64  \n",
      " 53  totrms_abvgrd    878 non-null    int64  \n",
      " 54  functional       878 non-null    object \n",
      " 55  fireplaces       878 non-null    int64  \n",
      " 56  fireplace_qu     878 non-null    int64  \n",
      " 57  garage_type      878 non-null    object \n",
      " 58  garage_finish    878 non-null    object \n",
      " 59  garage_cars      878 non-null    int64  \n",
      " 60  garage_area      878 non-null    int64  \n",
      " 61  garage_qual      878 non-null    int64  \n",
      " 62  garage_cond      878 non-null    int64  \n",
      " 63  paved_drive      878 non-null    float64\n",
      " 64  wood_deck_sf     878 non-null    int64  \n",
      " 65  screen_porch     878 non-null    int64  \n",
      " 66  pool_area        878 non-null    int64  \n",
      " 67  pool_qc          878 non-null    int64  \n",
      " 68  fence            878 non-null    object \n",
      " 69  misc_feature     878 non-null    object \n",
      " 70  misc_val         878 non-null    int64  \n",
      " 71  mo_sold          878 non-null    int64  \n",
      " 72  yr_sold          878 non-null    int64  \n",
      " 73  sale_type        878 non-null    object \n",
      " 74  property_age     878 non-null    int64  \n",
      " 75  remodel_age      878 non-null    int64  \n",
      " 76  porch_sf         878 non-null    int64  \n",
      "dtypes: float64(3), int64(44), object(30)\n",
      "memory usage: 528.3+ KB\n"
     ]
    }
   ],
   "source": [
    "df_test.info()"
   ]
  },
  {
   "cell_type": "code",
   "execution_count": 158,
   "metadata": {},
   "outputs": [],
   "source": [
    "df_test.to_csv('data/test_new.csv', index=False)"
   ]
  }
 ],
 "metadata": {
  "colab": {
   "collapsed_sections": [],
   "name": "Project 2 Team 3.ipynb",
   "provenance": []
  },
  "kernelspec": {
   "display_name": "Python 3",
   "language": "python",
   "name": "python3"
  },
  "language_info": {
   "codemirror_mode": {
    "name": "ipython",
    "version": 3
   },
   "file_extension": ".py",
   "mimetype": "text/x-python",
   "name": "python",
   "nbconvert_exporter": "python",
   "pygments_lexer": "ipython3",
   "version": "3.8.8"
  }
 },
 "nbformat": 4,
 "nbformat_minor": 1
}
